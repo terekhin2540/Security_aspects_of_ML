{
 "cells": [
  {
   "cell_type": "code",
   "execution_count": 167,
   "id": "ddbeb821-f4cf-4632-b4ac-1169a7b87b72",
   "metadata": {},
   "outputs": [],
   "source": [
    "import numpy as np\n",
    "import pandas as pd\n",
    "import matplotlib.pyplot as plt"
   ]
  },
  {
   "cell_type": "code",
   "execution_count": 166,
   "id": "aabe55e1",
   "metadata": {},
   "outputs": [],
   "source": [
    "#  ! pip install matplotlib"
   ]
  },
  {
   "cell_type": "code",
   "execution_count": 7,
   "id": "372a39fa-f549-4527-9230-9e68e37a1398",
   "metadata": {},
   "outputs": [
    {
     "name": "stdout",
     "output_type": "stream",
     "text": [
      "total 424\n",
      "drwx------@ 4 terekhind  staff     128 Mar 24 10:37 \u001b[34marchive\u001b[m\u001b[m\n",
      "-rw-r--r--@ 1 terekhind  staff    3196 May 20 22:04 file_for_gpt.csv\n",
      "drwxr-xr-x  4 terekhind  staff     128 May 20 21:52 \u001b[34mhardware_trojan\u001b[m\u001b[m\n",
      "-rw-r--r--@ 1 terekhind  staff  209615 Jun  5 12:40 security_ML_Assign_2.ipynb\n"
     ]
    }
   ],
   "source": [
    "! ls -l"
   ]
  },
  {
   "cell_type": "code",
   "execution_count": 8,
   "id": "ab728e23-1759-49ca-8a3d-cfa9a7cccd6e",
   "metadata": {},
   "outputs": [
    {
     "name": "stderr",
     "output_type": "stream",
     "text": [
      "/var/folders/3v/jtn2l28n5zs3r7hqrp339k900000gn/T/ipykernel_62197/167320011.py:1: DtypeWarning: Columns (92) have mixed types. Specify dtype option on import or set low_memory=False.\n",
      "  df = pd.read_csv('./archive/drebin-215-dataset-5560malware-9476-benign.csv')\n"
     ]
    }
   ],
   "source": [
    "df = pd.read_csv('./archive/drebin-215-dataset-5560malware-9476-benign.csv')"
   ]
  },
  {
   "cell_type": "code",
   "execution_count": 9,
   "id": "65a1533f-16a9-45e4-93f5-c10b721874f6",
   "metadata": {},
   "outputs": [
    {
     "data": {
      "text/plain": [
       "(15036, 216)"
      ]
     },
     "execution_count": 9,
     "metadata": {},
     "output_type": "execute_result"
    }
   ],
   "source": [
    "df.shape"
   ]
  },
  {
   "cell_type": "code",
   "execution_count": 10,
   "id": "c9757d97-1266-4975-8d81-79b8a59b28e9",
   "metadata": {},
   "outputs": [
    {
     "data": {
      "text/html": [
       "<div>\n",
       "<style scoped>\n",
       "    .dataframe tbody tr th:only-of-type {\n",
       "        vertical-align: middle;\n",
       "    }\n",
       "\n",
       "    .dataframe tbody tr th {\n",
       "        vertical-align: top;\n",
       "    }\n",
       "\n",
       "    .dataframe thead th {\n",
       "        text-align: right;\n",
       "    }\n",
       "</style>\n",
       "<table border=\"1\" class=\"dataframe\">\n",
       "  <thead>\n",
       "    <tr style=\"text-align: right;\">\n",
       "      <th></th>\n",
       "      <th>transact</th>\n",
       "      <th>onServiceConnected</th>\n",
       "      <th>bindService</th>\n",
       "      <th>attachInterface</th>\n",
       "      <th>ServiceConnection</th>\n",
       "      <th>android.os.Binder</th>\n",
       "      <th>SEND_SMS</th>\n",
       "      <th>Ljava.lang.Class.getCanonicalName</th>\n",
       "      <th>Ljava.lang.Class.getMethods</th>\n",
       "      <th>Ljava.lang.Class.cast</th>\n",
       "      <th>...</th>\n",
       "      <th>READ_CONTACTS</th>\n",
       "      <th>DEVICE_POWER</th>\n",
       "      <th>HARDWARE_TEST</th>\n",
       "      <th>ACCESS_WIFI_STATE</th>\n",
       "      <th>WRITE_EXTERNAL_STORAGE</th>\n",
       "      <th>ACCESS_FINE_LOCATION</th>\n",
       "      <th>SET_WALLPAPER_HINTS</th>\n",
       "      <th>SET_PREFERRED_APPLICATIONS</th>\n",
       "      <th>WRITE_SECURE_SETTINGS</th>\n",
       "      <th>class</th>\n",
       "    </tr>\n",
       "  </thead>\n",
       "  <tbody>\n",
       "    <tr>\n",
       "      <th>15026</th>\n",
       "      <td>1</td>\n",
       "      <td>1</td>\n",
       "      <td>1</td>\n",
       "      <td>1</td>\n",
       "      <td>1</td>\n",
       "      <td>1</td>\n",
       "      <td>0</td>\n",
       "      <td>1</td>\n",
       "      <td>1</td>\n",
       "      <td>1</td>\n",
       "      <td>...</td>\n",
       "      <td>0</td>\n",
       "      <td>0</td>\n",
       "      <td>0</td>\n",
       "      <td>0</td>\n",
       "      <td>1</td>\n",
       "      <td>0</td>\n",
       "      <td>0</td>\n",
       "      <td>0</td>\n",
       "      <td>0</td>\n",
       "      <td>B</td>\n",
       "    </tr>\n",
       "    <tr>\n",
       "      <th>15027</th>\n",
       "      <td>1</td>\n",
       "      <td>1</td>\n",
       "      <td>1</td>\n",
       "      <td>1</td>\n",
       "      <td>1</td>\n",
       "      <td>1</td>\n",
       "      <td>0</td>\n",
       "      <td>1</td>\n",
       "      <td>1</td>\n",
       "      <td>1</td>\n",
       "      <td>...</td>\n",
       "      <td>0</td>\n",
       "      <td>0</td>\n",
       "      <td>0</td>\n",
       "      <td>1</td>\n",
       "      <td>1</td>\n",
       "      <td>1</td>\n",
       "      <td>0</td>\n",
       "      <td>0</td>\n",
       "      <td>0</td>\n",
       "      <td>B</td>\n",
       "    </tr>\n",
       "    <tr>\n",
       "      <th>15028</th>\n",
       "      <td>1</td>\n",
       "      <td>1</td>\n",
       "      <td>1</td>\n",
       "      <td>1</td>\n",
       "      <td>1</td>\n",
       "      <td>1</td>\n",
       "      <td>0</td>\n",
       "      <td>0</td>\n",
       "      <td>0</td>\n",
       "      <td>0</td>\n",
       "      <td>...</td>\n",
       "      <td>0</td>\n",
       "      <td>0</td>\n",
       "      <td>0</td>\n",
       "      <td>1</td>\n",
       "      <td>1</td>\n",
       "      <td>0</td>\n",
       "      <td>0</td>\n",
       "      <td>0</td>\n",
       "      <td>0</td>\n",
       "      <td>B</td>\n",
       "    </tr>\n",
       "    <tr>\n",
       "      <th>15029</th>\n",
       "      <td>1</td>\n",
       "      <td>1</td>\n",
       "      <td>1</td>\n",
       "      <td>1</td>\n",
       "      <td>1</td>\n",
       "      <td>1</td>\n",
       "      <td>0</td>\n",
       "      <td>1</td>\n",
       "      <td>1</td>\n",
       "      <td>1</td>\n",
       "      <td>...</td>\n",
       "      <td>0</td>\n",
       "      <td>0</td>\n",
       "      <td>0</td>\n",
       "      <td>1</td>\n",
       "      <td>1</td>\n",
       "      <td>1</td>\n",
       "      <td>0</td>\n",
       "      <td>0</td>\n",
       "      <td>0</td>\n",
       "      <td>B</td>\n",
       "    </tr>\n",
       "    <tr>\n",
       "      <th>15030</th>\n",
       "      <td>0</td>\n",
       "      <td>0</td>\n",
       "      <td>0</td>\n",
       "      <td>0</td>\n",
       "      <td>0</td>\n",
       "      <td>0</td>\n",
       "      <td>0</td>\n",
       "      <td>0</td>\n",
       "      <td>0</td>\n",
       "      <td>0</td>\n",
       "      <td>...</td>\n",
       "      <td>1</td>\n",
       "      <td>0</td>\n",
       "      <td>0</td>\n",
       "      <td>1</td>\n",
       "      <td>1</td>\n",
       "      <td>0</td>\n",
       "      <td>0</td>\n",
       "      <td>0</td>\n",
       "      <td>0</td>\n",
       "      <td>B</td>\n",
       "    </tr>\n",
       "    <tr>\n",
       "      <th>15031</th>\n",
       "      <td>1</td>\n",
       "      <td>1</td>\n",
       "      <td>1</td>\n",
       "      <td>1</td>\n",
       "      <td>1</td>\n",
       "      <td>1</td>\n",
       "      <td>0</td>\n",
       "      <td>1</td>\n",
       "      <td>1</td>\n",
       "      <td>1</td>\n",
       "      <td>...</td>\n",
       "      <td>0</td>\n",
       "      <td>0</td>\n",
       "      <td>0</td>\n",
       "      <td>1</td>\n",
       "      <td>1</td>\n",
       "      <td>0</td>\n",
       "      <td>0</td>\n",
       "      <td>0</td>\n",
       "      <td>0</td>\n",
       "      <td>B</td>\n",
       "    </tr>\n",
       "    <tr>\n",
       "      <th>15032</th>\n",
       "      <td>0</td>\n",
       "      <td>0</td>\n",
       "      <td>0</td>\n",
       "      <td>0</td>\n",
       "      <td>0</td>\n",
       "      <td>0</td>\n",
       "      <td>0</td>\n",
       "      <td>0</td>\n",
       "      <td>0</td>\n",
       "      <td>1</td>\n",
       "      <td>...</td>\n",
       "      <td>0</td>\n",
       "      <td>0</td>\n",
       "      <td>0</td>\n",
       "      <td>1</td>\n",
       "      <td>1</td>\n",
       "      <td>0</td>\n",
       "      <td>0</td>\n",
       "      <td>0</td>\n",
       "      <td>0</td>\n",
       "      <td>B</td>\n",
       "    </tr>\n",
       "    <tr>\n",
       "      <th>15033</th>\n",
       "      <td>0</td>\n",
       "      <td>0</td>\n",
       "      <td>0</td>\n",
       "      <td>0</td>\n",
       "      <td>0</td>\n",
       "      <td>0</td>\n",
       "      <td>0</td>\n",
       "      <td>0</td>\n",
       "      <td>0</td>\n",
       "      <td>0</td>\n",
       "      <td>...</td>\n",
       "      <td>0</td>\n",
       "      <td>0</td>\n",
       "      <td>0</td>\n",
       "      <td>1</td>\n",
       "      <td>1</td>\n",
       "      <td>0</td>\n",
       "      <td>0</td>\n",
       "      <td>0</td>\n",
       "      <td>0</td>\n",
       "      <td>B</td>\n",
       "    </tr>\n",
       "    <tr>\n",
       "      <th>15034</th>\n",
       "      <td>1</td>\n",
       "      <td>1</td>\n",
       "      <td>1</td>\n",
       "      <td>1</td>\n",
       "      <td>1</td>\n",
       "      <td>1</td>\n",
       "      <td>0</td>\n",
       "      <td>1</td>\n",
       "      <td>1</td>\n",
       "      <td>1</td>\n",
       "      <td>...</td>\n",
       "      <td>1</td>\n",
       "      <td>0</td>\n",
       "      <td>0</td>\n",
       "      <td>1</td>\n",
       "      <td>1</td>\n",
       "      <td>1</td>\n",
       "      <td>0</td>\n",
       "      <td>0</td>\n",
       "      <td>0</td>\n",
       "      <td>B</td>\n",
       "    </tr>\n",
       "    <tr>\n",
       "      <th>15035</th>\n",
       "      <td>1</td>\n",
       "      <td>1</td>\n",
       "      <td>1</td>\n",
       "      <td>1</td>\n",
       "      <td>1</td>\n",
       "      <td>1</td>\n",
       "      <td>0</td>\n",
       "      <td>1</td>\n",
       "      <td>1</td>\n",
       "      <td>1</td>\n",
       "      <td>...</td>\n",
       "      <td>0</td>\n",
       "      <td>0</td>\n",
       "      <td>0</td>\n",
       "      <td>0</td>\n",
       "      <td>1</td>\n",
       "      <td>1</td>\n",
       "      <td>0</td>\n",
       "      <td>0</td>\n",
       "      <td>0</td>\n",
       "      <td>B</td>\n",
       "    </tr>\n",
       "  </tbody>\n",
       "</table>\n",
       "<p>10 rows × 216 columns</p>\n",
       "</div>"
      ],
      "text/plain": [
       "       transact  onServiceConnected  bindService  attachInterface  \\\n",
       "15026         1                   1            1                1   \n",
       "15027         1                   1            1                1   \n",
       "15028         1                   1            1                1   \n",
       "15029         1                   1            1                1   \n",
       "15030         0                   0            0                0   \n",
       "15031         1                   1            1                1   \n",
       "15032         0                   0            0                0   \n",
       "15033         0                   0            0                0   \n",
       "15034         1                   1            1                1   \n",
       "15035         1                   1            1                1   \n",
       "\n",
       "       ServiceConnection  android.os.Binder  SEND_SMS  \\\n",
       "15026                  1                  1         0   \n",
       "15027                  1                  1         0   \n",
       "15028                  1                  1         0   \n",
       "15029                  1                  1         0   \n",
       "15030                  0                  0         0   \n",
       "15031                  1                  1         0   \n",
       "15032                  0                  0         0   \n",
       "15033                  0                  0         0   \n",
       "15034                  1                  1         0   \n",
       "15035                  1                  1         0   \n",
       "\n",
       "       Ljava.lang.Class.getCanonicalName  Ljava.lang.Class.getMethods  \\\n",
       "15026                                  1                            1   \n",
       "15027                                  1                            1   \n",
       "15028                                  0                            0   \n",
       "15029                                  1                            1   \n",
       "15030                                  0                            0   \n",
       "15031                                  1                            1   \n",
       "15032                                  0                            0   \n",
       "15033                                  0                            0   \n",
       "15034                                  1                            1   \n",
       "15035                                  1                            1   \n",
       "\n",
       "       Ljava.lang.Class.cast  ...  READ_CONTACTS  DEVICE_POWER  HARDWARE_TEST  \\\n",
       "15026                      1  ...              0             0              0   \n",
       "15027                      1  ...              0             0              0   \n",
       "15028                      0  ...              0             0              0   \n",
       "15029                      1  ...              0             0              0   \n",
       "15030                      0  ...              1             0              0   \n",
       "15031                      1  ...              0             0              0   \n",
       "15032                      1  ...              0             0              0   \n",
       "15033                      0  ...              0             0              0   \n",
       "15034                      1  ...              1             0              0   \n",
       "15035                      1  ...              0             0              0   \n",
       "\n",
       "       ACCESS_WIFI_STATE  WRITE_EXTERNAL_STORAGE  ACCESS_FINE_LOCATION  \\\n",
       "15026                  0                       1                     0   \n",
       "15027                  1                       1                     1   \n",
       "15028                  1                       1                     0   \n",
       "15029                  1                       1                     1   \n",
       "15030                  1                       1                     0   \n",
       "15031                  1                       1                     0   \n",
       "15032                  1                       1                     0   \n",
       "15033                  1                       1                     0   \n",
       "15034                  1                       1                     1   \n",
       "15035                  0                       1                     1   \n",
       "\n",
       "       SET_WALLPAPER_HINTS  SET_PREFERRED_APPLICATIONS  WRITE_SECURE_SETTINGS  \\\n",
       "15026                    0                           0                      0   \n",
       "15027                    0                           0                      0   \n",
       "15028                    0                           0                      0   \n",
       "15029                    0                           0                      0   \n",
       "15030                    0                           0                      0   \n",
       "15031                    0                           0                      0   \n",
       "15032                    0                           0                      0   \n",
       "15033                    0                           0                      0   \n",
       "15034                    0                           0                      0   \n",
       "15035                    0                           0                      0   \n",
       "\n",
       "       class  \n",
       "15026      B  \n",
       "15027      B  \n",
       "15028      B  \n",
       "15029      B  \n",
       "15030      B  \n",
       "15031      B  \n",
       "15032      B  \n",
       "15033      B  \n",
       "15034      B  \n",
       "15035      B  \n",
       "\n",
       "[10 rows x 216 columns]"
      ]
     },
     "execution_count": 10,
     "metadata": {},
     "output_type": "execute_result"
    }
   ],
   "source": [
    "df.tail(10)"
   ]
  },
  {
   "attachments": {},
   "cell_type": "markdown",
   "id": "a116eda2-5c20-4e04-9f91-8de052701598",
   "metadata": {},
   "source": [
    "## We can see that in our dataset there are almost 9500 benign malware and around 5500 malicious   "
   ]
  },
  {
   "cell_type": "code",
   "execution_count": 11,
   "id": "6ad3fc6e-25cc-453b-94a8-1846506b4122",
   "metadata": {},
   "outputs": [
    {
     "data": {
      "text/plain": [
       "class\n",
       "B    9476\n",
       "S    5560\n",
       "Name: count, dtype: int64"
      ]
     },
     "execution_count": 11,
     "metadata": {},
     "output_type": "execute_result"
    }
   ],
   "source": [
    "df['class'].value_counts()"
   ]
  },
  {
   "cell_type": "code",
   "execution_count": null,
   "id": "50c711e3-6351-402e-bc16-bf2375631d45",
   "metadata": {},
   "outputs": [],
   "source": []
  },
  {
   "cell_type": "code",
   "execution_count": 12,
   "id": "a5eb7189-3ae4-4c14-80f0-3b7a0fa6d1a0",
   "metadata": {},
   "outputs": [],
   "source": [
    "def convert_target(x):\n",
    "    if x == 'B':\n",
    "        return 0\n",
    "    else:\n",
    "        return 1"
   ]
  },
  {
   "cell_type": "code",
   "execution_count": 13,
   "id": "d718d445-7ed3-4761-ad33-bf48a3a9e931",
   "metadata": {},
   "outputs": [],
   "source": [
    "df['class_conv'] = df['class'].apply(lambda x: convert_target(x))"
   ]
  },
  {
   "cell_type": "code",
   "execution_count": 14,
   "id": "6778d73e-eb73-4f5e-ad49-49e5e2979d62",
   "metadata": {},
   "outputs": [
    {
     "data": {
      "text/plain": [
       "transact                       int64\n",
       "onServiceConnected             int64\n",
       "bindService                    int64\n",
       "attachInterface                int64\n",
       "ServiceConnection              int64\n",
       "                               ...  \n",
       "SET_WALLPAPER_HINTS            int64\n",
       "SET_PREFERRED_APPLICATIONS     int64\n",
       "WRITE_SECURE_SETTINGS          int64\n",
       "class                         object\n",
       "class_conv                     int64\n",
       "Length: 217, dtype: object"
      ]
     },
     "execution_count": 14,
     "metadata": {},
     "output_type": "execute_result"
    }
   ],
   "source": [
    "df.dtypes"
   ]
  },
  {
   "cell_type": "code",
   "execution_count": null,
   "id": "34c7056f-bbb8-4e59-ab57-49107730efe3",
   "metadata": {},
   "outputs": [],
   "source": []
  },
  {
   "cell_type": "code",
   "execution_count": 15,
   "id": "45bff1fc-260d-453d-8b26-68a3ccb89bed",
   "metadata": {},
   "outputs": [],
   "source": [
    "cols = []\n",
    "for i in df.columns:\n",
    "    if i == 'class':\n",
    "        continue\n",
    "    else:\n",
    "        cols.append(i)"
   ]
  },
  {
   "cell_type": "code",
   "execution_count": 16,
   "id": "08d5aaac-ccec-428f-a0ef-9b292a5b9582",
   "metadata": {},
   "outputs": [
    {
     "data": {
      "text/plain": [
       "217"
      ]
     },
     "execution_count": 16,
     "metadata": {},
     "output_type": "execute_result"
    }
   ],
   "source": [
    "len(df.columns)"
   ]
  },
  {
   "cell_type": "code",
   "execution_count": 17,
   "id": "be9ac19d-0ee3-4418-9b6e-fb0a957b3639",
   "metadata": {},
   "outputs": [
    {
     "data": {
      "text/plain": [
       "216"
      ]
     },
     "execution_count": 17,
     "metadata": {},
     "output_type": "execute_result"
    }
   ],
   "source": [
    "len(cols)"
   ]
  },
  {
   "cell_type": "code",
   "execution_count": 18,
   "id": "99024762-399b-43a4-904a-c050769bcc76",
   "metadata": {},
   "outputs": [],
   "source": [
    "df = df[cols]"
   ]
  },
  {
   "cell_type": "code",
   "execution_count": null,
   "id": "2cb949b4-ade0-4cdb-9a33-dc35949ab203",
   "metadata": {},
   "outputs": [],
   "source": []
  },
  {
   "cell_type": "code",
   "execution_count": 19,
   "id": "176034a0-0d6c-4b52-ad0e-3b932d8030f0",
   "metadata": {},
   "outputs": [
    {
     "data": {
      "text/html": [
       "<div>\n",
       "<style scoped>\n",
       "    .dataframe tbody tr th:only-of-type {\n",
       "        vertical-align: middle;\n",
       "    }\n",
       "\n",
       "    .dataframe tbody tr th {\n",
       "        vertical-align: top;\n",
       "    }\n",
       "\n",
       "    .dataframe thead th {\n",
       "        text-align: right;\n",
       "    }\n",
       "</style>\n",
       "<table border=\"1\" class=\"dataframe\">\n",
       "  <thead>\n",
       "    <tr style=\"text-align: right;\">\n",
       "      <th></th>\n",
       "      <th>transact</th>\n",
       "      <th>onServiceConnected</th>\n",
       "      <th>bindService</th>\n",
       "      <th>attachInterface</th>\n",
       "      <th>ServiceConnection</th>\n",
       "      <th>android.os.Binder</th>\n",
       "      <th>SEND_SMS</th>\n",
       "      <th>Ljava.lang.Class.getCanonicalName</th>\n",
       "      <th>Ljava.lang.Class.getMethods</th>\n",
       "      <th>Ljava.lang.Class.cast</th>\n",
       "      <th>...</th>\n",
       "      <th>READ_CONTACTS</th>\n",
       "      <th>DEVICE_POWER</th>\n",
       "      <th>HARDWARE_TEST</th>\n",
       "      <th>ACCESS_WIFI_STATE</th>\n",
       "      <th>WRITE_EXTERNAL_STORAGE</th>\n",
       "      <th>ACCESS_FINE_LOCATION</th>\n",
       "      <th>SET_WALLPAPER_HINTS</th>\n",
       "      <th>SET_PREFERRED_APPLICATIONS</th>\n",
       "      <th>WRITE_SECURE_SETTINGS</th>\n",
       "      <th>class_conv</th>\n",
       "    </tr>\n",
       "  </thead>\n",
       "  <tbody>\n",
       "    <tr>\n",
       "      <th>0</th>\n",
       "      <td>0</td>\n",
       "      <td>0</td>\n",
       "      <td>0</td>\n",
       "      <td>0</td>\n",
       "      <td>0</td>\n",
       "      <td>0</td>\n",
       "      <td>1</td>\n",
       "      <td>0</td>\n",
       "      <td>0</td>\n",
       "      <td>0</td>\n",
       "      <td>...</td>\n",
       "      <td>0</td>\n",
       "      <td>0</td>\n",
       "      <td>0</td>\n",
       "      <td>0</td>\n",
       "      <td>1</td>\n",
       "      <td>0</td>\n",
       "      <td>0</td>\n",
       "      <td>0</td>\n",
       "      <td>0</td>\n",
       "      <td>1</td>\n",
       "    </tr>\n",
       "    <tr>\n",
       "      <th>1</th>\n",
       "      <td>0</td>\n",
       "      <td>0</td>\n",
       "      <td>0</td>\n",
       "      <td>0</td>\n",
       "      <td>0</td>\n",
       "      <td>0</td>\n",
       "      <td>1</td>\n",
       "      <td>0</td>\n",
       "      <td>0</td>\n",
       "      <td>0</td>\n",
       "      <td>...</td>\n",
       "      <td>0</td>\n",
       "      <td>0</td>\n",
       "      <td>0</td>\n",
       "      <td>0</td>\n",
       "      <td>1</td>\n",
       "      <td>0</td>\n",
       "      <td>0</td>\n",
       "      <td>0</td>\n",
       "      <td>0</td>\n",
       "      <td>1</td>\n",
       "    </tr>\n",
       "    <tr>\n",
       "      <th>2</th>\n",
       "      <td>0</td>\n",
       "      <td>0</td>\n",
       "      <td>0</td>\n",
       "      <td>0</td>\n",
       "      <td>0</td>\n",
       "      <td>0</td>\n",
       "      <td>1</td>\n",
       "      <td>0</td>\n",
       "      <td>0</td>\n",
       "      <td>0</td>\n",
       "      <td>...</td>\n",
       "      <td>0</td>\n",
       "      <td>0</td>\n",
       "      <td>0</td>\n",
       "      <td>0</td>\n",
       "      <td>0</td>\n",
       "      <td>0</td>\n",
       "      <td>0</td>\n",
       "      <td>0</td>\n",
       "      <td>0</td>\n",
       "      <td>1</td>\n",
       "    </tr>\n",
       "    <tr>\n",
       "      <th>3</th>\n",
       "      <td>0</td>\n",
       "      <td>0</td>\n",
       "      <td>0</td>\n",
       "      <td>0</td>\n",
       "      <td>0</td>\n",
       "      <td>0</td>\n",
       "      <td>0</td>\n",
       "      <td>0</td>\n",
       "      <td>0</td>\n",
       "      <td>1</td>\n",
       "      <td>...</td>\n",
       "      <td>0</td>\n",
       "      <td>0</td>\n",
       "      <td>0</td>\n",
       "      <td>1</td>\n",
       "      <td>1</td>\n",
       "      <td>1</td>\n",
       "      <td>0</td>\n",
       "      <td>0</td>\n",
       "      <td>0</td>\n",
       "      <td>1</td>\n",
       "    </tr>\n",
       "    <tr>\n",
       "      <th>4</th>\n",
       "      <td>0</td>\n",
       "      <td>0</td>\n",
       "      <td>0</td>\n",
       "      <td>0</td>\n",
       "      <td>0</td>\n",
       "      <td>0</td>\n",
       "      <td>0</td>\n",
       "      <td>0</td>\n",
       "      <td>0</td>\n",
       "      <td>0</td>\n",
       "      <td>...</td>\n",
       "      <td>0</td>\n",
       "      <td>0</td>\n",
       "      <td>0</td>\n",
       "      <td>1</td>\n",
       "      <td>0</td>\n",
       "      <td>1</td>\n",
       "      <td>0</td>\n",
       "      <td>0</td>\n",
       "      <td>0</td>\n",
       "      <td>1</td>\n",
       "    </tr>\n",
       "  </tbody>\n",
       "</table>\n",
       "<p>5 rows × 216 columns</p>\n",
       "</div>"
      ],
      "text/plain": [
       "   transact  onServiceConnected  bindService  attachInterface  \\\n",
       "0         0                   0            0                0   \n",
       "1         0                   0            0                0   \n",
       "2         0                   0            0                0   \n",
       "3         0                   0            0                0   \n",
       "4         0                   0            0                0   \n",
       "\n",
       "   ServiceConnection  android.os.Binder  SEND_SMS  \\\n",
       "0                  0                  0         1   \n",
       "1                  0                  0         1   \n",
       "2                  0                  0         1   \n",
       "3                  0                  0         0   \n",
       "4                  0                  0         0   \n",
       "\n",
       "   Ljava.lang.Class.getCanonicalName  Ljava.lang.Class.getMethods  \\\n",
       "0                                  0                            0   \n",
       "1                                  0                            0   \n",
       "2                                  0                            0   \n",
       "3                                  0                            0   \n",
       "4                                  0                            0   \n",
       "\n",
       "   Ljava.lang.Class.cast  ...  READ_CONTACTS  DEVICE_POWER  HARDWARE_TEST  \\\n",
       "0                      0  ...              0             0              0   \n",
       "1                      0  ...              0             0              0   \n",
       "2                      0  ...              0             0              0   \n",
       "3                      1  ...              0             0              0   \n",
       "4                      0  ...              0             0              0   \n",
       "\n",
       "   ACCESS_WIFI_STATE  WRITE_EXTERNAL_STORAGE  ACCESS_FINE_LOCATION  \\\n",
       "0                  0                       1                     0   \n",
       "1                  0                       1                     0   \n",
       "2                  0                       0                     0   \n",
       "3                  1                       1                     1   \n",
       "4                  1                       0                     1   \n",
       "\n",
       "   SET_WALLPAPER_HINTS  SET_PREFERRED_APPLICATIONS  WRITE_SECURE_SETTINGS  \\\n",
       "0                    0                           0                      0   \n",
       "1                    0                           0                      0   \n",
       "2                    0                           0                      0   \n",
       "3                    0                           0                      0   \n",
       "4                    0                           0                      0   \n",
       "\n",
       "   class_conv  \n",
       "0           1  \n",
       "1           1  \n",
       "2           1  \n",
       "3           1  \n",
       "4           1  \n",
       "\n",
       "[5 rows x 216 columns]"
      ]
     },
     "execution_count": 19,
     "metadata": {},
     "output_type": "execute_result"
    }
   ],
   "source": [
    "df.head()"
   ]
  },
  {
   "cell_type": "code",
   "execution_count": 20,
   "id": "94609ba7-13f6-4ed6-9283-894a953d61ff",
   "metadata": {},
   "outputs": [],
   "source": [
    "df_not_int = df.select_dtypes(exclude='number')"
   ]
  },
  {
   "cell_type": "code",
   "execution_count": 21,
   "id": "e6df0ccb-b9f6-4e67-afc6-e2e407950667",
   "metadata": {},
   "outputs": [
    {
     "data": {
      "text/html": [
       "<div>\n",
       "<style scoped>\n",
       "    .dataframe tbody tr th:only-of-type {\n",
       "        vertical-align: middle;\n",
       "    }\n",
       "\n",
       "    .dataframe tbody tr th {\n",
       "        vertical-align: top;\n",
       "    }\n",
       "\n",
       "    .dataframe thead th {\n",
       "        text-align: right;\n",
       "    }\n",
       "</style>\n",
       "<table border=\"1\" class=\"dataframe\">\n",
       "  <thead>\n",
       "    <tr style=\"text-align: right;\">\n",
       "      <th></th>\n",
       "      <th>TelephonyManager.getSimCountryIso</th>\n",
       "    </tr>\n",
       "  </thead>\n",
       "  <tbody>\n",
       "    <tr>\n",
       "      <th>0</th>\n",
       "      <td>0</td>\n",
       "    </tr>\n",
       "    <tr>\n",
       "      <th>1</th>\n",
       "      <td>0</td>\n",
       "    </tr>\n",
       "    <tr>\n",
       "      <th>2</th>\n",
       "      <td>0</td>\n",
       "    </tr>\n",
       "    <tr>\n",
       "      <th>3</th>\n",
       "      <td>0</td>\n",
       "    </tr>\n",
       "    <tr>\n",
       "      <th>4</th>\n",
       "      <td>0</td>\n",
       "    </tr>\n",
       "  </tbody>\n",
       "</table>\n",
       "</div>"
      ],
      "text/plain": [
       "  TelephonyManager.getSimCountryIso\n",
       "0                                 0\n",
       "1                                 0\n",
       "2                                 0\n",
       "3                                 0\n",
       "4                                 0"
      ]
     },
     "execution_count": 21,
     "metadata": {},
     "output_type": "execute_result"
    }
   ],
   "source": [
    "df_not_int.head()"
   ]
  },
  {
   "attachments": {},
   "cell_type": "markdown",
   "id": "bc6c6def-fc08-4762-ac2a-b93f7cb46066",
   "metadata": {},
   "source": [
    "## Only column 'TelephonyManager.getSimCountryIso' is not numerical"
   ]
  },
  {
   "cell_type": "code",
   "execution_count": 22,
   "id": "b1977465-67ad-4da4-b63f-ad94f9a28a12",
   "metadata": {},
   "outputs": [
    {
     "name": "stdout",
     "output_type": "stream",
     "text": [
      "All values in the dataset are non-Nan\n"
     ]
    }
   ],
   "source": [
    "#Finding the null values in the data set\n",
    "if np.any(df.isna().sum()) > 0:\n",
    "    print('There are Nans in datasets')\n",
    "else:\n",
    "    print('All values in the dataset are non-Nan')"
   ]
  },
  {
   "cell_type": "code",
   "execution_count": 23,
   "id": "33ea17d9-2538-479b-a596-1f11b1f8c77c",
   "metadata": {},
   "outputs": [
    {
     "data": {
      "text/plain": [
       "array(['0', '1', '?', 1, 0], dtype=object)"
      ]
     },
     "execution_count": 23,
     "metadata": {},
     "output_type": "execute_result"
    }
   ],
   "source": [
    "df['TelephonyManager.getSimCountryIso'].unique()"
   ]
  },
  {
   "cell_type": "code",
   "execution_count": 24,
   "id": "f1acd0da-f191-4009-a733-ea1fe9392131",
   "metadata": {},
   "outputs": [
    {
     "data": {
      "text/plain": [
       "TelephonyManager.getSimCountryIso\n",
       "0    6994\n",
       "0    5514\n",
       "1    1330\n",
       "1    1193\n",
       "?       5\n",
       "Name: count, dtype: int64"
      ]
     },
     "execution_count": 24,
     "metadata": {},
     "output_type": "execute_result"
    }
   ],
   "source": [
    "df['TelephonyManager.getSimCountryIso'].value_counts()"
   ]
  },
  {
   "cell_type": "code",
   "execution_count": 25,
   "id": "9853d204-54d6-4ba8-a43f-00286b607e3e",
   "metadata": {},
   "outputs": [],
   "source": [
    "df = df[df['TelephonyManager.getSimCountryIso'] != '?'] \n",
    "df['TelephonyManager.getSimCountryIso'] = df['TelephonyManager.getSimCountryIso'].astype('string')\n",
    "df['TelephonyManager.getSimCountryIso'] = df['TelephonyManager.getSimCountryIso'].astype('int64')"
   ]
  },
  {
   "cell_type": "code",
   "execution_count": 26,
   "id": "78def49d-4da5-4559-b428-7d84fd2f716e",
   "metadata": {},
   "outputs": [
    {
     "data": {
      "text/plain": [
       "array([0, 1])"
      ]
     },
     "execution_count": 26,
     "metadata": {},
     "output_type": "execute_result"
    }
   ],
   "source": [
    "df['TelephonyManager.getSimCountryIso'].unique()"
   ]
  },
  {
   "cell_type": "code",
   "execution_count": 27,
   "id": "6c0d6277-0f36-4073-942c-43efb43ec8b1",
   "metadata": {},
   "outputs": [
    {
     "data": {
      "text/plain": [
       "0        0\n",
       "1        0\n",
       "2        0\n",
       "3        0\n",
       "4        0\n",
       "        ..\n",
       "15031    1\n",
       "15032    0\n",
       "15033    0\n",
       "15034    0\n",
       "15035    1\n",
       "Name: TelephonyManager.getSimCountryIso, Length: 15031, dtype: int64"
      ]
     },
     "execution_count": 27,
     "metadata": {},
     "output_type": "execute_result"
    }
   ],
   "source": [
    "df['TelephonyManager.getSimCountryIso']"
   ]
  },
  {
   "cell_type": "code",
   "execution_count": 28,
   "id": "262fb5c7-1c41-4e24-b883-0829cdcbc9ad",
   "metadata": {},
   "outputs": [
    {
     "data": {
      "text/html": [
       "<div>\n",
       "<style scoped>\n",
       "    .dataframe tbody tr th:only-of-type {\n",
       "        vertical-align: middle;\n",
       "    }\n",
       "\n",
       "    .dataframe tbody tr th {\n",
       "        vertical-align: top;\n",
       "    }\n",
       "\n",
       "    .dataframe thead th {\n",
       "        text-align: right;\n",
       "    }\n",
       "</style>\n",
       "<table border=\"1\" class=\"dataframe\">\n",
       "  <thead>\n",
       "    <tr style=\"text-align: right;\">\n",
       "      <th></th>\n",
       "      <th>transact</th>\n",
       "      <th>onServiceConnected</th>\n",
       "      <th>bindService</th>\n",
       "      <th>attachInterface</th>\n",
       "      <th>ServiceConnection</th>\n",
       "      <th>android.os.Binder</th>\n",
       "      <th>SEND_SMS</th>\n",
       "      <th>Ljava.lang.Class.getCanonicalName</th>\n",
       "      <th>Ljava.lang.Class.getMethods</th>\n",
       "      <th>Ljava.lang.Class.cast</th>\n",
       "      <th>...</th>\n",
       "      <th>READ_CONTACTS</th>\n",
       "      <th>DEVICE_POWER</th>\n",
       "      <th>HARDWARE_TEST</th>\n",
       "      <th>ACCESS_WIFI_STATE</th>\n",
       "      <th>WRITE_EXTERNAL_STORAGE</th>\n",
       "      <th>ACCESS_FINE_LOCATION</th>\n",
       "      <th>SET_WALLPAPER_HINTS</th>\n",
       "      <th>SET_PREFERRED_APPLICATIONS</th>\n",
       "      <th>WRITE_SECURE_SETTINGS</th>\n",
       "      <th>class_conv</th>\n",
       "    </tr>\n",
       "  </thead>\n",
       "  <tbody>\n",
       "    <tr>\n",
       "      <th>0</th>\n",
       "      <td>0</td>\n",
       "      <td>0</td>\n",
       "      <td>0</td>\n",
       "      <td>0</td>\n",
       "      <td>0</td>\n",
       "      <td>0</td>\n",
       "      <td>1</td>\n",
       "      <td>0</td>\n",
       "      <td>0</td>\n",
       "      <td>0</td>\n",
       "      <td>...</td>\n",
       "      <td>0</td>\n",
       "      <td>0</td>\n",
       "      <td>0</td>\n",
       "      <td>0</td>\n",
       "      <td>1</td>\n",
       "      <td>0</td>\n",
       "      <td>0</td>\n",
       "      <td>0</td>\n",
       "      <td>0</td>\n",
       "      <td>1</td>\n",
       "    </tr>\n",
       "    <tr>\n",
       "      <th>1</th>\n",
       "      <td>0</td>\n",
       "      <td>0</td>\n",
       "      <td>0</td>\n",
       "      <td>0</td>\n",
       "      <td>0</td>\n",
       "      <td>0</td>\n",
       "      <td>1</td>\n",
       "      <td>0</td>\n",
       "      <td>0</td>\n",
       "      <td>0</td>\n",
       "      <td>...</td>\n",
       "      <td>0</td>\n",
       "      <td>0</td>\n",
       "      <td>0</td>\n",
       "      <td>0</td>\n",
       "      <td>1</td>\n",
       "      <td>0</td>\n",
       "      <td>0</td>\n",
       "      <td>0</td>\n",
       "      <td>0</td>\n",
       "      <td>1</td>\n",
       "    </tr>\n",
       "    <tr>\n",
       "      <th>2</th>\n",
       "      <td>0</td>\n",
       "      <td>0</td>\n",
       "      <td>0</td>\n",
       "      <td>0</td>\n",
       "      <td>0</td>\n",
       "      <td>0</td>\n",
       "      <td>1</td>\n",
       "      <td>0</td>\n",
       "      <td>0</td>\n",
       "      <td>0</td>\n",
       "      <td>...</td>\n",
       "      <td>0</td>\n",
       "      <td>0</td>\n",
       "      <td>0</td>\n",
       "      <td>0</td>\n",
       "      <td>0</td>\n",
       "      <td>0</td>\n",
       "      <td>0</td>\n",
       "      <td>0</td>\n",
       "      <td>0</td>\n",
       "      <td>1</td>\n",
       "    </tr>\n",
       "  </tbody>\n",
       "</table>\n",
       "<p>3 rows × 216 columns</p>\n",
       "</div>"
      ],
      "text/plain": [
       "   transact  onServiceConnected  bindService  attachInterface  \\\n",
       "0         0                   0            0                0   \n",
       "1         0                   0            0                0   \n",
       "2         0                   0            0                0   \n",
       "\n",
       "   ServiceConnection  android.os.Binder  SEND_SMS  \\\n",
       "0                  0                  0         1   \n",
       "1                  0                  0         1   \n",
       "2                  0                  0         1   \n",
       "\n",
       "   Ljava.lang.Class.getCanonicalName  Ljava.lang.Class.getMethods  \\\n",
       "0                                  0                            0   \n",
       "1                                  0                            0   \n",
       "2                                  0                            0   \n",
       "\n",
       "   Ljava.lang.Class.cast  ...  READ_CONTACTS  DEVICE_POWER  HARDWARE_TEST  \\\n",
       "0                      0  ...              0             0              0   \n",
       "1                      0  ...              0             0              0   \n",
       "2                      0  ...              0             0              0   \n",
       "\n",
       "   ACCESS_WIFI_STATE  WRITE_EXTERNAL_STORAGE  ACCESS_FINE_LOCATION  \\\n",
       "0                  0                       1                     0   \n",
       "1                  0                       1                     0   \n",
       "2                  0                       0                     0   \n",
       "\n",
       "   SET_WALLPAPER_HINTS  SET_PREFERRED_APPLICATIONS  WRITE_SECURE_SETTINGS  \\\n",
       "0                    0                           0                      0   \n",
       "1                    0                           0                      0   \n",
       "2                    0                           0                      0   \n",
       "\n",
       "   class_conv  \n",
       "0           1  \n",
       "1           1  \n",
       "2           1  \n",
       "\n",
       "[3 rows x 216 columns]"
      ]
     },
     "execution_count": 28,
     "metadata": {},
     "output_type": "execute_result"
    }
   ],
   "source": [
    "df.head(3)"
   ]
  },
  {
   "cell_type": "code",
   "execution_count": null,
   "id": "cd537705-0e4b-434b-a5c2-5e9bd8f70864",
   "metadata": {},
   "outputs": [],
   "source": []
  },
  {
   "cell_type": "code",
   "execution_count": null,
   "id": "d5cbda18-5e86-4eb9-90b0-08d6ab89817c",
   "metadata": {},
   "outputs": [],
   "source": []
  },
  {
   "cell_type": "code",
   "execution_count": 29,
   "id": "edb31897-ff0f-422c-b0ed-6e86e72c6123",
   "metadata": {},
   "outputs": [
    {
     "data": {
      "text/plain": [
       "class_conv\n",
       "0    9476\n",
       "1    5555\n",
       "Name: count, dtype: int64"
      ]
     },
     "execution_count": 29,
     "metadata": {},
     "output_type": "execute_result"
    }
   ],
   "source": [
    "df['class_conv'].value_counts()"
   ]
  },
  {
   "cell_type": "code",
   "execution_count": 30,
   "id": "6243aff0-f3fe-4221-8e92-ffd14c28f7d5",
   "metadata": {},
   "outputs": [
    {
     "data": {
      "text/plain": [
       "dtype('int64')"
      ]
     },
     "execution_count": 30,
     "metadata": {},
     "output_type": "execute_result"
    }
   ],
   "source": [
    "df['class_conv'].dtypes"
   ]
  },
  {
   "cell_type": "code",
   "execution_count": 31,
   "id": "00d7e12f-df25-4fd2-8672-59732a3c048d",
   "metadata": {},
   "outputs": [],
   "source": [
    "df = df.astype('Int64')"
   ]
  },
  {
   "attachments": {},
   "cell_type": "markdown",
   "id": "d38e2f71-d739-4a9a-a838-c792b1220644",
   "metadata": {},
   "source": [
    "## Decision Tree Classifier"
   ]
  },
  {
   "cell_type": "code",
   "execution_count": 38,
   "id": "ec22f878-2f9b-4f28-9187-ce7bcc4f596b",
   "metadata": {},
   "outputs": [],
   "source": [
    "from sklearn.tree import DecisionTreeClassifier # Import Decision Tree Classifier\n",
    "from sklearn.model_selection import train_test_split # Import train_test_split function\n",
    "from sklearn import metrics\n",
    "from sklearn.preprocessing import LabelEncoder, MinMaxScaler, StandardScaler"
   ]
  },
  {
   "cell_type": "code",
   "execution_count": 40,
   "id": "9cf59e4e-bdfd-48fa-b4e9-4425852a8259",
   "metadata": {},
   "outputs": [],
   "source": [
    "y = df.class_conv\n",
    "y = y.astype('int') "
   ]
  },
  {
   "cell_type": "code",
   "execution_count": 41,
   "id": "fcbb7d97-79f5-4fa0-a3d2-250ceb6cf68c",
   "metadata": {},
   "outputs": [],
   "source": [
    "X = df.drop(columns=['class_conv'])"
   ]
  },
  {
   "cell_type": "code",
   "execution_count": 42,
   "id": "af79eada-3872-4cb2-ad38-b0549e8dea8b",
   "metadata": {},
   "outputs": [],
   "source": [
    "# scaler = StandardScaler()\n",
    "# scaled_features = scaler.fit_transform(X)\n"
   ]
  },
  {
   "cell_type": "code",
   "execution_count": 43,
   "id": "c6bfd014-3333-43da-b844-010b1f4d1f66",
   "metadata": {},
   "outputs": [
    {
     "data": {
      "text/plain": [
       "Index(['transact', 'onServiceConnected', 'bindService', 'attachInterface',\n",
       "       'ServiceConnection', 'android.os.Binder', 'SEND_SMS',\n",
       "       'Ljava.lang.Class.getCanonicalName', 'Ljava.lang.Class.getMethods',\n",
       "       'Ljava.lang.Class.cast',\n",
       "       ...\n",
       "       'SET_ORIENTATION', 'READ_CONTACTS', 'DEVICE_POWER', 'HARDWARE_TEST',\n",
       "       'ACCESS_WIFI_STATE', 'WRITE_EXTERNAL_STORAGE', 'ACCESS_FINE_LOCATION',\n",
       "       'SET_WALLPAPER_HINTS', 'SET_PREFERRED_APPLICATIONS',\n",
       "       'WRITE_SECURE_SETTINGS'],\n",
       "      dtype='object', length=215)"
      ]
     },
     "execution_count": 43,
     "metadata": {},
     "output_type": "execute_result"
    }
   ],
   "source": [
    "X.columns"
   ]
  },
  {
   "cell_type": "code",
   "execution_count": 44,
   "id": "95b7d32a-10d9-4faa-8997-d95d062293fd",
   "metadata": {},
   "outputs": [],
   "source": [
    "# df_scales = pd.DataFrame(scaled_features, columns=X.columns)"
   ]
  },
  {
   "cell_type": "code",
   "execution_count": 231,
   "id": "7fce6f3e-10fd-49d8-ab8f-10ac5d00d7f4",
   "metadata": {},
   "outputs": [],
   "source": [
    "X_train, X_test, y_train, y_test = train_test_split(X, y, test_size=0.2, random_state=42)\n",
    "X_train, X_eval, y_train, y_eval = train_test_split(X_train, y_train, test_size=0.25, random_state=42)\n"
   ]
  },
  {
   "cell_type": "code",
   "execution_count": 175,
   "id": "15728af4-2fd2-4ae5-b4b5-ea245503eb5b",
   "metadata": {},
   "outputs": [
    {
     "data": {
      "text/html": [
       "<div>\n",
       "<style scoped>\n",
       "    .dataframe tbody tr th:only-of-type {\n",
       "        vertical-align: middle;\n",
       "    }\n",
       "\n",
       "    .dataframe tbody tr th {\n",
       "        vertical-align: top;\n",
       "    }\n",
       "\n",
       "    .dataframe thead th {\n",
       "        text-align: right;\n",
       "    }\n",
       "</style>\n",
       "<table border=\"1\" class=\"dataframe\">\n",
       "  <thead>\n",
       "    <tr style=\"text-align: right;\">\n",
       "      <th></th>\n",
       "      <th>transact</th>\n",
       "      <th>onServiceConnected</th>\n",
       "      <th>bindService</th>\n",
       "      <th>attachInterface</th>\n",
       "      <th>ServiceConnection</th>\n",
       "      <th>android.os.Binder</th>\n",
       "      <th>SEND_SMS</th>\n",
       "      <th>Ljava.lang.Class.getCanonicalName</th>\n",
       "      <th>Ljava.lang.Class.getMethods</th>\n",
       "      <th>Ljava.lang.Class.cast</th>\n",
       "      <th>...</th>\n",
       "      <th>SET_ORIENTATION</th>\n",
       "      <th>READ_CONTACTS</th>\n",
       "      <th>DEVICE_POWER</th>\n",
       "      <th>HARDWARE_TEST</th>\n",
       "      <th>ACCESS_WIFI_STATE</th>\n",
       "      <th>WRITE_EXTERNAL_STORAGE</th>\n",
       "      <th>ACCESS_FINE_LOCATION</th>\n",
       "      <th>SET_WALLPAPER_HINTS</th>\n",
       "      <th>SET_PREFERRED_APPLICATIONS</th>\n",
       "      <th>WRITE_SECURE_SETTINGS</th>\n",
       "    </tr>\n",
       "  </thead>\n",
       "  <tbody>\n",
       "    <tr>\n",
       "      <th>1692</th>\n",
       "      <td>0</td>\n",
       "      <td>0</td>\n",
       "      <td>0</td>\n",
       "      <td>0</td>\n",
       "      <td>0</td>\n",
       "      <td>0</td>\n",
       "      <td>1</td>\n",
       "      <td>0</td>\n",
       "      <td>0</td>\n",
       "      <td>0</td>\n",
       "      <td>...</td>\n",
       "      <td>0</td>\n",
       "      <td>1</td>\n",
       "      <td>0</td>\n",
       "      <td>0</td>\n",
       "      <td>1</td>\n",
       "      <td>0</td>\n",
       "      <td>0</td>\n",
       "      <td>0</td>\n",
       "      <td>0</td>\n",
       "      <td>0</td>\n",
       "    </tr>\n",
       "    <tr>\n",
       "      <th>9922</th>\n",
       "      <td>1</td>\n",
       "      <td>1</td>\n",
       "      <td>1</td>\n",
       "      <td>1</td>\n",
       "      <td>1</td>\n",
       "      <td>1</td>\n",
       "      <td>0</td>\n",
       "      <td>1</td>\n",
       "      <td>0</td>\n",
       "      <td>1</td>\n",
       "      <td>...</td>\n",
       "      <td>0</td>\n",
       "      <td>0</td>\n",
       "      <td>0</td>\n",
       "      <td>0</td>\n",
       "      <td>1</td>\n",
       "      <td>1</td>\n",
       "      <td>1</td>\n",
       "      <td>0</td>\n",
       "      <td>0</td>\n",
       "      <td>0</td>\n",
       "    </tr>\n",
       "    <tr>\n",
       "      <th>10361</th>\n",
       "      <td>0</td>\n",
       "      <td>0</td>\n",
       "      <td>0</td>\n",
       "      <td>0</td>\n",
       "      <td>0</td>\n",
       "      <td>0</td>\n",
       "      <td>0</td>\n",
       "      <td>0</td>\n",
       "      <td>0</td>\n",
       "      <td>0</td>\n",
       "      <td>...</td>\n",
       "      <td>0</td>\n",
       "      <td>0</td>\n",
       "      <td>0</td>\n",
       "      <td>0</td>\n",
       "      <td>0</td>\n",
       "      <td>0</td>\n",
       "      <td>0</td>\n",
       "      <td>0</td>\n",
       "      <td>0</td>\n",
       "      <td>0</td>\n",
       "    </tr>\n",
       "    <tr>\n",
       "      <th>7389</th>\n",
       "      <td>1</td>\n",
       "      <td>0</td>\n",
       "      <td>0</td>\n",
       "      <td>1</td>\n",
       "      <td>0</td>\n",
       "      <td>1</td>\n",
       "      <td>0</td>\n",
       "      <td>0</td>\n",
       "      <td>0</td>\n",
       "      <td>0</td>\n",
       "      <td>...</td>\n",
       "      <td>0</td>\n",
       "      <td>0</td>\n",
       "      <td>0</td>\n",
       "      <td>0</td>\n",
       "      <td>0</td>\n",
       "      <td>0</td>\n",
       "      <td>0</td>\n",
       "      <td>0</td>\n",
       "      <td>0</td>\n",
       "      <td>0</td>\n",
       "    </tr>\n",
       "    <tr>\n",
       "      <th>6326</th>\n",
       "      <td>0</td>\n",
       "      <td>0</td>\n",
       "      <td>0</td>\n",
       "      <td>0</td>\n",
       "      <td>0</td>\n",
       "      <td>0</td>\n",
       "      <td>0</td>\n",
       "      <td>0</td>\n",
       "      <td>0</td>\n",
       "      <td>0</td>\n",
       "      <td>...</td>\n",
       "      <td>0</td>\n",
       "      <td>0</td>\n",
       "      <td>0</td>\n",
       "      <td>0</td>\n",
       "      <td>0</td>\n",
       "      <td>1</td>\n",
       "      <td>1</td>\n",
       "      <td>0</td>\n",
       "      <td>0</td>\n",
       "      <td>0</td>\n",
       "    </tr>\n",
       "    <tr>\n",
       "      <th>...</th>\n",
       "      <td>...</td>\n",
       "      <td>...</td>\n",
       "      <td>...</td>\n",
       "      <td>...</td>\n",
       "      <td>...</td>\n",
       "      <td>...</td>\n",
       "      <td>...</td>\n",
       "      <td>...</td>\n",
       "      <td>...</td>\n",
       "      <td>...</td>\n",
       "      <td>...</td>\n",
       "      <td>...</td>\n",
       "      <td>...</td>\n",
       "      <td>...</td>\n",
       "      <td>...</td>\n",
       "      <td>...</td>\n",
       "      <td>...</td>\n",
       "      <td>...</td>\n",
       "      <td>...</td>\n",
       "      <td>...</td>\n",
       "      <td>...</td>\n",
       "    </tr>\n",
       "    <tr>\n",
       "      <th>8797</th>\n",
       "      <td>1</td>\n",
       "      <td>1</td>\n",
       "      <td>1</td>\n",
       "      <td>1</td>\n",
       "      <td>1</td>\n",
       "      <td>1</td>\n",
       "      <td>1</td>\n",
       "      <td>0</td>\n",
       "      <td>0</td>\n",
       "      <td>1</td>\n",
       "      <td>...</td>\n",
       "      <td>0</td>\n",
       "      <td>1</td>\n",
       "      <td>0</td>\n",
       "      <td>0</td>\n",
       "      <td>1</td>\n",
       "      <td>1</td>\n",
       "      <td>1</td>\n",
       "      <td>0</td>\n",
       "      <td>0</td>\n",
       "      <td>0</td>\n",
       "    </tr>\n",
       "    <tr>\n",
       "      <th>10999</th>\n",
       "      <td>1</td>\n",
       "      <td>1</td>\n",
       "      <td>1</td>\n",
       "      <td>1</td>\n",
       "      <td>1</td>\n",
       "      <td>1</td>\n",
       "      <td>0</td>\n",
       "      <td>1</td>\n",
       "      <td>1</td>\n",
       "      <td>0</td>\n",
       "      <td>...</td>\n",
       "      <td>0</td>\n",
       "      <td>0</td>\n",
       "      <td>0</td>\n",
       "      <td>0</td>\n",
       "      <td>0</td>\n",
       "      <td>1</td>\n",
       "      <td>0</td>\n",
       "      <td>0</td>\n",
       "      <td>0</td>\n",
       "      <td>0</td>\n",
       "    </tr>\n",
       "    <tr>\n",
       "      <th>499</th>\n",
       "      <td>0</td>\n",
       "      <td>0</td>\n",
       "      <td>0</td>\n",
       "      <td>0</td>\n",
       "      <td>0</td>\n",
       "      <td>0</td>\n",
       "      <td>0</td>\n",
       "      <td>0</td>\n",
       "      <td>0</td>\n",
       "      <td>0</td>\n",
       "      <td>...</td>\n",
       "      <td>0</td>\n",
       "      <td>0</td>\n",
       "      <td>0</td>\n",
       "      <td>0</td>\n",
       "      <td>0</td>\n",
       "      <td>0</td>\n",
       "      <td>0</td>\n",
       "      <td>0</td>\n",
       "      <td>0</td>\n",
       "      <td>0</td>\n",
       "    </tr>\n",
       "    <tr>\n",
       "      <th>2676</th>\n",
       "      <td>0</td>\n",
       "      <td>0</td>\n",
       "      <td>0</td>\n",
       "      <td>0</td>\n",
       "      <td>0</td>\n",
       "      <td>0</td>\n",
       "      <td>0</td>\n",
       "      <td>0</td>\n",
       "      <td>0</td>\n",
       "      <td>0</td>\n",
       "      <td>...</td>\n",
       "      <td>0</td>\n",
       "      <td>1</td>\n",
       "      <td>0</td>\n",
       "      <td>0</td>\n",
       "      <td>1</td>\n",
       "      <td>0</td>\n",
       "      <td>1</td>\n",
       "      <td>0</td>\n",
       "      <td>0</td>\n",
       "      <td>0</td>\n",
       "    </tr>\n",
       "    <tr>\n",
       "      <th>5290</th>\n",
       "      <td>0</td>\n",
       "      <td>0</td>\n",
       "      <td>0</td>\n",
       "      <td>0</td>\n",
       "      <td>0</td>\n",
       "      <td>0</td>\n",
       "      <td>1</td>\n",
       "      <td>0</td>\n",
       "      <td>0</td>\n",
       "      <td>0</td>\n",
       "      <td>...</td>\n",
       "      <td>0</td>\n",
       "      <td>1</td>\n",
       "      <td>0</td>\n",
       "      <td>0</td>\n",
       "      <td>1</td>\n",
       "      <td>0</td>\n",
       "      <td>0</td>\n",
       "      <td>0</td>\n",
       "      <td>0</td>\n",
       "      <td>0</td>\n",
       "    </tr>\n",
       "  </tbody>\n",
       "</table>\n",
       "<p>9018 rows × 215 columns</p>\n",
       "</div>"
      ],
      "text/plain": [
       "       transact  onServiceConnected  bindService  attachInterface  \\\n",
       "1692          0                   0            0                0   \n",
       "9922          1                   1            1                1   \n",
       "10361         0                   0            0                0   \n",
       "7389          1                   0            0                1   \n",
       "6326          0                   0            0                0   \n",
       "...         ...                 ...          ...              ...   \n",
       "8797          1                   1            1                1   \n",
       "10999         1                   1            1                1   \n",
       "499           0                   0            0                0   \n",
       "2676          0                   0            0                0   \n",
       "5290          0                   0            0                0   \n",
       "\n",
       "       ServiceConnection  android.os.Binder  SEND_SMS  \\\n",
       "1692                   0                  0         1   \n",
       "9922                   1                  1         0   \n",
       "10361                  0                  0         0   \n",
       "7389                   0                  1         0   \n",
       "6326                   0                  0         0   \n",
       "...                  ...                ...       ...   \n",
       "8797                   1                  1         1   \n",
       "10999                  1                  1         0   \n",
       "499                    0                  0         0   \n",
       "2676                   0                  0         0   \n",
       "5290                   0                  0         1   \n",
       "\n",
       "       Ljava.lang.Class.getCanonicalName  Ljava.lang.Class.getMethods  \\\n",
       "1692                                   0                            0   \n",
       "9922                                   1                            0   \n",
       "10361                                  0                            0   \n",
       "7389                                   0                            0   \n",
       "6326                                   0                            0   \n",
       "...                                  ...                          ...   \n",
       "8797                                   0                            0   \n",
       "10999                                  1                            1   \n",
       "499                                    0                            0   \n",
       "2676                                   0                            0   \n",
       "5290                                   0                            0   \n",
       "\n",
       "       Ljava.lang.Class.cast  ...  SET_ORIENTATION  READ_CONTACTS  \\\n",
       "1692                       0  ...                0              1   \n",
       "9922                       1  ...                0              0   \n",
       "10361                      0  ...                0              0   \n",
       "7389                       0  ...                0              0   \n",
       "6326                       0  ...                0              0   \n",
       "...                      ...  ...              ...            ...   \n",
       "8797                       1  ...                0              1   \n",
       "10999                      0  ...                0              0   \n",
       "499                        0  ...                0              0   \n",
       "2676                       0  ...                0              1   \n",
       "5290                       0  ...                0              1   \n",
       "\n",
       "       DEVICE_POWER  HARDWARE_TEST  ACCESS_WIFI_STATE  WRITE_EXTERNAL_STORAGE  \\\n",
       "1692              0              0                  1                       0   \n",
       "9922              0              0                  1                       1   \n",
       "10361             0              0                  0                       0   \n",
       "7389              0              0                  0                       0   \n",
       "6326              0              0                  0                       1   \n",
       "...             ...            ...                ...                     ...   \n",
       "8797              0              0                  1                       1   \n",
       "10999             0              0                  0                       1   \n",
       "499               0              0                  0                       0   \n",
       "2676              0              0                  1                       0   \n",
       "5290              0              0                  1                       0   \n",
       "\n",
       "       ACCESS_FINE_LOCATION  SET_WALLPAPER_HINTS  SET_PREFERRED_APPLICATIONS  \\\n",
       "1692                      0                    0                           0   \n",
       "9922                      1                    0                           0   \n",
       "10361                     0                    0                           0   \n",
       "7389                      0                    0                           0   \n",
       "6326                      1                    0                           0   \n",
       "...                     ...                  ...                         ...   \n",
       "8797                      1                    0                           0   \n",
       "10999                     0                    0                           0   \n",
       "499                       0                    0                           0   \n",
       "2676                      1                    0                           0   \n",
       "5290                      0                    0                           0   \n",
       "\n",
       "       WRITE_SECURE_SETTINGS  \n",
       "1692                       0  \n",
       "9922                       0  \n",
       "10361                      0  \n",
       "7389                       0  \n",
       "6326                       0  \n",
       "...                      ...  \n",
       "8797                       0  \n",
       "10999                      0  \n",
       "499                        0  \n",
       "2676                       0  \n",
       "5290                       0  \n",
       "\n",
       "[9018 rows x 215 columns]"
      ]
     },
     "execution_count": 175,
     "metadata": {},
     "output_type": "execute_result"
    }
   ],
   "source": [
    "X_train"
   ]
  },
  {
   "cell_type": "code",
   "execution_count": 176,
   "id": "b6aeb003-3801-46c0-80ad-add6462a41ca",
   "metadata": {},
   "outputs": [
    {
     "data": {
      "text/plain": [
       "Index(['transact', 'onServiceConnected', 'bindService', 'attachInterface',\n",
       "       'ServiceConnection', 'android.os.Binder', 'SEND_SMS',\n",
       "       'Ljava.lang.Class.getCanonicalName', 'Ljava.lang.Class.getMethods',\n",
       "       'Ljava.lang.Class.cast',\n",
       "       ...\n",
       "       'SET_ORIENTATION', 'READ_CONTACTS', 'DEVICE_POWER', 'HARDWARE_TEST',\n",
       "       'ACCESS_WIFI_STATE', 'WRITE_EXTERNAL_STORAGE', 'ACCESS_FINE_LOCATION',\n",
       "       'SET_WALLPAPER_HINTS', 'SET_PREFERRED_APPLICATIONS',\n",
       "       'WRITE_SECURE_SETTINGS'],\n",
       "      dtype='object', length=215)"
      ]
     },
     "execution_count": 176,
     "metadata": {},
     "output_type": "execute_result"
    }
   ],
   "source": [
    "X_train.columns"
   ]
  },
  {
   "cell_type": "code",
   "execution_count": 177,
   "id": "27c4ffec-acb2-40db-b020-60839c4b864f",
   "metadata": {},
   "outputs": [
    {
     "data": {
      "text/plain": [
       "1692     1\n",
       "9922     0\n",
       "10361    0\n",
       "7389     0\n",
       "6326     0\n",
       "        ..\n",
       "8797     0\n",
       "10999    0\n",
       "499      1\n",
       "2676     1\n",
       "5290     1\n",
       "Name: class_conv, Length: 9018, dtype: int64"
      ]
     },
     "execution_count": 177,
     "metadata": {},
     "output_type": "execute_result"
    }
   ],
   "source": [
    "y_train"
   ]
  },
  {
   "cell_type": "code",
   "execution_count": 178,
   "id": "fe261289",
   "metadata": {},
   "outputs": [],
   "source": [
    "max_depths = list(range(1, 21))\n",
    "train_accuracies, eval_accuracies = [], []"
   ]
  },
  {
   "cell_type": "code",
   "execution_count": 179,
   "id": "9696ea61",
   "metadata": {},
   "outputs": [],
   "source": [
    "for max_depth in max_depths:\n",
    "    clf = DecisionTreeClassifier(max_depth=max_depth)\n",
    "\n",
    "    clf = clf.fit(X_train, y_train)\n",
    "\n",
    "    y_train_pred = clf.predict(X_train)\n",
    "    train_accuracy = metrics.accuracy_score(y_train, y_train_pred)\n",
    "    train_accuracies.append(train_accuracy)\n",
    "\n",
    "    y_eval_pred = clf.predict(X_eval)\n",
    "    eval_accuracy = metrics.accuracy_score(y_eval, y_eval_pred)\n",
    "    eval_accuracies.append(eval_accuracy)\n"
   ]
  },
  {
   "cell_type": "code",
   "execution_count": 180,
   "id": "d4952128",
   "metadata": {},
   "outputs": [
    {
     "data": {
      "image/png": "[encoded data removed]",
      "text/plain": [
       "<Figure size 1000x500 with 1 Axes>"
      ]
     },
     "metadata": {},
     "output_type": "display_data"
    }
   ],
   "source": [
    "plt.figure(figsize=(10, 5))\n",
    "plt.plot(max_depths, train_accuracies, label='Training Accuracy')\n",
    "plt.plot(max_depths, eval_accuracies, label='Evaluation Accuracy')\n",
    "plt.xlabel('Max Depth')\n",
    "plt.ylabel('Accuracy')\n",
    "plt.legend()\n",
    "plt.title('Training Curve - Decision Tree Classifier')\n",
    "plt.show()"
   ]
  },
  {
   "cell_type": "code",
   "execution_count": 215,
   "id": "5e226fe0-01a4-4cd0-87ac-6bab3c69a6bb",
   "metadata": {},
   "outputs": [],
   "source": [
    "clf = DecisionTreeClassifier(max_depth = 11)\n",
    "\n",
    "clf = clf.fit(X_train,y_train)"
   ]
  },
  {
   "cell_type": "code",
   "execution_count": 220,
   "id": "71309fc2-26d0-428f-97fd-3e635c76cc6f",
   "metadata": {},
   "outputs": [
    {
     "name": "stdout",
     "output_type": "stream",
     "text": [
      "Eval data\n",
      "Accuracy: 0.9604125083166999\n",
      "Precision: 0.9459459459459459\n",
      "Recall: 0.9433085501858736\n",
      "F1 score: 0.9604002480776496\n"
     ]
    }
   ],
   "source": [
    "\n",
    "y_pred = clf.predict(X_eval)\n",
    "print('Eval data')\n",
    "print(\"Accuracy:\",metrics.accuracy_score(y_eval, y_pred))\n",
    "print(\"Precision:\",metrics.precision_score(y_eval, y_pred))\n",
    "print(\"Recall:\",metrics.recall_score(y_eval, y_pred))\n",
    "print(\"F1 score:\",metrics.f1_score(y_eval, y_pred,  average='weighted'))"
   ]
  },
  {
   "cell_type": "code",
   "execution_count": 219,
   "id": "3c208afa-69b6-4a32-9ac8-5919f3942a2e",
   "metadata": {},
   "outputs": [
    {
     "name": "stdout",
     "output_type": "stream",
     "text": [
      "Test data\n",
      "Accuracy: 0.9557698703026272\n",
      "Precision: 0.9442446043165468\n",
      "Recall: 0.936663693131133\n",
      "F1 score: 0.955733377578622\n"
     ]
    }
   ],
   "source": [
    "\n",
    "y_pred = clf.predict(X_test)\n",
    "print('Test data')\n",
    "print(\"Accuracy:\",metrics.accuracy_score(y_test, y_pred))\n",
    "print(\"Precision:\",metrics.precision_score(y_test, y_pred))\n",
    "print(\"Recall:\",metrics.recall_score(y_test, y_pred))\n",
    "print(\"F1 score:\",metrics.f1_score(y_test, y_pred,  average='weighted'))"
   ]
  },
  {
   "cell_type": "code",
   "execution_count": null,
   "id": "bfe5a97e-f280-4e55-b258-f717b9f63b41",
   "metadata": {},
   "outputs": [],
   "source": []
  },
  {
   "cell_type": "code",
   "execution_count": 184,
   "id": "1455c53c-b3ce-45f8-bb5b-cffb4f013a78",
   "metadata": {},
   "outputs": [
    {
     "data": {
      "text/plain": [
       "array([[1827,   59],\n",
       "       [  69, 1052]])"
      ]
     },
     "execution_count": 184,
     "metadata": {},
     "output_type": "execute_result"
    }
   ],
   "source": [
    "metrics.confusion_matrix(y_test, y_pred)"
   ]
  },
  {
   "cell_type": "code",
   "execution_count": 185,
   "id": "30a0fb2c-8112-45e6-acc5-8186907496dc",
   "metadata": {},
   "outputs": [],
   "source": [
    "importances_sk = clf.feature_importances_"
   ]
  },
  {
   "cell_type": "code",
   "execution_count": 186,
   "id": "1e9900ae-7c59-46ed-8f53-bbd05cb58c17",
   "metadata": {},
   "outputs": [],
   "source": [
    "feature_importance = pd.DataFrame(importances_sk, X_train.columns).reset_index()"
   ]
  },
  {
   "cell_type": "code",
   "execution_count": 187,
   "id": "7df1b383-9de7-40b9-a06b-0f69228df0eb",
   "metadata": {},
   "outputs": [],
   "source": [
    "columns=['features', 'importance']"
   ]
  },
  {
   "cell_type": "code",
   "execution_count": 188,
   "id": "3334f2f9-f54b-4150-a447-24dbc835a3cd",
   "metadata": {},
   "outputs": [],
   "source": [
    "feature_importance.columns = columns"
   ]
  },
  {
   "cell_type": "code",
   "execution_count": 189,
   "id": "399503aa-bea5-4674-a84b-0988b2a230c7",
   "metadata": {},
   "outputs": [
    {
     "data": {
      "text/html": [
       "<div>\n",
       "<style scoped>\n",
       "    .dataframe tbody tr th:only-of-type {\n",
       "        vertical-align: middle;\n",
       "    }\n",
       "\n",
       "    .dataframe tbody tr th {\n",
       "        vertical-align: top;\n",
       "    }\n",
       "\n",
       "    .dataframe thead th {\n",
       "        text-align: right;\n",
       "    }\n",
       "</style>\n",
       "<table border=\"1\" class=\"dataframe\">\n",
       "  <thead>\n",
       "    <tr style=\"text-align: right;\">\n",
       "      <th></th>\n",
       "      <th>features</th>\n",
       "      <th>importance</th>\n",
       "    </tr>\n",
       "  </thead>\n",
       "  <tbody>\n",
       "    <tr>\n",
       "      <th>0</th>\n",
       "      <td>transact</td>\n",
       "      <td>0.350758</td>\n",
       "    </tr>\n",
       "    <tr>\n",
       "      <th>13</th>\n",
       "      <td>READ_PHONE_STATE</td>\n",
       "      <td>0.222790</td>\n",
       "    </tr>\n",
       "    <tr>\n",
       "      <th>6</th>\n",
       "      <td>SEND_SMS</td>\n",
       "      <td>0.107895</td>\n",
       "    </tr>\n",
       "    <tr>\n",
       "      <th>68</th>\n",
       "      <td>TelephonyManager.getDeviceId</td>\n",
       "      <td>0.043773</td>\n",
       "    </tr>\n",
       "    <tr>\n",
       "      <th>7</th>\n",
       "      <td>Ljava.lang.Class.getCanonicalName</td>\n",
       "      <td>0.026714</td>\n",
       "    </tr>\n",
       "    <tr>\n",
       "      <th>15</th>\n",
       "      <td>ClassLoader</td>\n",
       "      <td>0.022185</td>\n",
       "    </tr>\n",
       "    <tr>\n",
       "      <th>41</th>\n",
       "      <td>android.telephony.gsm.SmsManager</td>\n",
       "      <td>0.017499</td>\n",
       "    </tr>\n",
       "    <tr>\n",
       "      <th>55</th>\n",
       "      <td>android.intent.action.SEND_MULTIPLE</td>\n",
       "      <td>0.013639</td>\n",
       "    </tr>\n",
       "    <tr>\n",
       "      <th>8</th>\n",
       "      <td>Ljava.lang.Class.getMethods</td>\n",
       "      <td>0.012331</td>\n",
       "    </tr>\n",
       "    <tr>\n",
       "      <th>204</th>\n",
       "      <td>CLEAR_APP_CACHE</td>\n",
       "      <td>0.012080</td>\n",
       "    </tr>\n",
       "  </tbody>\n",
       "</table>\n",
       "</div>"
      ],
      "text/plain": [
       "                                features  importance\n",
       "0                               transact    0.350758\n",
       "13                      READ_PHONE_STATE    0.222790\n",
       "6                               SEND_SMS    0.107895\n",
       "68          TelephonyManager.getDeviceId    0.043773\n",
       "7      Ljava.lang.Class.getCanonicalName    0.026714\n",
       "15                           ClassLoader    0.022185\n",
       "41      android.telephony.gsm.SmsManager    0.017499\n",
       "55   android.intent.action.SEND_MULTIPLE    0.013639\n",
       "8            Ljava.lang.Class.getMethods    0.012331\n",
       "204                      CLEAR_APP_CACHE    0.012080"
      ]
     },
     "execution_count": 189,
     "metadata": {},
     "output_type": "execute_result"
    }
   ],
   "source": [
    "feature_importance.sort_values(ascending=False, by='importance')[:10]"
   ]
  },
  {
   "cell_type": "code",
   "execution_count": 190,
   "id": "630e520e-568e-4be6-b388-45fccf5afd58",
   "metadata": {},
   "outputs": [
    {
     "data": {
      "text/plain": [
       "(215, 2)"
      ]
     },
     "execution_count": 190,
     "metadata": {},
     "output_type": "execute_result"
    }
   ],
   "source": [
    "feature_importance.shape"
   ]
  },
  {
   "attachments": {},
   "cell_type": "markdown",
   "id": "4f30ed2f-b5bb-4bcb-abd5-b2c979c56e49",
   "metadata": {},
   "source": [
    "## We can see that first 3 rows have 0.35 + 0.22 + 0.1 = 0.67 of importance out of 215 features"
   ]
  },
  {
   "cell_type": "code",
   "execution_count": null,
   "id": "c937478d-b20d-4b5a-939c-878f77bfc7ea",
   "metadata": {},
   "outputs": [],
   "source": []
  },
  {
   "attachments": {},
   "cell_type": "markdown",
   "id": "a4138569-00ea-420e-9c57-1d2fb453849c",
   "metadata": {},
   "source": [
    "## Naive Bayes classifier "
   ]
  },
  {
   "cell_type": "code",
   "execution_count": 232,
   "id": "bc8e03b3-13b8-437e-96bc-7c514fb6cdb5",
   "metadata": {},
   "outputs": [],
   "source": [
    "from sklearn.naive_bayes import GaussianNB\n",
    "from sklearn.model_selection import cross_validate, StratifiedKFold\n",
    "from sklearn.naive_bayes import GaussianNB\n",
    "from sklearn.metrics import make_scorer, accuracy_score, precision_score, recall_score, f1_score\n"
   ]
  },
  {
   "cell_type": "code",
   "execution_count": 233,
   "id": "ba555e21-92f3-431e-930a-e6942bcc4eca",
   "metadata": {},
   "outputs": [],
   "source": [
    "gnb = GaussianNB()"
   ]
  },
  {
   "cell_type": "code",
   "execution_count": 234,
   "id": "99486461-d8cc-4b00-a600-cdea95bead3a",
   "metadata": {},
   "outputs": [
    {
     "data": {
      "text/html": [
       "<style>#sk-container-id-11 {color: black;background-color: white;}#sk-container-id-11 pre{padding: 0;}#sk-container-id-11 div.sk-toggleable {background-color: white;}#sk-container-id-11 label.sk-toggleable__label {cursor: pointer;display: block;width: 100%;margin-bottom: 0;padding: 0.3em;box-sizing: border-box;text-align: center;}#sk-container-id-11 label.sk-toggleable__label-arrow:before {content: \"▸\";float: left;margin-right: 0.25em;color: #696969;}#sk-container-id-11 label.sk-toggleable__label-arrow:hover:before {color: black;}#sk-container-id-11 div.sk-estimator:hover label.sk-toggleable__label-arrow:before {color: black;}#sk-container-id-11 div.sk-toggleable__content {max-height: 0;max-width: 0;overflow: hidden;text-align: left;background-color: #f0f8ff;}#sk-container-id-11 div.sk-toggleable__content pre {margin: 0.2em;color: black;border-radius: 0.25em;background-color: #f0f8ff;}#sk-container-id-11 input.sk-toggleable__control:checked~div.sk-toggleable__content {max-height: 200px;max-width: 100%;overflow: auto;}#sk-container-id-11 input.sk-toggleable__control:checked~label.sk-toggleable__label-arrow:before {content: \"▾\";}#sk-container-id-11 div.sk-estimator input.sk-toggleable__control:checked~label.sk-toggleable__label {background-color: #d4ebff;}#sk-container-id-11 div.sk-label input.sk-toggleable__control:checked~label.sk-toggleable__label {background-color: #d4ebff;}#sk-container-id-11 input.sk-hidden--visually {border: 0;clip: rect(1px 1px 1px 1px);clip: rect(1px, 1px, 1px, 1px);height: 1px;margin: -1px;overflow: hidden;padding: 0;position: absolute;width: 1px;}#sk-container-id-11 div.sk-estimator {font-family: monospace;background-color: #f0f8ff;border: 1px dotted black;border-radius: 0.25em;box-sizing: border-box;margin-bottom: 0.5em;}#sk-container-id-11 div.sk-estimator:hover {background-color: #d4ebff;}#sk-container-id-11 div.sk-parallel-item::after {content: \"\";width: 100%;border-bottom: 1px solid gray;flex-grow: 1;}#sk-container-id-11 div.sk-label:hover label.sk-toggleable__label {background-color: #d4ebff;}#sk-container-id-11 div.sk-serial::before {content: \"\";position: absolute;border-left: 1px solid gray;box-sizing: border-box;top: 0;bottom: 0;left: 50%;z-index: 0;}#sk-container-id-11 div.sk-serial {display: flex;flex-direction: column;align-items: center;background-color: white;padding-right: 0.2em;padding-left: 0.2em;position: relative;}#sk-container-id-11 div.sk-item {position: relative;z-index: 1;}#sk-container-id-11 div.sk-parallel {display: flex;align-items: stretch;justify-content: center;background-color: white;position: relative;}#sk-container-id-11 div.sk-item::before, #sk-container-id-11 div.sk-parallel-item::before {content: \"\";position: absolute;border-left: 1px solid gray;box-sizing: border-box;top: 0;bottom: 0;left: 50%;z-index: -1;}#sk-container-id-11 div.sk-parallel-item {display: flex;flex-direction: column;z-index: 1;position: relative;background-color: white;}#sk-container-id-11 div.sk-parallel-item:first-child::after {align-self: flex-end;width: 50%;}#sk-container-id-11 div.sk-parallel-item:last-child::after {align-self: flex-start;width: 50%;}#sk-container-id-11 div.sk-parallel-item:only-child::after {width: 0;}#sk-container-id-11 div.sk-dashed-wrapped {border: 1px dashed gray;margin: 0 0.4em 0.5em 0.4em;box-sizing: border-box;padding-bottom: 0.4em;background-color: white;}#sk-container-id-11 div.sk-label label {font-family: monospace;font-weight: bold;display: inline-block;line-height: 1.2em;}#sk-container-id-11 div.sk-label-container {text-align: center;}#sk-container-id-11 div.sk-container {/* jupyter's `normalize.less` sets `[hidden] { display: none; }` but bootstrap.min.css set `[hidden] { display: none !important; }` so we also need the `!important` here to be able to override the default hidden behavior on the sphinx rendered scikit-learn.org. See: https://github.com/scikit-learn/scikit-learn/issues/21755 */display: inline-block !important;position: relative;}#sk-container-id-11 div.sk-text-repr-fallback {display: none;}</style><div id=\"sk-container-id-11\" class=\"sk-top-container\"><div class=\"sk-text-repr-fallback\"><pre>GaussianNB()</pre><b>In a Jupyter environment, please rerun this cell to show the HTML representation or trust the notebook. <br />On GitHub, the HTML representation is unable to render, please try loading this page with nbviewer.org.</b></div><div class=\"sk-container\" hidden><div class=\"sk-item\"><div class=\"sk-estimator sk-toggleable\"><input class=\"sk-toggleable__control sk-hidden--visually\" id=\"sk-estimator-id-15\" type=\"checkbox\" checked><label for=\"sk-estimator-id-15\" class=\"sk-toggleable__label sk-toggleable__label-arrow\">GaussianNB</label><div class=\"sk-toggleable__content\"><pre>GaussianNB()</pre></div></div></div></div></div>"
      ],
      "text/plain": [
       "GaussianNB()"
      ]
     },
     "execution_count": 234,
     "metadata": {},
     "output_type": "execute_result"
    }
   ],
   "source": [
    "gnb.fit(X_train, y_train)"
   ]
  },
  {
   "cell_type": "code",
   "execution_count": 235,
   "id": "0ef41840-73c7-4e98-ac18-107bed0a54a8",
   "metadata": {},
   "outputs": [
    {
     "name": "stdout",
     "output_type": "stream",
     "text": [
      "Scores for Test data\n",
      "Accuracy: 0.7020285999334885\n",
      "Precision: 0.5571356018283392\n",
      "Recall: 0.9785905441570026\n",
      "F1 score: 0.6997073993103361\n"
     ]
    }
   ],
   "source": [
    "y_pred_test = gnb.predict(X_test)\n",
    "print('Scores for Test data')\n",
    "print(\"Accuracy:\",metrics.accuracy_score(y_test, y_pred_test))\n",
    "print(\"Precision:\",metrics.precision_score(y_test, y_pred_test))\n",
    "print(\"Recall:\",metrics.recall_score(y_test, y_pred_test))\n",
    "print(\"F1 score:\",metrics.f1_score(y_test, y_pred_test,  average='weighted'))\n"
   ]
  },
  {
   "cell_type": "code",
   "execution_count": 236,
   "id": "c528d3c5-9860-4691-bbc2-cd730a495388",
   "metadata": {},
   "outputs": [
    {
     "name": "stdout",
     "output_type": "stream",
     "text": [
      "Scores for Eval data\n",
      "Accuracy: 0.698270126413839\n",
      "Precision: 0.5435342606903658\n",
      "Recall: 0.9804832713754646\n",
      "F1 score: 0.6979523987960856\n"
     ]
    }
   ],
   "source": [
    "y_pred_eval = gnb.predict(X_eval)\n",
    "print('Scores for Eval data')\n",
    "print(\"Accuracy:\",metrics.accuracy_score(y_eval, y_pred_eval))\n",
    "print(\"Precision:\",metrics.precision_score(y_eval, y_pred_eval))\n",
    "print(\"Recall:\",metrics.recall_score(y_eval, y_pred_eval))\n",
    "print(\"F1 score:\",metrics.f1_score(y_eval, y_pred_eval,  average='weighted'))"
   ]
  },
  {
   "cell_type": "code",
   "execution_count": 237,
   "id": "f6c11ab1-a5ed-408d-806c-17ec28567c9d",
   "metadata": {},
   "outputs": [],
   "source": [
    "proba = gnb.predict_proba(X_test)"
   ]
  },
  {
   "cell_type": "code",
   "execution_count": 238,
   "id": "e244ead2-5ee3-438f-b349-8c86ac3baaaf",
   "metadata": {},
   "outputs": [
    {
     "data": {
      "text/plain": [
       "array([[1.31908628e-185, 1.00000000e+000],\n",
       "       [2.71873271e-141, 1.00000000e+000],\n",
       "       [2.53897834e-148, 1.00000000e+000],\n",
       "       ...,\n",
       "       [9.77714665e-146, 1.00000000e+000],\n",
       "       [2.58598271e-154, 1.00000000e+000],\n",
       "       [2.76386467e-097, 1.00000000e+000]])"
      ]
     },
     "execution_count": 238,
     "metadata": {},
     "output_type": "execute_result"
    }
   ],
   "source": [
    "proba"
   ]
  },
  {
   "cell_type": "code",
   "execution_count": 239,
   "id": "87e823c4-a838-4bdd-9957-517025f05805",
   "metadata": {},
   "outputs": [
    {
     "name": "stdout",
     "output_type": "stream",
     "text": [
      "Class 0: 1.3190862815268773e-185\n",
      "Class 1: 1.0\n"
     ]
    }
   ],
   "source": [
    "instance_index = 0\n",
    "class_probabilities = proba[instance_index]\n",
    "\n",
    "for class_label, prob in zip(gnb.classes_, class_probabilities):\n",
    "    print(f\"Class {class_label}: {prob}\")"
   ]
  },
  {
   "cell_type": "code",
   "execution_count": 229,
   "id": "5e6dd3b0-d554-42af-a8e2-20fcecaa787b",
   "metadata": {},
   "outputs": [
    {
     "name": "stdout",
     "output_type": "stream",
     "text": [
      "Fold 1 - Accuracy: 0.6915\n",
      "Fold 1 - Precision: 0.5459\n",
      "Fold 1 - Recall: 0.9838\n",
      "Fold 1 - F1-Score: 0.7022\n",
      "------------------------------\n",
      "Fold 2 - Accuracy: 0.7039\n",
      "Fold 2 - Precision: 0.5568\n",
      "Fold 2 - Recall: 0.9784\n",
      "Fold 2 - F1-Score: 0.7097\n",
      "------------------------------\n",
      "Fold 3 - Accuracy: 0.7119\n",
      "Fold 3 - Precision: 0.5643\n",
      "Fold 3 - Recall: 0.9712\n",
      "Fold 3 - F1-Score: 0.7138\n",
      "------------------------------\n",
      "Fold 4 - Accuracy: 0.7219\n",
      "Fold 4 - Precision: 0.5731\n",
      "Fold 4 - Recall: 0.9730\n",
      "Fold 4 - F1-Score: 0.7213\n",
      "------------------------------\n",
      "Fold 5 - Accuracy: 0.7199\n",
      "Fold 5 - Precision: 0.5702\n",
      "Fold 5 - Recall: 0.9856\n",
      "Fold 5 - F1-Score: 0.7225\n",
      "------------------------------\n",
      "Fold 6 - Accuracy: 0.7332\n",
      "Fold 6 - Precision: 0.5841\n",
      "Fold 6 - Recall: 0.9640\n",
      "Fold 6 - F1-Score: 0.7274\n",
      "------------------------------\n",
      "Fold 7 - Accuracy: 0.7013\n",
      "Fold 7 - Precision: 0.5542\n",
      "Fold 7 - Recall: 0.9766\n",
      "Fold 7 - F1-Score: 0.7071\n",
      "------------------------------\n",
      "Fold 8 - Accuracy: 0.7099\n",
      "Fold 8 - Precision: 0.5619\n",
      "Fold 8 - Recall: 0.9730\n",
      "Fold 8 - F1-Score: 0.7124\n",
      "------------------------------\n",
      "Fold 9 - Accuracy: 0.7445\n",
      "Fold 9 - Precision: 0.5928\n",
      "Fold 9 - Recall: 0.9838\n",
      "Fold 9 - F1-Score: 0.7398\n",
      "------------------------------\n",
      "Fold 10 - Accuracy: 0.7019\n",
      "Fold 10 - Precision: 0.5550\n",
      "Fold 10 - Recall: 0.9730\n",
      "Fold 10 - F1-Score: 0.7068\n",
      "------------------------------\n",
      "Average Scores:\n",
      "Accuracy: 0.7140\n",
      "Precision: 0.5658\n",
      "Recall: 0.9762\n",
      "F1-Score: 0.7163\n"
     ]
    }
   ],
   "source": [
    "naive_bayes = GaussianNB()\n",
    "\n",
    "scoring = {\n",
    "    'Accuracy': make_scorer(accuracy_score),\n",
    "    'Precision': make_scorer(precision_score),\n",
    "    'Recall': make_scorer(recall_score),\n",
    "    'F1-Score': make_scorer(f1_score)\n",
    "}\n",
    "\n",
    "k = 10 \n",
    "cv = StratifiedKFold(n_splits=k, shuffle=True, random_state=42)\n",
    "results = cross_validate(naive_bayes, X, y, cv=cv, scoring=scoring)\n",
    "\n",
    "for fold in range(k):\n",
    "    fold_prefix = f\"Fold {fold+1}\"\n",
    "    for metric in scoring:\n",
    "        metric_score = results[f\"test_{metric}\"][fold]\n",
    "        print(f\"{fold_prefix} - {metric}: {metric_score:.4f}\")\n",
    "    print(\"-\" * 30)\n",
    "\n",
    "average_scores = {metric: results[f\"test_{metric}\"].mean() for metric in scoring}\n",
    "print(\"Average Scores:\")\n",
    "for metric, score in average_scores.items():\n",
    "    print(f\"{metric}: {score:.4f}\")"
   ]
  },
  {
   "attachments": {},
   "cell_type": "markdown",
   "id": "719b61f5-eba9-4a8f-b70b-268b7c077615",
   "metadata": {},
   "source": [
    "## After cross validation the mean value for F1-score was 0.71. this value is less than other alrotithms have"
   ]
  },
  {
   "cell_type": "code",
   "execution_count": null,
   "id": "736a1a00-fee8-4819-9efa-3f6cc5d44f61",
   "metadata": {},
   "outputs": [],
   "source": []
  },
  {
   "cell_type": "code",
   "execution_count": null,
   "id": "e81b2631-ac58-4e9e-a881-777a85bb44e2",
   "metadata": {},
   "outputs": [],
   "source": []
  },
  {
   "attachments": {},
   "cell_type": "markdown",
   "id": "2aaf35ec-2cb1-47c3-b2e6-78e92b039e30",
   "metadata": {},
   "source": [
    "## Gradient Boosting Classifier"
   ]
  },
  {
   "cell_type": "code",
   "execution_count": 203,
   "id": "87593df5-597a-4911-a835-0a24ec149357",
   "metadata": {},
   "outputs": [],
   "source": [
    "from sklearn.ensemble import GradientBoostingClassifier"
   ]
  },
  {
   "cell_type": "code",
   "execution_count": 204,
   "id": "65652da8",
   "metadata": {},
   "outputs": [
    {
     "data": {
      "image/png": "[encoded data removed]",
      "text/plain": [
       "<Figure size 1000x500 with 1 Axes>"
      ]
     },
     "metadata": {},
     "output_type": "display_data"
    }
   ],
   "source": [
    "n_estimators = list(range(10, 301, 10)) \n",
    "train_accuracies, eval_accuracies = [], []\n",
    "\n",
    "for n in n_estimators:\n",
    "    clf = GradientBoostingClassifier(n_estimators=n, learning_rate=0.01, random_state=0)\n",
    "\n",
    "    clf = clf.fit(X_train, y_train)\n",
    "\n",
    "    y_train_pred = clf.predict(X_train)\n",
    "    train_accuracy = accuracy_score(y_train, y_train_pred)\n",
    "    train_accuracies.append(train_accuracy)\n",
    "\n",
    "    y_eval_pred = clf.predict(X_eval)\n",
    "    eval_accuracy = accuracy_score(y_eval, y_eval_pred)\n",
    "    eval_accuracies.append(eval_accuracy)\n",
    "\n",
    "plt.figure(figsize=(10, 5))\n",
    "plt.plot(n_estimators, train_accuracies, label='Training Accuracy')\n",
    "plt.plot(n_estimators, eval_accuracies, label='Evaluation Accuracy')\n",
    "plt.xlabel('Number of Estimators')\n",
    "plt.ylabel('Accuracy')\n",
    "plt.legend()\n",
    "plt.title('Training Curve - Gradient Boosting Classifier')\n",
    "plt.show()\n",
    "\n"
   ]
  },
  {
   "cell_type": "code",
   "execution_count": 205,
   "id": "4a56432b-85cf-41b5-a616-e8b42c348753",
   "metadata": {},
   "outputs": [],
   "source": [
    "clf = GradientBoostingClassifier(n_estimators=200, learning_rate=0.01 , random_state=0)"
   ]
  },
  {
   "cell_type": "code",
   "execution_count": 206,
   "id": "5c600d2f-c59c-464b-a830-65a65104aa09",
   "metadata": {},
   "outputs": [
    {
     "data": {
      "text/html": [
       "<style>#sk-container-id-9 {color: black;background-color: white;}#sk-container-id-9 pre{padding: 0;}#sk-container-id-9 div.sk-toggleable {background-color: white;}#sk-container-id-9 label.sk-toggleable__label {cursor: pointer;display: block;width: 100%;margin-bottom: 0;padding: 0.3em;box-sizing: border-box;text-align: center;}#sk-container-id-9 label.sk-toggleable__label-arrow:before {content: \"▸\";float: left;margin-right: 0.25em;color: #696969;}#sk-container-id-9 label.sk-toggleable__label-arrow:hover:before {color: black;}#sk-container-id-9 div.sk-estimator:hover label.sk-toggleable__label-arrow:before {color: black;}#sk-container-id-9 div.sk-toggleable__content {max-height: 0;max-width: 0;overflow: hidden;text-align: left;background-color: #f0f8ff;}#sk-container-id-9 div.sk-toggleable__content pre {margin: 0.2em;color: black;border-radius: 0.25em;background-color: #f0f8ff;}#sk-container-id-9 input.sk-toggleable__control:checked~div.sk-toggleable__content {max-height: 200px;max-width: 100%;overflow: auto;}#sk-container-id-9 input.sk-toggleable__control:checked~label.sk-toggleable__label-arrow:before {content: \"▾\";}#sk-container-id-9 div.sk-estimator input.sk-toggleable__control:checked~label.sk-toggleable__label {background-color: #d4ebff;}#sk-container-id-9 div.sk-label input.sk-toggleable__control:checked~label.sk-toggleable__label {background-color: #d4ebff;}#sk-container-id-9 input.sk-hidden--visually {border: 0;clip: rect(1px 1px 1px 1px);clip: rect(1px, 1px, 1px, 1px);height: 1px;margin: -1px;overflow: hidden;padding: 0;position: absolute;width: 1px;}#sk-container-id-9 div.sk-estimator {font-family: monospace;background-color: #f0f8ff;border: 1px dotted black;border-radius: 0.25em;box-sizing: border-box;margin-bottom: 0.5em;}#sk-container-id-9 div.sk-estimator:hover {background-color: #d4ebff;}#sk-container-id-9 div.sk-parallel-item::after {content: \"\";width: 100%;border-bottom: 1px solid gray;flex-grow: 1;}#sk-container-id-9 div.sk-label:hover label.sk-toggleable__label {background-color: #d4ebff;}#sk-container-id-9 div.sk-serial::before {content: \"\";position: absolute;border-left: 1px solid gray;box-sizing: border-box;top: 0;bottom: 0;left: 50%;z-index: 0;}#sk-container-id-9 div.sk-serial {display: flex;flex-direction: column;align-items: center;background-color: white;padding-right: 0.2em;padding-left: 0.2em;position: relative;}#sk-container-id-9 div.sk-item {position: relative;z-index: 1;}#sk-container-id-9 div.sk-parallel {display: flex;align-items: stretch;justify-content: center;background-color: white;position: relative;}#sk-container-id-9 div.sk-item::before, #sk-container-id-9 div.sk-parallel-item::before {content: \"\";position: absolute;border-left: 1px solid gray;box-sizing: border-box;top: 0;bottom: 0;left: 50%;z-index: -1;}#sk-container-id-9 div.sk-parallel-item {display: flex;flex-direction: column;z-index: 1;position: relative;background-color: white;}#sk-container-id-9 div.sk-parallel-item:first-child::after {align-self: flex-end;width: 50%;}#sk-container-id-9 div.sk-parallel-item:last-child::after {align-self: flex-start;width: 50%;}#sk-container-id-9 div.sk-parallel-item:only-child::after {width: 0;}#sk-container-id-9 div.sk-dashed-wrapped {border: 1px dashed gray;margin: 0 0.4em 0.5em 0.4em;box-sizing: border-box;padding-bottom: 0.4em;background-color: white;}#sk-container-id-9 div.sk-label label {font-family: monospace;font-weight: bold;display: inline-block;line-height: 1.2em;}#sk-container-id-9 div.sk-label-container {text-align: center;}#sk-container-id-9 div.sk-container {/* jupyter's `normalize.less` sets `[hidden] { display: none; }` but bootstrap.min.css set `[hidden] { display: none !important; }` so we also need the `!important` here to be able to override the default hidden behavior on the sphinx rendered scikit-learn.org. See: https://github.com/scikit-learn/scikit-learn/issues/21755 */display: inline-block !important;position: relative;}#sk-container-id-9 div.sk-text-repr-fallback {display: none;}</style><div id=\"sk-container-id-9\" class=\"sk-top-container\"><div class=\"sk-text-repr-fallback\"><pre>GradientBoostingClassifier(learning_rate=0.01, n_estimators=200, random_state=0)</pre><b>In a Jupyter environment, please rerun this cell to show the HTML representation or trust the notebook. <br />On GitHub, the HTML representation is unable to render, please try loading this page with nbviewer.org.</b></div><div class=\"sk-container\" hidden><div class=\"sk-item\"><div class=\"sk-estimator sk-toggleable\"><input class=\"sk-toggleable__control sk-hidden--visually\" id=\"sk-estimator-id-13\" type=\"checkbox\" checked><label for=\"sk-estimator-id-13\" class=\"sk-toggleable__label sk-toggleable__label-arrow\">GradientBoostingClassifier</label><div class=\"sk-toggleable__content\"><pre>GradientBoostingClassifier(learning_rate=0.01, n_estimators=200, random_state=0)</pre></div></div></div></div></div>"
      ],
      "text/plain": [
       "GradientBoostingClassifier(learning_rate=0.01, n_estimators=200, random_state=0)"
      ]
     },
     "execution_count": 206,
     "metadata": {},
     "output_type": "execute_result"
    }
   ],
   "source": [
    "clf.fit(X_train, y_train)"
   ]
  },
  {
   "cell_type": "code",
   "execution_count": 207,
   "id": "0b89dcc1-a540-4d48-88eb-30c011929fb0",
   "metadata": {},
   "outputs": [
    {
     "name": "stdout",
     "output_type": "stream",
     "text": [
      "Scores for Text data\n",
      "Accuracy: 0.9394745593614898\n",
      "Precision: 0.921832884097035\n",
      "Recall: 0.9152542372881356\n",
      "F1 score: 0.9394302360222226\n"
     ]
    }
   ],
   "source": [
    "y_pred_test = clf.predict(X_test)\n",
    "print('Scores for Text data')\n",
    "print(\"Accuracy:\",metrics.accuracy_score(y_test, y_pred_test))\n",
    "print(\"Precision:\",metrics.precision_score(y_test, y_pred_test))\n",
    "print(\"Recall:\",metrics.recall_score(y_test, y_pred_test))\n",
    "print(\"F1 score:\",metrics.f1_score(y_test, y_pred_test,  average='weighted'))"
   ]
  },
  {
   "cell_type": "code",
   "execution_count": 208,
   "id": "da55cfb1-7e84-4589-861a-775250e40713",
   "metadata": {},
   "outputs": [
    {
     "name": "stdout",
     "output_type": "stream",
     "text": [
      "Scores for Eval data\n",
      "Accuracy: 0.9434464404524284\n",
      "Precision: 0.9186691312384473\n",
      "Recall: 0.9237918215613383\n",
      "F1 score: 0.9434810378870329\n"
     ]
    }
   ],
   "source": [
    "y_pred_eval = clf.predict(X_eval)\n",
    "print('Scores for Eval data')\n",
    "print(\"Accuracy:\",metrics.accuracy_score(y_eval, y_pred_eval))\n",
    "print(\"Precision:\",metrics.precision_score(y_eval, y_pred_eval))\n",
    "print(\"Recall:\",metrics.recall_score(y_eval, y_pred_eval))\n",
    "print(\"F1 score:\",metrics.f1_score(y_eval, y_pred_eval,  average='weighted'))"
   ]
  },
  {
   "cell_type": "code",
   "execution_count": 209,
   "id": "729d3db0-cb89-42e5-9ad1-c1b2d9ea46ec",
   "metadata": {},
   "outputs": [
    {
     "data": {
      "text/plain": [
       "array([[1827,   59],\n",
       "       [  69, 1052]])"
      ]
     },
     "execution_count": 209,
     "metadata": {},
     "output_type": "execute_result"
    }
   ],
   "source": [
    "metrics.confusion_matrix(y_test, y_pred)"
   ]
  },
  {
   "cell_type": "code",
   "execution_count": 210,
   "id": "c0adcf0d-50ff-4470-ba48-29b8a0d241c7",
   "metadata": {},
   "outputs": [],
   "source": [
    "importances_sk = clf.feature_importances_"
   ]
  },
  {
   "cell_type": "code",
   "execution_count": 211,
   "id": "8e02cea0-5b69-4ad8-a11c-c5b8632422b6",
   "metadata": {},
   "outputs": [],
   "source": [
    "feature_importance = pd.DataFrame(importances_sk, X_train.columns).reset_index()"
   ]
  },
  {
   "cell_type": "code",
   "execution_count": 212,
   "id": "8d2f9634-d395-4c38-9b58-8fc5ddf5f8cc",
   "metadata": {},
   "outputs": [],
   "source": [
    "columns=['features', 'importance']"
   ]
  },
  {
   "cell_type": "code",
   "execution_count": 213,
   "id": "13cac5c8-07bf-4959-b4dd-d1f9f0d9090a",
   "metadata": {},
   "outputs": [],
   "source": [
    "feature_importance.columns = columns"
   ]
  },
  {
   "cell_type": "code",
   "execution_count": 214,
   "id": "657f58a8-ccf1-4ab2-8c61-db9ea98b5979",
   "metadata": {},
   "outputs": [
    {
     "data": {
      "text/html": [
       "<div>\n",
       "<style scoped>\n",
       "    .dataframe tbody tr th:only-of-type {\n",
       "        vertical-align: middle;\n",
       "    }\n",
       "\n",
       "    .dataframe tbody tr th {\n",
       "        vertical-align: top;\n",
       "    }\n",
       "\n",
       "    .dataframe thead th {\n",
       "        text-align: right;\n",
       "    }\n",
       "</style>\n",
       "<table border=\"1\" class=\"dataframe\">\n",
       "  <thead>\n",
       "    <tr style=\"text-align: right;\">\n",
       "      <th></th>\n",
       "      <th>features</th>\n",
       "      <th>importance</th>\n",
       "    </tr>\n",
       "  </thead>\n",
       "  <tbody>\n",
       "    <tr>\n",
       "      <th>13</th>\n",
       "      <td>READ_PHONE_STATE</td>\n",
       "      <td>0.208410</td>\n",
       "    </tr>\n",
       "    <tr>\n",
       "      <th>0</th>\n",
       "      <td>transact</td>\n",
       "      <td>0.179007</td>\n",
       "    </tr>\n",
       "    <tr>\n",
       "      <th>1</th>\n",
       "      <td>onServiceConnected</td>\n",
       "      <td>0.178487</td>\n",
       "    </tr>\n",
       "    <tr>\n",
       "      <th>6</th>\n",
       "      <td>SEND_SMS</td>\n",
       "      <td>0.174758</td>\n",
       "    </tr>\n",
       "    <tr>\n",
       "      <th>30</th>\n",
       "      <td>TelephonyManager.getLine1Number</td>\n",
       "      <td>0.029474</td>\n",
       "    </tr>\n",
       "    <tr>\n",
       "      <th>42</th>\n",
       "      <td>WRITE_HISTORY_BOOKMARKS</td>\n",
       "      <td>0.021229</td>\n",
       "    </tr>\n",
       "    <tr>\n",
       "      <th>3</th>\n",
       "      <td>attachInterface</td>\n",
       "      <td>0.018237</td>\n",
       "    </tr>\n",
       "    <tr>\n",
       "      <th>52</th>\n",
       "      <td>INTERNET</td>\n",
       "      <td>0.016646</td>\n",
       "    </tr>\n",
       "    <tr>\n",
       "      <th>7</th>\n",
       "      <td>Ljava.lang.Class.getCanonicalName</td>\n",
       "      <td>0.015278</td>\n",
       "    </tr>\n",
       "    <tr>\n",
       "      <th>79</th>\n",
       "      <td>chmod</td>\n",
       "      <td>0.013990</td>\n",
       "    </tr>\n",
       "    <tr>\n",
       "      <th>41</th>\n",
       "      <td>android.telephony.gsm.SmsManager</td>\n",
       "      <td>0.013825</td>\n",
       "    </tr>\n",
       "    <tr>\n",
       "      <th>8</th>\n",
       "      <td>Ljava.lang.Class.getMethods</td>\n",
       "      <td>0.013159</td>\n",
       "    </tr>\n",
       "    <tr>\n",
       "      <th>68</th>\n",
       "      <td>TelephonyManager.getDeviceId</td>\n",
       "      <td>0.011647</td>\n",
       "    </tr>\n",
       "    <tr>\n",
       "      <th>19</th>\n",
       "      <td>GET_ACCOUNTS</td>\n",
       "      <td>0.009626</td>\n",
       "    </tr>\n",
       "    <tr>\n",
       "      <th>10</th>\n",
       "      <td>Ljava.net.URLDecoder</td>\n",
       "      <td>0.009567</td>\n",
       "    </tr>\n",
       "  </tbody>\n",
       "</table>\n",
       "</div>"
      ],
      "text/plain": [
       "                             features  importance\n",
       "13                   READ_PHONE_STATE    0.208410\n",
       "0                            transact    0.179007\n",
       "1                  onServiceConnected    0.178487\n",
       "6                            SEND_SMS    0.174758\n",
       "30    TelephonyManager.getLine1Number    0.029474\n",
       "42            WRITE_HISTORY_BOOKMARKS    0.021229\n",
       "3                     attachInterface    0.018237\n",
       "52                           INTERNET    0.016646\n",
       "7   Ljava.lang.Class.getCanonicalName    0.015278\n",
       "79                              chmod    0.013990\n",
       "41   android.telephony.gsm.SmsManager    0.013825\n",
       "8         Ljava.lang.Class.getMethods    0.013159\n",
       "68       TelephonyManager.getDeviceId    0.011647\n",
       "19                       GET_ACCOUNTS    0.009626\n",
       "10               Ljava.net.URLDecoder    0.009567"
      ]
     },
     "execution_count": 214,
     "metadata": {},
     "output_type": "execute_result"
    }
   ],
   "source": [
    "feature_importance.sort_values(ascending=False, by='importance')[:15]"
   ]
  },
  {
   "attachments": {},
   "cell_type": "markdown",
   "id": "4587f75a-3238-49c1-969c-d1808f63283a",
   "metadata": {},
   "source": [
    "## Here we can see that first three the most important features have only 0.20 + 0.17 + 0.17 = 0.54. Compared to Decision Tree algorithm we can see that in Gradient boosting classifier algorithm feature importance is more distributed. More over we can notice that there is new column in the top 4 most important columns: \"onServiceConnected\" "
   ]
  },
  {
   "cell_type": "code",
   "execution_count": null,
   "id": "a105e202-e3c3-41d0-b894-c9db1ff7c2ad",
   "metadata": {},
   "outputs": [],
   "source": []
  },
  {
   "cell_type": "code",
   "execution_count": null,
   "id": "7d4b073d-c173-4575-b040-58616d83bbc9",
   "metadata": {},
   "outputs": [],
   "source": []
  },
  {
   "attachments": {},
   "cell_type": "markdown",
   "id": "22feba7d-2ac1-4862-a294-a0a1545b78ab",
   "metadata": {},
   "source": [
    "## Here we will try to bypass the model"
   ]
  },
  {
   "cell_type": "code",
   "execution_count": 80,
   "id": "df9c68ce-0c7d-43ab-a91d-d032bff40b49",
   "metadata": {},
   "outputs": [
    {
     "data": {
      "text/plain": [
       "(3007, 215)"
      ]
     },
     "execution_count": 80,
     "metadata": {},
     "output_type": "execute_result"
    }
   ],
   "source": [
    "X_test.shape"
   ]
  },
  {
   "cell_type": "code",
   "execution_count": 81,
   "id": "c464444c-b3c8-4f67-a989-7462a15aae02",
   "metadata": {},
   "outputs": [],
   "source": [
    "y_pred_test = clf.predict(X_test)"
   ]
  },
  {
   "cell_type": "code",
   "execution_count": 82,
   "id": "e71dd96e-28b4-41d3-a310-251c0dcd8d04",
   "metadata": {},
   "outputs": [],
   "source": [
    "X_test['predicted_class'] = y_pred_test"
   ]
  },
  {
   "cell_type": "code",
   "execution_count": 83,
   "id": "99db9f25-f25e-4aa4-8e75-8b7d987542b2",
   "metadata": {},
   "outputs": [
    {
     "data": {
      "text/plain": [
       "2023     1\n",
       "10870    0\n",
       "4363     1\n",
       "14717    0\n",
       "3472     1\n",
       "Name: predicted_class, dtype: int64"
      ]
     },
     "execution_count": 83,
     "metadata": {},
     "output_type": "execute_result"
    }
   ],
   "source": [
    "X_test['predicted_class'].head(5)"
   ]
  },
  {
   "attachments": {},
   "cell_type": "markdown",
   "id": "6df33a4b-a0f4-4dda-819a-9d9813662e12",
   "metadata": {},
   "source": [
    "## We can take one of this index where the predicted class is 1 (malware) and check whether the real class of this row is 1 (malware)"
   ]
  },
  {
   "cell_type": "code",
   "execution_count": 84,
   "id": "6c96b23e-5396-4916-80b2-ce34f2966aed",
   "metadata": {},
   "outputs": [
    {
     "data": {
      "text/html": [
       "<div>\n",
       "<style scoped>\n",
       "    .dataframe tbody tr th:only-of-type {\n",
       "        vertical-align: middle;\n",
       "    }\n",
       "\n",
       "    .dataframe tbody tr th {\n",
       "        vertical-align: top;\n",
       "    }\n",
       "\n",
       "    .dataframe thead th {\n",
       "        text-align: right;\n",
       "    }\n",
       "</style>\n",
       "<table border=\"1\" class=\"dataframe\">\n",
       "  <thead>\n",
       "    <tr style=\"text-align: right;\">\n",
       "      <th></th>\n",
       "      <th>transact</th>\n",
       "      <th>onServiceConnected</th>\n",
       "      <th>bindService</th>\n",
       "      <th>attachInterface</th>\n",
       "      <th>ServiceConnection</th>\n",
       "      <th>android.os.Binder</th>\n",
       "      <th>SEND_SMS</th>\n",
       "      <th>Ljava.lang.Class.getCanonicalName</th>\n",
       "      <th>Ljava.lang.Class.getMethods</th>\n",
       "      <th>Ljava.lang.Class.cast</th>\n",
       "      <th>...</th>\n",
       "      <th>READ_CONTACTS</th>\n",
       "      <th>DEVICE_POWER</th>\n",
       "      <th>HARDWARE_TEST</th>\n",
       "      <th>ACCESS_WIFI_STATE</th>\n",
       "      <th>WRITE_EXTERNAL_STORAGE</th>\n",
       "      <th>ACCESS_FINE_LOCATION</th>\n",
       "      <th>SET_WALLPAPER_HINTS</th>\n",
       "      <th>SET_PREFERRED_APPLICATIONS</th>\n",
       "      <th>WRITE_SECURE_SETTINGS</th>\n",
       "      <th>predicted_class</th>\n",
       "    </tr>\n",
       "  </thead>\n",
       "  <tbody>\n",
       "    <tr>\n",
       "      <th>2023</th>\n",
       "      <td>0</td>\n",
       "      <td>0</td>\n",
       "      <td>0</td>\n",
       "      <td>0</td>\n",
       "      <td>0</td>\n",
       "      <td>0</td>\n",
       "      <td>1</td>\n",
       "      <td>0</td>\n",
       "      <td>0</td>\n",
       "      <td>0</td>\n",
       "      <td>...</td>\n",
       "      <td>1</td>\n",
       "      <td>0</td>\n",
       "      <td>0</td>\n",
       "      <td>1</td>\n",
       "      <td>1</td>\n",
       "      <td>0</td>\n",
       "      <td>0</td>\n",
       "      <td>0</td>\n",
       "      <td>1</td>\n",
       "      <td>1</td>\n",
       "    </tr>\n",
       "    <tr>\n",
       "      <th>4363</th>\n",
       "      <td>0</td>\n",
       "      <td>0</td>\n",
       "      <td>0</td>\n",
       "      <td>0</td>\n",
       "      <td>0</td>\n",
       "      <td>0</td>\n",
       "      <td>0</td>\n",
       "      <td>0</td>\n",
       "      <td>0</td>\n",
       "      <td>0</td>\n",
       "      <td>...</td>\n",
       "      <td>1</td>\n",
       "      <td>0</td>\n",
       "      <td>0</td>\n",
       "      <td>0</td>\n",
       "      <td>0</td>\n",
       "      <td>0</td>\n",
       "      <td>0</td>\n",
       "      <td>0</td>\n",
       "      <td>0</td>\n",
       "      <td>1</td>\n",
       "    </tr>\n",
       "    <tr>\n",
       "      <th>3472</th>\n",
       "      <td>0</td>\n",
       "      <td>0</td>\n",
       "      <td>0</td>\n",
       "      <td>0</td>\n",
       "      <td>0</td>\n",
       "      <td>0</td>\n",
       "      <td>0</td>\n",
       "      <td>0</td>\n",
       "      <td>0</td>\n",
       "      <td>0</td>\n",
       "      <td>...</td>\n",
       "      <td>0</td>\n",
       "      <td>0</td>\n",
       "      <td>0</td>\n",
       "      <td>1</td>\n",
       "      <td>1</td>\n",
       "      <td>0</td>\n",
       "      <td>0</td>\n",
       "      <td>0</td>\n",
       "      <td>0</td>\n",
       "      <td>1</td>\n",
       "    </tr>\n",
       "    <tr>\n",
       "      <th>928</th>\n",
       "      <td>0</td>\n",
       "      <td>0</td>\n",
       "      <td>0</td>\n",
       "      <td>0</td>\n",
       "      <td>0</td>\n",
       "      <td>0</td>\n",
       "      <td>1</td>\n",
       "      <td>0</td>\n",
       "      <td>0</td>\n",
       "      <td>0</td>\n",
       "      <td>...</td>\n",
       "      <td>0</td>\n",
       "      <td>0</td>\n",
       "      <td>0</td>\n",
       "      <td>0</td>\n",
       "      <td>1</td>\n",
       "      <td>0</td>\n",
       "      <td>0</td>\n",
       "      <td>0</td>\n",
       "      <td>0</td>\n",
       "      <td>1</td>\n",
       "    </tr>\n",
       "    <tr>\n",
       "      <th>5152</th>\n",
       "      <td>0</td>\n",
       "      <td>0</td>\n",
       "      <td>0</td>\n",
       "      <td>0</td>\n",
       "      <td>0</td>\n",
       "      <td>0</td>\n",
       "      <td>0</td>\n",
       "      <td>0</td>\n",
       "      <td>0</td>\n",
       "      <td>0</td>\n",
       "      <td>...</td>\n",
       "      <td>0</td>\n",
       "      <td>0</td>\n",
       "      <td>0</td>\n",
       "      <td>1</td>\n",
       "      <td>0</td>\n",
       "      <td>0</td>\n",
       "      <td>0</td>\n",
       "      <td>0</td>\n",
       "      <td>0</td>\n",
       "      <td>1</td>\n",
       "    </tr>\n",
       "  </tbody>\n",
       "</table>\n",
       "<p>5 rows × 216 columns</p>\n",
       "</div>"
      ],
      "text/plain": [
       "      transact  onServiceConnected  bindService  attachInterface  \\\n",
       "2023         0                   0            0                0   \n",
       "4363         0                   0            0                0   \n",
       "3472         0                   0            0                0   \n",
       "928          0                   0            0                0   \n",
       "5152         0                   0            0                0   \n",
       "\n",
       "      ServiceConnection  android.os.Binder  SEND_SMS  \\\n",
       "2023                  0                  0         1   \n",
       "4363                  0                  0         0   \n",
       "3472                  0                  0         0   \n",
       "928                   0                  0         1   \n",
       "5152                  0                  0         0   \n",
       "\n",
       "      Ljava.lang.Class.getCanonicalName  Ljava.lang.Class.getMethods  \\\n",
       "2023                                  0                            0   \n",
       "4363                                  0                            0   \n",
       "3472                                  0                            0   \n",
       "928                                   0                            0   \n",
       "5152                                  0                            0   \n",
       "\n",
       "      Ljava.lang.Class.cast  ...  READ_CONTACTS  DEVICE_POWER  HARDWARE_TEST  \\\n",
       "2023                      0  ...              1             0              0   \n",
       "4363                      0  ...              1             0              0   \n",
       "3472                      0  ...              0             0              0   \n",
       "928                       0  ...              0             0              0   \n",
       "5152                      0  ...              0             0              0   \n",
       "\n",
       "      ACCESS_WIFI_STATE  WRITE_EXTERNAL_STORAGE  ACCESS_FINE_LOCATION  \\\n",
       "2023                  1                       1                     0   \n",
       "4363                  0                       0                     0   \n",
       "3472                  1                       1                     0   \n",
       "928                   0                       1                     0   \n",
       "5152                  1                       0                     0   \n",
       "\n",
       "      SET_WALLPAPER_HINTS  SET_PREFERRED_APPLICATIONS  WRITE_SECURE_SETTINGS  \\\n",
       "2023                    0                           0                      1   \n",
       "4363                    0                           0                      0   \n",
       "3472                    0                           0                      0   \n",
       "928                     0                           0                      0   \n",
       "5152                    0                           0                      0   \n",
       "\n",
       "      predicted_class  \n",
       "2023                1  \n",
       "4363                1  \n",
       "3472                1  \n",
       "928                 1  \n",
       "5152                1  \n",
       "\n",
       "[5 rows x 216 columns]"
      ]
     },
     "execution_count": 84,
     "metadata": {},
     "output_type": "execute_result"
    }
   ],
   "source": [
    "X_test[X_test['predicted_class'] ==1].head(5)"
   ]
  },
  {
   "attachments": {},
   "cell_type": "markdown",
   "id": "d78b6aa8-a17e-49a5-bf1f-45c844d289df",
   "metadata": {},
   "source": [
    "We can take rows this index 2021"
   ]
  },
  {
   "cell_type": "code",
   "execution_count": 85,
   "id": "461b9f58-571d-418f-8d12-b920fe8c2a0e",
   "metadata": {},
   "outputs": [
    {
     "data": {
      "text/plain": [
       "2021    1\n",
       "Name: class_conv, dtype: Int64"
      ]
     },
     "execution_count": 85,
     "metadata": {},
     "output_type": "execute_result"
    }
   ],
   "source": [
    "df.loc[[2021]]['class_conv']"
   ]
  },
  {
   "attachments": {},
   "cell_type": "markdown",
   "id": "249dbe5d-8764-452f-9f16-72bcc73d1398",
   "metadata": {},
   "source": [
    "## Yes, we can that the real class of this row is 1 (malware). We can try to adapt this row bypass our model such way that it is classified as binign by the model."
   ]
  },
  {
   "cell_type": "code",
   "execution_count": null,
   "id": "a608f79a-20bc-4a30-ad7f-2763b3d9a010",
   "metadata": {},
   "outputs": [],
   "source": []
  },
  {
   "attachments": {},
   "cell_type": "markdown",
   "id": "9f3a4a11-1d09-4fd9-bb3d-099077a32734",
   "metadata": {},
   "source": [
    "## First try"
   ]
  },
  {
   "attachments": {},
   "cell_type": "markdown",
   "id": "5976b1ee-0361-4a35-834e-0c095aacca1e",
   "metadata": {},
   "source": [
    "My first idea is to analyze top 4 most important features from 'feature_importances_' of our Gradient Boosting classifier. \n",
    "These features are:\n",
    "1) READ_PHONE_STATE,\n",
    "2) SEND_SMS,\n",
    "3) transact,\n",
    "4) onServiceConnected"
   ]
  },
  {
   "attachments": {},
   "cell_type": "markdown",
   "id": "f716e943-b9fb-4ef9-a1c6-f36dbb797798",
   "metadata": {},
   "source": [
    "We can change values in these columns to opposite (from 0 to 1 and from 1 to 0)"
   ]
  },
  {
   "cell_type": "code",
   "execution_count": null,
   "id": "8fe3fd94-9d94-4a0e-ab4d-20c340538a4a",
   "metadata": {},
   "outputs": [],
   "source": []
  },
  {
   "cell_type": "code",
   "execution_count": 86,
   "id": "b7df0fa5-2af2-4c95-9163-7dbdcf8c07e6",
   "metadata": {},
   "outputs": [
    {
     "data": {
      "text/html": [
       "<div>\n",
       "<style scoped>\n",
       "    .dataframe tbody tr th:only-of-type {\n",
       "        vertical-align: middle;\n",
       "    }\n",
       "\n",
       "    .dataframe tbody tr th {\n",
       "        vertical-align: top;\n",
       "    }\n",
       "\n",
       "    .dataframe thead th {\n",
       "        text-align: right;\n",
       "    }\n",
       "</style>\n",
       "<table border=\"1\" class=\"dataframe\">\n",
       "  <thead>\n",
       "    <tr style=\"text-align: right;\">\n",
       "      <th></th>\n",
       "      <th>READ_PHONE_STATE</th>\n",
       "      <th>SEND_SMS</th>\n",
       "      <th>transact</th>\n",
       "      <th>onServiceConnected</th>\n",
       "      <th>class_conv</th>\n",
       "    </tr>\n",
       "  </thead>\n",
       "  <tbody>\n",
       "    <tr>\n",
       "      <th>2021</th>\n",
       "      <td>1</td>\n",
       "      <td>0</td>\n",
       "      <td>0</td>\n",
       "      <td>1</td>\n",
       "      <td>1</td>\n",
       "    </tr>\n",
       "  </tbody>\n",
       "</table>\n",
       "</div>"
      ],
      "text/plain": [
       "      READ_PHONE_STATE  SEND_SMS  transact  onServiceConnected  class_conv\n",
       "2021                 1         0         0                   1           1"
      ]
     },
     "execution_count": 86,
     "metadata": {},
     "output_type": "execute_result"
    }
   ],
   "source": [
    "df.loc[[2021]][['READ_PHONE_STATE', 'SEND_SMS', 'transact', 'onServiceConnected','class_conv']]"
   ]
  },
  {
   "cell_type": "code",
   "execution_count": null,
   "id": "dee30fc5-a23c-49b0-8324-a01dad8d82a9",
   "metadata": {},
   "outputs": [],
   "source": []
  },
  {
   "cell_type": "code",
   "execution_count": 87,
   "id": "aef7d5f2-72c3-479f-99f4-3cbb7cb597d3",
   "metadata": {},
   "outputs": [],
   "source": [
    "df.loc[2021, 'READ_PHONE_STATE'] = 0\n",
    "df.loc[2021, 'SEND_SMS'] = 1\n",
    "df.loc[2021, 'transact'] = 1\n",
    "df.loc[2021, 'onServiceConnected'] = 0"
   ]
  },
  {
   "cell_type": "code",
   "execution_count": 88,
   "id": "2fe71cd4-034a-4233-b522-d5401734a279",
   "metadata": {},
   "outputs": [
    {
     "data": {
      "text/html": [
       "<div>\n",
       "<style scoped>\n",
       "    .dataframe tbody tr th:only-of-type {\n",
       "        vertical-align: middle;\n",
       "    }\n",
       "\n",
       "    .dataframe tbody tr th {\n",
       "        vertical-align: top;\n",
       "    }\n",
       "\n",
       "    .dataframe thead th {\n",
       "        text-align: right;\n",
       "    }\n",
       "</style>\n",
       "<table border=\"1\" class=\"dataframe\">\n",
       "  <thead>\n",
       "    <tr style=\"text-align: right;\">\n",
       "      <th></th>\n",
       "      <th>READ_PHONE_STATE</th>\n",
       "      <th>SEND_SMS</th>\n",
       "      <th>transact</th>\n",
       "      <th>onServiceConnected</th>\n",
       "      <th>class_conv</th>\n",
       "    </tr>\n",
       "  </thead>\n",
       "  <tbody>\n",
       "    <tr>\n",
       "      <th>2021</th>\n",
       "      <td>0</td>\n",
       "      <td>1</td>\n",
       "      <td>1</td>\n",
       "      <td>0</td>\n",
       "      <td>1</td>\n",
       "    </tr>\n",
       "  </tbody>\n",
       "</table>\n",
       "</div>"
      ],
      "text/plain": [
       "      READ_PHONE_STATE  SEND_SMS  transact  onServiceConnected  class_conv\n",
       "2021                 0         1         1                   0           1"
      ]
     },
     "execution_count": 88,
     "metadata": {},
     "output_type": "execute_result"
    }
   ],
   "source": [
    "df.loc[[2021]][['READ_PHONE_STATE', 'SEND_SMS', 'transact', 'onServiceConnected','class_conv']]"
   ]
  },
  {
   "cell_type": "code",
   "execution_count": 89,
   "id": "d22cf8cb-444e-4cac-b103-b45704e644c1",
   "metadata": {},
   "outputs": [
    {
     "data": {
      "text/html": [
       "<div>\n",
       "<style scoped>\n",
       "    .dataframe tbody tr th:only-of-type {\n",
       "        vertical-align: middle;\n",
       "    }\n",
       "\n",
       "    .dataframe tbody tr th {\n",
       "        vertical-align: top;\n",
       "    }\n",
       "\n",
       "    .dataframe thead th {\n",
       "        text-align: right;\n",
       "    }\n",
       "</style>\n",
       "<table border=\"1\" class=\"dataframe\">\n",
       "  <thead>\n",
       "    <tr style=\"text-align: right;\">\n",
       "      <th></th>\n",
       "      <th>transact</th>\n",
       "      <th>onServiceConnected</th>\n",
       "      <th>bindService</th>\n",
       "      <th>attachInterface</th>\n",
       "      <th>ServiceConnection</th>\n",
       "      <th>android.os.Binder</th>\n",
       "      <th>SEND_SMS</th>\n",
       "      <th>Ljava.lang.Class.getCanonicalName</th>\n",
       "      <th>Ljava.lang.Class.getMethods</th>\n",
       "      <th>Ljava.lang.Class.cast</th>\n",
       "      <th>...</th>\n",
       "      <th>READ_CONTACTS</th>\n",
       "      <th>DEVICE_POWER</th>\n",
       "      <th>HARDWARE_TEST</th>\n",
       "      <th>ACCESS_WIFI_STATE</th>\n",
       "      <th>WRITE_EXTERNAL_STORAGE</th>\n",
       "      <th>ACCESS_FINE_LOCATION</th>\n",
       "      <th>SET_WALLPAPER_HINTS</th>\n",
       "      <th>SET_PREFERRED_APPLICATIONS</th>\n",
       "      <th>WRITE_SECURE_SETTINGS</th>\n",
       "      <th>class_conv</th>\n",
       "    </tr>\n",
       "  </thead>\n",
       "  <tbody>\n",
       "    <tr>\n",
       "      <th>2021</th>\n",
       "      <td>1</td>\n",
       "      <td>0</td>\n",
       "      <td>1</td>\n",
       "      <td>0</td>\n",
       "      <td>1</td>\n",
       "      <td>1</td>\n",
       "      <td>1</td>\n",
       "      <td>0</td>\n",
       "      <td>0</td>\n",
       "      <td>0</td>\n",
       "      <td>...</td>\n",
       "      <td>0</td>\n",
       "      <td>0</td>\n",
       "      <td>0</td>\n",
       "      <td>1</td>\n",
       "      <td>1</td>\n",
       "      <td>0</td>\n",
       "      <td>0</td>\n",
       "      <td>0</td>\n",
       "      <td>0</td>\n",
       "      <td>1</td>\n",
       "    </tr>\n",
       "  </tbody>\n",
       "</table>\n",
       "<p>1 rows × 216 columns</p>\n",
       "</div>"
      ],
      "text/plain": [
       "      transact  onServiceConnected  bindService  attachInterface  \\\n",
       "2021         1                   0            1                0   \n",
       "\n",
       "      ServiceConnection  android.os.Binder  SEND_SMS  \\\n",
       "2021                  1                  1         1   \n",
       "\n",
       "      Ljava.lang.Class.getCanonicalName  Ljava.lang.Class.getMethods  \\\n",
       "2021                                  0                            0   \n",
       "\n",
       "      Ljava.lang.Class.cast  ...  READ_CONTACTS  DEVICE_POWER  HARDWARE_TEST  \\\n",
       "2021                      0  ...              0             0              0   \n",
       "\n",
       "      ACCESS_WIFI_STATE  WRITE_EXTERNAL_STORAGE  ACCESS_FINE_LOCATION  \\\n",
       "2021                  1                       1                     0   \n",
       "\n",
       "      SET_WALLPAPER_HINTS  SET_PREFERRED_APPLICATIONS  WRITE_SECURE_SETTINGS  \\\n",
       "2021                    0                           0                      0   \n",
       "\n",
       "      class_conv  \n",
       "2021           1  \n",
       "\n",
       "[1 rows x 216 columns]"
      ]
     },
     "execution_count": 89,
     "metadata": {},
     "output_type": "execute_result"
    }
   ],
   "source": [
    "df.loc[[2021]]"
   ]
  },
  {
   "attachments": {},
   "cell_type": "markdown",
   "id": "d7285128-74d1-4f3b-8805-4634c5f85d37",
   "metadata": {},
   "source": [
    "## Lets try our model"
   ]
  },
  {
   "cell_type": "code",
   "execution_count": 90,
   "id": "a20ec1ac-8536-4c75-8a81-e305821a20ea",
   "metadata": {},
   "outputs": [
    {
     "data": {
      "text/html": [
       "<style>#sk-container-id-3 {color: black;background-color: white;}#sk-container-id-3 pre{padding: 0;}#sk-container-id-3 div.sk-toggleable {background-color: white;}#sk-container-id-3 label.sk-toggleable__label {cursor: pointer;display: block;width: 100%;margin-bottom: 0;padding: 0.3em;box-sizing: border-box;text-align: center;}#sk-container-id-3 label.sk-toggleable__label-arrow:before {content: \"▸\";float: left;margin-right: 0.25em;color: #696969;}#sk-container-id-3 label.sk-toggleable__label-arrow:hover:before {color: black;}#sk-container-id-3 div.sk-estimator:hover label.sk-toggleable__label-arrow:before {color: black;}#sk-container-id-3 div.sk-toggleable__content {max-height: 0;max-width: 0;overflow: hidden;text-align: left;background-color: #f0f8ff;}#sk-container-id-3 div.sk-toggleable__content pre {margin: 0.2em;color: black;border-radius: 0.25em;background-color: #f0f8ff;}#sk-container-id-3 input.sk-toggleable__control:checked~div.sk-toggleable__content {max-height: 200px;max-width: 100%;overflow: auto;}#sk-container-id-3 input.sk-toggleable__control:checked~label.sk-toggleable__label-arrow:before {content: \"▾\";}#sk-container-id-3 div.sk-estimator input.sk-toggleable__control:checked~label.sk-toggleable__label {background-color: #d4ebff;}#sk-container-id-3 div.sk-label input.sk-toggleable__control:checked~label.sk-toggleable__label {background-color: #d4ebff;}#sk-container-id-3 input.sk-hidden--visually {border: 0;clip: rect(1px 1px 1px 1px);clip: rect(1px, 1px, 1px, 1px);height: 1px;margin: -1px;overflow: hidden;padding: 0;position: absolute;width: 1px;}#sk-container-id-3 div.sk-estimator {font-family: monospace;background-color: #f0f8ff;border: 1px dotted black;border-radius: 0.25em;box-sizing: border-box;margin-bottom: 0.5em;}#sk-container-id-3 div.sk-estimator:hover {background-color: #d4ebff;}#sk-container-id-3 div.sk-parallel-item::after {content: \"\";width: 100%;border-bottom: 1px solid gray;flex-grow: 1;}#sk-container-id-3 div.sk-label:hover label.sk-toggleable__label {background-color: #d4ebff;}#sk-container-id-3 div.sk-serial::before {content: \"\";position: absolute;border-left: 1px solid gray;box-sizing: border-box;top: 0;bottom: 0;left: 50%;z-index: 0;}#sk-container-id-3 div.sk-serial {display: flex;flex-direction: column;align-items: center;background-color: white;padding-right: 0.2em;padding-left: 0.2em;position: relative;}#sk-container-id-3 div.sk-item {position: relative;z-index: 1;}#sk-container-id-3 div.sk-parallel {display: flex;align-items: stretch;justify-content: center;background-color: white;position: relative;}#sk-container-id-3 div.sk-item::before, #sk-container-id-3 div.sk-parallel-item::before {content: \"\";position: absolute;border-left: 1px solid gray;box-sizing: border-box;top: 0;bottom: 0;left: 50%;z-index: -1;}#sk-container-id-3 div.sk-parallel-item {display: flex;flex-direction: column;z-index: 1;position: relative;background-color: white;}#sk-container-id-3 div.sk-parallel-item:first-child::after {align-self: flex-end;width: 50%;}#sk-container-id-3 div.sk-parallel-item:last-child::after {align-self: flex-start;width: 50%;}#sk-container-id-3 div.sk-parallel-item:only-child::after {width: 0;}#sk-container-id-3 div.sk-dashed-wrapped {border: 1px dashed gray;margin: 0 0.4em 0.5em 0.4em;box-sizing: border-box;padding-bottom: 0.4em;background-color: white;}#sk-container-id-3 div.sk-label label {font-family: monospace;font-weight: bold;display: inline-block;line-height: 1.2em;}#sk-container-id-3 div.sk-label-container {text-align: center;}#sk-container-id-3 div.sk-container {/* jupyter's `normalize.less` sets `[hidden] { display: none; }` but bootstrap.min.css set `[hidden] { display: none !important; }` so we also need the `!important` here to be able to override the default hidden behavior on the sphinx rendered scikit-learn.org. See: https://github.com/scikit-learn/scikit-learn/issues/21755 */display: inline-block !important;position: relative;}#sk-container-id-3 div.sk-text-repr-fallback {display: none;}</style><div id=\"sk-container-id-3\" class=\"sk-top-container\"><div class=\"sk-text-repr-fallback\"><pre>GradientBoostingClassifier(learning_rate=0.01, n_estimators=300, random_state=0)</pre><b>In a Jupyter environment, please rerun this cell to show the HTML representation or trust the notebook. <br />On GitHub, the HTML representation is unable to render, please try loading this page with nbviewer.org.</b></div><div class=\"sk-container\" hidden><div class=\"sk-item\"><div class=\"sk-estimator sk-toggleable\"><input class=\"sk-toggleable__control sk-hidden--visually\" id=\"sk-estimator-id-3\" type=\"checkbox\" checked><label for=\"sk-estimator-id-3\" class=\"sk-toggleable__label sk-toggleable__label-arrow\">GradientBoostingClassifier</label><div class=\"sk-toggleable__content\"><pre>GradientBoostingClassifier(learning_rate=0.01, n_estimators=300, random_state=0)</pre></div></div></div></div></div>"
      ],
      "text/plain": [
       "GradientBoostingClassifier(learning_rate=0.01, n_estimators=300, random_state=0)"
      ]
     },
     "execution_count": 90,
     "metadata": {},
     "output_type": "execute_result"
    }
   ],
   "source": [
    "y = df.class_conv\n",
    "y = y.astype('int') \n",
    "\n",
    "X = df.drop(columns=['class_conv'])\n",
    "# scaler = StandardScaler()\n",
    "# scaled_features = scaler.fit_transform(X)\n",
    "# df_scales = pd.DataFrame(scaled_features, columns=X.columns)\n",
    "X_train, X_test, y_train, y_test = train_test_split(X, y, test_size=0.2, random_state=42)\n",
    "\n",
    "clf = GradientBoostingClassifier(n_estimators=300, learning_rate=0.01 , random_state=0)\n",
    "\n",
    "clf.fit(X_train, y_train)"
   ]
  },
  {
   "cell_type": "code",
   "execution_count": 91,
   "id": "2e654c9d-1f60-4e00-9e0d-b44e10bf87da",
   "metadata": {},
   "outputs": [
    {
     "name": "stdout",
     "output_type": "stream",
     "text": [
      "Scores for Text data\n",
      "Accuracy: 0.9477884935151314\n",
      "Precision: 0.9454713493530499\n",
      "Recall: 0.9125780553077609\n",
      "F1 score: 0.9475934940436991\n"
     ]
    }
   ],
   "source": [
    "y_pred_test = clf.predict(X_test)\n",
    "print('Scores for Text data')\n",
    "print(\"Accuracy:\",metrics.accuracy_score(y_test, y_pred_test))\n",
    "print(\"Precision:\",metrics.precision_score(y_test, y_pred_test))\n",
    "print(\"Recall:\",metrics.recall_score(y_test, y_pred_test))\n",
    "print(\"F1 score:\",metrics.f1_score(y_test, y_pred_test,  average='weighted'))"
   ]
  },
  {
   "cell_type": "code",
   "execution_count": 92,
   "id": "9af32f03-83f8-4405-a89b-dde284d70139",
   "metadata": {},
   "outputs": [],
   "source": [
    "X_test['predicted_class'] = y_pred_test"
   ]
  },
  {
   "cell_type": "code",
   "execution_count": 93,
   "id": "4bcb648d-6727-4c82-98aa-0a19a5f46a80",
   "metadata": {},
   "outputs": [
    {
     "data": {
      "text/plain": [
       "2021    1\n",
       "Name: predicted_class, dtype: int64"
      ]
     },
     "execution_count": 93,
     "metadata": {},
     "output_type": "execute_result"
    }
   ],
   "source": [
    "X_test.loc[[2021]]['predicted_class']"
   ]
  },
  {
   "cell_type": "code",
   "execution_count": null,
   "id": "7ee29181-328e-4294-a4ea-6f64ae598252",
   "metadata": {},
   "outputs": [],
   "source": []
  },
  {
   "attachments": {},
   "cell_type": "markdown",
   "id": "6e930d94-324a-4695-9cb4-fbfd55064d69",
   "metadata": {},
   "source": [
    "## It did not help up to bypass the model. Lets try another approach"
   ]
  },
  {
   "attachments": {},
   "cell_type": "markdown",
   "id": "0396c4cd-d083-49a1-aef8-da76594f40cd",
   "metadata": {},
   "source": [
    "First of all we need to rerurn all changed values "
   ]
  },
  {
   "cell_type": "code",
   "execution_count": 94,
   "id": "33fa2faa-47cc-418e-82ea-7520a22670a5",
   "metadata": {},
   "outputs": [],
   "source": [
    "df.loc[2021, 'READ_PHONE_STATE'] = 1\n",
    "df.loc[2021, 'SEND_SMS'] = 0\n",
    "df.loc[2021, 'transact'] = 0\n",
    "df.loc[2021, 'onServiceConnected'] = 1"
   ]
  },
  {
   "cell_type": "code",
   "execution_count": null,
   "id": "1b6858d7-169f-400d-982f-eb592cb2b3fd",
   "metadata": {},
   "outputs": [],
   "source": []
  },
  {
   "cell_type": "code",
   "execution_count": null,
   "id": "1d940b18-6834-4dbb-853a-dd1cea60f927",
   "metadata": {},
   "outputs": [],
   "source": []
  },
  {
   "attachments": {},
   "cell_type": "markdown",
   "id": "1471c17c-f6b1-4298-93f7-e9c368c93d34",
   "metadata": {},
   "source": [
    "## Second try"
   ]
  },
  {
   "attachments": {},
   "cell_type": "markdown",
   "id": "a229315b-d73b-47c2-a739-95a2f82a9638",
   "metadata": {},
   "source": [
    "## In this approach i tried to find most commomly used features for malicios programs and least used features for benign programs. This information could give me insights which parameters i need to change for bypass the model"
   ]
  },
  {
   "cell_type": "code",
   "execution_count": 95,
   "id": "c9a40849-d10e-4131-95a0-e553b2c9d6bb",
   "metadata": {},
   "outputs": [
    {
     "data": {
      "text/plain": [
       "(15031, 216)"
      ]
     },
     "execution_count": 95,
     "metadata": {},
     "output_type": "execute_result"
    }
   ],
   "source": [
    "df.shape"
   ]
  },
  {
   "cell_type": "code",
   "execution_count": 96,
   "id": "81d3c0f5-c7e1-48ad-9421-cd7743726e3b",
   "metadata": {},
   "outputs": [],
   "source": [
    "column_sums_malvare = df[df['class_conv'] == 1].sum()"
   ]
  },
  {
   "cell_type": "code",
   "execution_count": 97,
   "id": "8a53f4ca-b948-4d5c-a8ec-fcf8c2b83db9",
   "metadata": {},
   "outputs": [
    {
     "data": {
      "text/plain": [
       "(5555, 216)"
      ]
     },
     "execution_count": 97,
     "metadata": {},
     "output_type": "execute_result"
    }
   ],
   "source": [
    "df[df['class_conv'] == 1].shape"
   ]
  },
  {
   "cell_type": "code",
   "execution_count": 98,
   "id": "2eead3fb-2474-45d2-8148-c8c33aac4a0f",
   "metadata": {},
   "outputs": [
    {
     "data": {
      "text/plain": [
       "class_conv                   5555\n",
       "INTERNET                     5340\n",
       "READ_PHONE_STATE             4946\n",
       "Binder                       3770\n",
       "android.os.IBinder           3758\n",
       "                             ... \n",
       "MOUNT_UNMOUNT_FILESYSTEMS     235\n",
       "CAMERA                        231\n",
       "PROCESS_OUTGOING_CALLS        225\n",
       "sendDataMessage               222\n",
       "SET_ALARM                     207\n",
       "Length: 100, dtype: int64"
      ]
     },
     "execution_count": 98,
     "metadata": {},
     "output_type": "execute_result"
    }
   ],
   "source": [
    "column_sums_malvare.sort_values(ascending=False)[:100]"
   ]
  },
  {
   "cell_type": "code",
   "execution_count": 99,
   "id": "8164ea25-a2e3-4888-857b-9a423ae60e16",
   "metadata": {},
   "outputs": [],
   "source": [
    "top_malware_columns = column_sums_malvare.sort_values(ascending=False)[:150].index"
   ]
  },
  {
   "cell_type": "code",
   "execution_count": 100,
   "id": "f0bce46d-a03c-4943-9339-f599621db1d5",
   "metadata": {},
   "outputs": [
    {
     "data": {
      "text/plain": [
       "Index(['class_conv', 'INTERNET', 'READ_PHONE_STATE', 'Binder',\n",
       "       'android.os.IBinder', 'IBinder', 'WRITE_EXTERNAL_STORAGE',\n",
       "       'ACCESS_NETWORK_STATE', 'TelephonyManager.getDeviceId', 'onBind',\n",
       "       ...\n",
       "       'android.intent.action.SENDTO', 'defineClass', 'BROADCAST_STICKY',\n",
       "       'BROADCAST_SMS', 'BIND_DEVICE_ADMIN', 'getBinder', 'HARDWARE_TEST',\n",
       "       'android.intent.action.PACKAGE_CHANGED', 'READ_SYNC_SETTINGS',\n",
       "       'SET_ORIENTATION'],\n",
       "      dtype='object', length=150)"
      ]
     },
     "execution_count": 100,
     "metadata": {},
     "output_type": "execute_result"
    }
   ],
   "source": [
    "top_malware_columns"
   ]
  },
  {
   "cell_type": "code",
   "execution_count": 101,
   "id": "9a05a022-be4a-4046-9758-0d1f662667d1",
   "metadata": {},
   "outputs": [],
   "source": [
    "top_malware_columns_set = set(top_malware_columns)"
   ]
  },
  {
   "cell_type": "code",
   "execution_count": 102,
   "id": "0844c99d-7884-4298-86f2-5cf08edade45",
   "metadata": {},
   "outputs": [],
   "source": [
    "column_sums_binign = df[df['class_conv'] != 1].sum()"
   ]
  },
  {
   "cell_type": "code",
   "execution_count": 103,
   "id": "ae9ad7e5-eadc-465c-bda5-d4ddc359eea3",
   "metadata": {},
   "outputs": [
    {
     "data": {
      "text/plain": [
       "(9476, 216)"
      ]
     },
     "execution_count": 103,
     "metadata": {},
     "output_type": "execute_result"
    }
   ],
   "source": [
    "df[df['class_conv'] != 1].shape"
   ]
  },
  {
   "cell_type": "code",
   "execution_count": 104,
   "id": "fd575068-5848-4e2b-958b-f982766ed26b",
   "metadata": {},
   "outputs": [],
   "source": [
    "# column_sums_binign.sort_values(ascending=False)[:20]"
   ]
  },
  {
   "cell_type": "code",
   "execution_count": 105,
   "id": "3f2d25fd-3b12-41e2-a062-6c74cc00951e",
   "metadata": {},
   "outputs": [
    {
     "data": {
      "text/plain": [
       "class_conv                                           0\n",
       "createSubprocess                                     4\n",
       "BIND_VPN_SERVICE                                     8\n",
       "Runtime.loadLibrary                                 15\n",
       "SET_ACTIVITY_WATCHER                                15\n",
       "                                                  ... \n",
       "STATUS_BAR                                         344\n",
       "GLOBAL_SEARCH                                      364\n",
       "PathClassLoader                                    378\n",
       "READ_HISTORY_BOOKMARKS                             394\n",
       "android.intent.action.ACTION_POWER_DISCONNECTED    405\n",
       "Length: 100, dtype: int64"
      ]
     },
     "execution_count": 105,
     "metadata": {},
     "output_type": "execute_result"
    }
   ],
   "source": [
    "column_sums_binign.sort_values(ascending=True)[:100]"
   ]
  },
  {
   "cell_type": "code",
   "execution_count": 106,
   "id": "e363962c-21e8-44ae-9fd5-c03b1dd8f387",
   "metadata": {},
   "outputs": [],
   "source": [
    "top_benign_columns = column_sums_binign.sort_values(ascending=True)[:150].index"
   ]
  },
  {
   "cell_type": "code",
   "execution_count": 107,
   "id": "f1489945-3423-45cc-92bb-9aa7ba6a9c74",
   "metadata": {},
   "outputs": [],
   "source": [
    "top_benign_columns_set = set(top_benign_columns)"
   ]
  },
  {
   "cell_type": "code",
   "execution_count": 108,
   "id": "011a54af-a2ba-4d31-a106-c2b0b96cfcf2",
   "metadata": {},
   "outputs": [],
   "source": [
    "diff_columns = top_malware_columns_set.intersection(top_benign_columns_set)"
   ]
  },
  {
   "cell_type": "code",
   "execution_count": 109,
   "id": "9a319109-2338-4c16-aba4-717afee70f31",
   "metadata": {
    "tags": []
   },
   "outputs": [
    {
     "data": {
      "text/plain": [
       "{'/system/bin',\n",
       " 'ACCESS_LOCATION_EXTRA_COMMANDS',\n",
       " 'ACCESS_MOCK_LOCATION',\n",
       " 'BATTERY_STATS',\n",
       " 'BIND_DEVICE_ADMIN',\n",
       " 'BIND_WALLPAPER',\n",
       " 'BLUETOOTH',\n",
       " 'BLUETOOTH_ADMIN',\n",
       " 'BROADCAST_SMS',\n",
       " 'BROADCAST_STICKY',\n",
       " 'CALL_PHONE',\n",
       " 'CHANGE_COMPONENT_ENABLED_STATE',\n",
       " 'CHANGE_CONFIGURATION',\n",
       " 'CHANGE_NETWORK_STATE',\n",
       " 'CLEAR_APP_CACHE',\n",
       " 'CONTROL_LOCATION_UPDATES',\n",
       " 'DELETE_CACHE_FILES',\n",
       " 'DELETE_PACKAGES',\n",
       " 'DEVICE_POWER',\n",
       " 'DISABLE_KEYGUARD',\n",
       " 'EXPAND_STATUS_BAR',\n",
       " 'FLASHLIGHT',\n",
       " 'GET_PACKAGE_SIZE',\n",
       " 'GLOBAL_SEARCH',\n",
       " 'HARDWARE_TEST',\n",
       " 'INSTALL_PACKAGES',\n",
       " 'KILL_BACKGROUND_PROCESSES',\n",
       " 'Ljava.lang.Class.getClasses',\n",
       " 'MODIFY_AUDIO_SETTINGS',\n",
       " 'MODIFY_PHONE_STATE',\n",
       " 'MOUNT_UNMOUNT_FILESYSTEMS',\n",
       " 'PROCESS_OUTGOING_CALLS',\n",
       " 'PackageInstaller',\n",
       " 'ProcessBuilder',\n",
       " 'READ_CALENDAR',\n",
       " 'READ_EXTERNAL_STORAGE',\n",
       " 'READ_HISTORY_BOOKMARKS',\n",
       " 'READ_LOGS',\n",
       " 'READ_SMS',\n",
       " 'READ_SYNC_SETTINGS',\n",
       " 'RECEIVE_MMS',\n",
       " 'RECEIVE_SMS',\n",
       " 'RECEIVE_WAP_PUSH',\n",
       " 'RECORD_AUDIO',\n",
       " 'RESTART_PACKAGES',\n",
       " 'SEND_SMS',\n",
       " 'SET_ALARM',\n",
       " 'SET_ORIENTATION',\n",
       " 'SET_PREFERRED_APPLICATIONS',\n",
       " 'SET_WALLPAPER',\n",
       " 'SET_WALLPAPER_HINTS',\n",
       " 'STATUS_BAR',\n",
       " 'SYSTEM_ALERT_WINDOW',\n",
       " 'TelephonyManager.getCallState',\n",
       " 'TelephonyManager.getSimSerialNumber',\n",
       " 'TelephonyManager.getSubscriberId',\n",
       " 'TelephonyManager.isNetworkRoaming',\n",
       " 'UPDATE_DEVICE_STATS',\n",
       " 'WRITE_APN_SETTINGS',\n",
       " 'WRITE_CALENDAR',\n",
       " 'WRITE_CONTACTS',\n",
       " 'WRITE_HISTORY_BOOKMARKS',\n",
       " 'WRITE_SECURE_SETTINGS',\n",
       " 'WRITE_SMS',\n",
       " 'WRITE_SYNC_SETTINGS',\n",
       " 'abortBroadcast',\n",
       " 'android.intent.action.ACTION_POWER_CONNECTED',\n",
       " 'android.intent.action.BATTERY_LOW',\n",
       " 'android.intent.action.BATTERY_OKAY',\n",
       " 'android.intent.action.NEW_OUTGOING_CALL',\n",
       " 'android.intent.action.PACKAGE_ADDED',\n",
       " 'android.intent.action.PACKAGE_CHANGED',\n",
       " 'android.intent.action.PACKAGE_REMOVED',\n",
       " 'android.intent.action.PACKAGE_REPLACED',\n",
       " 'android.intent.action.SENDTO',\n",
       " 'android.intent.action.SET_WALLPAPER',\n",
       " 'android.telephony.SmsManager',\n",
       " 'android.telephony.gsm.SmsManager',\n",
       " 'chmod',\n",
       " 'chown',\n",
       " 'class_conv',\n",
       " 'createSubprocess',\n",
       " 'defineClass',\n",
       " 'divideMessage',\n",
       " 'findClass',\n",
       " 'remount',\n",
       " 'sendDataMessage'}"
      ]
     },
     "execution_count": 109,
     "metadata": {},
     "output_type": "execute_result"
    }
   ],
   "source": [
    "diff_columns"
   ]
  },
  {
   "cell_type": "code",
   "execution_count": 110,
   "id": "49005f52-0491-4f3e-8b92-12f28ff5b65b",
   "metadata": {},
   "outputs": [],
   "source": [
    "diff_columns = list(diff_columns)"
   ]
  },
  {
   "attachments": {},
   "cell_type": "markdown",
   "id": "144717e3-d0c9-420d-9c02-7bc18887ab53",
   "metadata": {},
   "source": [
    "## We need to set 0 for this features to bypass our model"
   ]
  },
  {
   "cell_type": "code",
   "execution_count": 111,
   "id": "5dbf9947-cd42-476a-be9e-c33c471ac7f3",
   "metadata": {},
   "outputs": [
    {
     "data": {
      "text/plain": [
       "(15031, 216)"
      ]
     },
     "execution_count": 111,
     "metadata": {},
     "output_type": "execute_result"
    }
   ],
   "source": [
    "df.shape"
   ]
  },
  {
   "cell_type": "code",
   "execution_count": 112,
   "id": "219ad871-52ff-4915-a2b4-85e80870812c",
   "metadata": {},
   "outputs": [
    {
     "data": {
      "text/html": [
       "<div>\n",
       "<style scoped>\n",
       "    .dataframe tbody tr th:only-of-type {\n",
       "        vertical-align: middle;\n",
       "    }\n",
       "\n",
       "    .dataframe tbody tr th {\n",
       "        vertical-align: top;\n",
       "    }\n",
       "\n",
       "    .dataframe thead th {\n",
       "        text-align: right;\n",
       "    }\n",
       "</style>\n",
       "<table border=\"1\" class=\"dataframe\">\n",
       "  <thead>\n",
       "    <tr style=\"text-align: right;\">\n",
       "      <th></th>\n",
       "      <th>android.intent.action.NEW_OUTGOING_CALL</th>\n",
       "      <th>android.intent.action.BATTERY_LOW</th>\n",
       "      <th>READ_SYNC_SETTINGS</th>\n",
       "      <th>READ_EXTERNAL_STORAGE</th>\n",
       "      <th>GLOBAL_SEARCH</th>\n",
       "      <th>CONTROL_LOCATION_UPDATES</th>\n",
       "      <th>DISABLE_KEYGUARD</th>\n",
       "      <th>findClass</th>\n",
       "      <th>WRITE_CALENDAR</th>\n",
       "      <th>MODIFY_PHONE_STATE</th>\n",
       "      <th>...</th>\n",
       "      <th>WRITE_SYNC_SETTINGS</th>\n",
       "      <th>SET_WALLPAPER_HINTS</th>\n",
       "      <th>WRITE_APN_SETTINGS</th>\n",
       "      <th>INSTALL_PACKAGES</th>\n",
       "      <th>WRITE_SECURE_SETTINGS</th>\n",
       "      <th>DELETE_CACHE_FILES</th>\n",
       "      <th>android.intent.action.PACKAGE_REMOVED</th>\n",
       "      <th>MODIFY_AUDIO_SETTINGS</th>\n",
       "      <th>TelephonyManager.getSimSerialNumber</th>\n",
       "      <th>android.intent.action.PACKAGE_REPLACED</th>\n",
       "    </tr>\n",
       "  </thead>\n",
       "  <tbody>\n",
       "    <tr>\n",
       "      <th>2021</th>\n",
       "      <td>0</td>\n",
       "      <td>0</td>\n",
       "      <td>0</td>\n",
       "      <td>1</td>\n",
       "      <td>0</td>\n",
       "      <td>0</td>\n",
       "      <td>0</td>\n",
       "      <td>0</td>\n",
       "      <td>0</td>\n",
       "      <td>0</td>\n",
       "      <td>...</td>\n",
       "      <td>0</td>\n",
       "      <td>0</td>\n",
       "      <td>0</td>\n",
       "      <td>0</td>\n",
       "      <td>0</td>\n",
       "      <td>0</td>\n",
       "      <td>0</td>\n",
       "      <td>0</td>\n",
       "      <td>0</td>\n",
       "      <td>0</td>\n",
       "    </tr>\n",
       "  </tbody>\n",
       "</table>\n",
       "<p>1 rows × 87 columns</p>\n",
       "</div>"
      ],
      "text/plain": [
       "      android.intent.action.NEW_OUTGOING_CALL  \\\n",
       "2021                                        0   \n",
       "\n",
       "      android.intent.action.BATTERY_LOW  READ_SYNC_SETTINGS  \\\n",
       "2021                                  0                   0   \n",
       "\n",
       "      READ_EXTERNAL_STORAGE  GLOBAL_SEARCH  CONTROL_LOCATION_UPDATES  \\\n",
       "2021                      1              0                         0   \n",
       "\n",
       "      DISABLE_KEYGUARD  findClass  WRITE_CALENDAR  MODIFY_PHONE_STATE  ...  \\\n",
       "2021                 0          0               0                   0  ...   \n",
       "\n",
       "      WRITE_SYNC_SETTINGS  SET_WALLPAPER_HINTS  WRITE_APN_SETTINGS  \\\n",
       "2021                    0                    0                   0   \n",
       "\n",
       "      INSTALL_PACKAGES  WRITE_SECURE_SETTINGS  DELETE_CACHE_FILES  \\\n",
       "2021                 0                      0                   0   \n",
       "\n",
       "      android.intent.action.PACKAGE_REMOVED  MODIFY_AUDIO_SETTINGS  \\\n",
       "2021                                      0                      0   \n",
       "\n",
       "      TelephonyManager.getSimSerialNumber  \\\n",
       "2021                                    0   \n",
       "\n",
       "      android.intent.action.PACKAGE_REPLACED  \n",
       "2021                                       0  \n",
       "\n",
       "[1 rows x 87 columns]"
      ]
     },
     "execution_count": 112,
     "metadata": {},
     "output_type": "execute_result"
    }
   ],
   "source": [
    "df.loc[[2021]][diff_columns]"
   ]
  },
  {
   "cell_type": "code",
   "execution_count": null,
   "id": "d4d641a5-5907-468a-acc6-9e413464120a",
   "metadata": {},
   "outputs": [],
   "source": []
  },
  {
   "attachments": {},
   "cell_type": "markdown",
   "id": "b6c86fb4-f975-4236-9d1b-3ce8be369891",
   "metadata": {},
   "source": [
    "I need to find those features where there are 1s"
   ]
  },
  {
   "cell_type": "code",
   "execution_count": 113,
   "id": "6a638dd0-b38f-414a-9096-17d19954d50d",
   "metadata": {},
   "outputs": [],
   "source": [
    "filtered_columns = df.loc[2021, diff_columns][df.loc[2021, diff_columns] == 1]\n",
    "# Access the column names as a list\n",
    "selected_columns = filtered_columns.index.tolist()"
   ]
  },
  {
   "cell_type": "code",
   "execution_count": 114,
   "id": "a392e677-0af1-4999-a369-d04406e9619f",
   "metadata": {},
   "outputs": [
    {
     "data": {
      "text/plain": [
       "['READ_EXTERNAL_STORAGE', 'chmod', 'BROADCAST_STICKY', 'class_conv']"
      ]
     },
     "execution_count": 114,
     "metadata": {},
     "output_type": "execute_result"
    }
   ],
   "source": [
    "selected_columns"
   ]
  },
  {
   "cell_type": "code",
   "execution_count": 115,
   "id": "0a052be6-fd0f-473a-b76c-7b337a48a541",
   "metadata": {},
   "outputs": [],
   "source": [
    "df_features_without_target = [col for col in selected_columns if col != 'class_conv']"
   ]
  },
  {
   "cell_type": "code",
   "execution_count": 116,
   "id": "ed397ab5-3f6c-44f1-b63b-43f3f305454c",
   "metadata": {},
   "outputs": [
    {
     "data": {
      "text/plain": [
       "['READ_EXTERNAL_STORAGE', 'chmod', 'BROADCAST_STICKY']"
      ]
     },
     "execution_count": 116,
     "metadata": {},
     "output_type": "execute_result"
    }
   ],
   "source": [
    "df_features_without_target"
   ]
  },
  {
   "cell_type": "code",
   "execution_count": null,
   "id": "e1573b10-fa3c-493a-b92f-894c2e93bccd",
   "metadata": {},
   "outputs": [],
   "source": []
  },
  {
   "attachments": {},
   "cell_type": "markdown",
   "id": "df0b3e70-3382-4f6b-8410-5ddb1df468a6",
   "metadata": {},
   "source": [
    "Change values to 0s"
   ]
  },
  {
   "cell_type": "code",
   "execution_count": 117,
   "id": "d26e3f23-68cf-4eda-a514-9ce433b22a61",
   "metadata": {},
   "outputs": [],
   "source": [
    "for i in df_features_without_target:\n",
    "    df.loc[2021, i] = 0"
   ]
  },
  {
   "cell_type": "code",
   "execution_count": 118,
   "id": "76d0a906-4260-48cc-87b1-5116045bb9d1",
   "metadata": {},
   "outputs": [
    {
     "data": {
      "text/html": [
       "<div>\n",
       "<style scoped>\n",
       "    .dataframe tbody tr th:only-of-type {\n",
       "        vertical-align: middle;\n",
       "    }\n",
       "\n",
       "    .dataframe tbody tr th {\n",
       "        vertical-align: top;\n",
       "    }\n",
       "\n",
       "    .dataframe thead th {\n",
       "        text-align: right;\n",
       "    }\n",
       "</style>\n",
       "<table border=\"1\" class=\"dataframe\">\n",
       "  <thead>\n",
       "    <tr style=\"text-align: right;\">\n",
       "      <th></th>\n",
       "      <th>READ_EXTERNAL_STORAGE</th>\n",
       "      <th>chmod</th>\n",
       "      <th>BROADCAST_STICKY</th>\n",
       "    </tr>\n",
       "  </thead>\n",
       "  <tbody>\n",
       "    <tr>\n",
       "      <th>2021</th>\n",
       "      <td>0</td>\n",
       "      <td>0</td>\n",
       "      <td>0</td>\n",
       "    </tr>\n",
       "  </tbody>\n",
       "</table>\n",
       "</div>"
      ],
      "text/plain": [
       "      READ_EXTERNAL_STORAGE  chmod  BROADCAST_STICKY\n",
       "2021                      0      0                 0"
      ]
     },
     "execution_count": 118,
     "metadata": {},
     "output_type": "execute_result"
    }
   ],
   "source": [
    "df.loc[[2021]][df_features_without_target]"
   ]
  },
  {
   "cell_type": "code",
   "execution_count": null,
   "id": "f9ea10e3-6062-4a59-9b26-4fe34df013f5",
   "metadata": {},
   "outputs": [],
   "source": []
  },
  {
   "attachments": {},
   "cell_type": "markdown",
   "id": "21b144ff-e759-4af3-a667-13489f956d93",
   "metadata": {},
   "source": [
    "## Lets check it and train the model"
   ]
  },
  {
   "cell_type": "code",
   "execution_count": 119,
   "id": "13e3c108-7ff5-42c9-912e-dddfe536d466",
   "metadata": {},
   "outputs": [
    {
     "data": {
      "text/html": [
       "<style>#sk-container-id-4 {color: black;background-color: white;}#sk-container-id-4 pre{padding: 0;}#sk-container-id-4 div.sk-toggleable {background-color: white;}#sk-container-id-4 label.sk-toggleable__label {cursor: pointer;display: block;width: 100%;margin-bottom: 0;padding: 0.3em;box-sizing: border-box;text-align: center;}#sk-container-id-4 label.sk-toggleable__label-arrow:before {content: \"▸\";float: left;margin-right: 0.25em;color: #696969;}#sk-container-id-4 label.sk-toggleable__label-arrow:hover:before {color: black;}#sk-container-id-4 div.sk-estimator:hover label.sk-toggleable__label-arrow:before {color: black;}#sk-container-id-4 div.sk-toggleable__content {max-height: 0;max-width: 0;overflow: hidden;text-align: left;background-color: #f0f8ff;}#sk-container-id-4 div.sk-toggleable__content pre {margin: 0.2em;color: black;border-radius: 0.25em;background-color: #f0f8ff;}#sk-container-id-4 input.sk-toggleable__control:checked~div.sk-toggleable__content {max-height: 200px;max-width: 100%;overflow: auto;}#sk-container-id-4 input.sk-toggleable__control:checked~label.sk-toggleable__label-arrow:before {content: \"▾\";}#sk-container-id-4 div.sk-estimator input.sk-toggleable__control:checked~label.sk-toggleable__label {background-color: #d4ebff;}#sk-container-id-4 div.sk-label input.sk-toggleable__control:checked~label.sk-toggleable__label {background-color: #d4ebff;}#sk-container-id-4 input.sk-hidden--visually {border: 0;clip: rect(1px 1px 1px 1px);clip: rect(1px, 1px, 1px, 1px);height: 1px;margin: -1px;overflow: hidden;padding: 0;position: absolute;width: 1px;}#sk-container-id-4 div.sk-estimator {font-family: monospace;background-color: #f0f8ff;border: 1px dotted black;border-radius: 0.25em;box-sizing: border-box;margin-bottom: 0.5em;}#sk-container-id-4 div.sk-estimator:hover {background-color: #d4ebff;}#sk-container-id-4 div.sk-parallel-item::after {content: \"\";width: 100%;border-bottom: 1px solid gray;flex-grow: 1;}#sk-container-id-4 div.sk-label:hover label.sk-toggleable__label {background-color: #d4ebff;}#sk-container-id-4 div.sk-serial::before {content: \"\";position: absolute;border-left: 1px solid gray;box-sizing: border-box;top: 0;bottom: 0;left: 50%;z-index: 0;}#sk-container-id-4 div.sk-serial {display: flex;flex-direction: column;align-items: center;background-color: white;padding-right: 0.2em;padding-left: 0.2em;position: relative;}#sk-container-id-4 div.sk-item {position: relative;z-index: 1;}#sk-container-id-4 div.sk-parallel {display: flex;align-items: stretch;justify-content: center;background-color: white;position: relative;}#sk-container-id-4 div.sk-item::before, #sk-container-id-4 div.sk-parallel-item::before {content: \"\";position: absolute;border-left: 1px solid gray;box-sizing: border-box;top: 0;bottom: 0;left: 50%;z-index: -1;}#sk-container-id-4 div.sk-parallel-item {display: flex;flex-direction: column;z-index: 1;position: relative;background-color: white;}#sk-container-id-4 div.sk-parallel-item:first-child::after {align-self: flex-end;width: 50%;}#sk-container-id-4 div.sk-parallel-item:last-child::after {align-self: flex-start;width: 50%;}#sk-container-id-4 div.sk-parallel-item:only-child::after {width: 0;}#sk-container-id-4 div.sk-dashed-wrapped {border: 1px dashed gray;margin: 0 0.4em 0.5em 0.4em;box-sizing: border-box;padding-bottom: 0.4em;background-color: white;}#sk-container-id-4 div.sk-label label {font-family: monospace;font-weight: bold;display: inline-block;line-height: 1.2em;}#sk-container-id-4 div.sk-label-container {text-align: center;}#sk-container-id-4 div.sk-container {/* jupyter's `normalize.less` sets `[hidden] { display: none; }` but bootstrap.min.css set `[hidden] { display: none !important; }` so we also need the `!important` here to be able to override the default hidden behavior on the sphinx rendered scikit-learn.org. See: https://github.com/scikit-learn/scikit-learn/issues/21755 */display: inline-block !important;position: relative;}#sk-container-id-4 div.sk-text-repr-fallback {display: none;}</style><div id=\"sk-container-id-4\" class=\"sk-top-container\"><div class=\"sk-text-repr-fallback\"><pre>GradientBoostingClassifier(learning_rate=0.01, n_estimators=300, random_state=0)</pre><b>In a Jupyter environment, please rerun this cell to show the HTML representation or trust the notebook. <br />On GitHub, the HTML representation is unable to render, please try loading this page with nbviewer.org.</b></div><div class=\"sk-container\" hidden><div class=\"sk-item\"><div class=\"sk-estimator sk-toggleable\"><input class=\"sk-toggleable__control sk-hidden--visually\" id=\"sk-estimator-id-4\" type=\"checkbox\" checked><label for=\"sk-estimator-id-4\" class=\"sk-toggleable__label sk-toggleable__label-arrow\">GradientBoostingClassifier</label><div class=\"sk-toggleable__content\"><pre>GradientBoostingClassifier(learning_rate=0.01, n_estimators=300, random_state=0)</pre></div></div></div></div></div>"
      ],
      "text/plain": [
       "GradientBoostingClassifier(learning_rate=0.01, n_estimators=300, random_state=0)"
      ]
     },
     "execution_count": 119,
     "metadata": {},
     "output_type": "execute_result"
    }
   ],
   "source": [
    "y = df.class_conv\n",
    "y = y.astype('int') \n",
    "\n",
    "X = df.drop(columns=['class_conv'])\n",
    "# scaler = StandardScaler()\n",
    "# scaled_features = scaler.fit_transform(X)\n",
    "# df_scales = pd.DataFrame(scaled_features, columns=X.columns)\n",
    "X_train, X_test, y_train, y_test = train_test_split(X, y, test_size=0.2, random_state=42)\n",
    "\n",
    "clf = GradientBoostingClassifier(n_estimators=300, learning_rate=0.01 , random_state=0)\n",
    "\n",
    "clf.fit(X_train, y_train)"
   ]
  },
  {
   "cell_type": "code",
   "execution_count": 120,
   "id": "86fa85fb-8f14-4196-a59e-7ea4eccd7777",
   "metadata": {},
   "outputs": [
    {
     "name": "stdout",
     "output_type": "stream",
     "text": [
      "Scores for Text data\n",
      "Accuracy: 0.9474559361489857\n",
      "Precision: 0.9454209065679926\n",
      "Recall: 0.911685994647636\n",
      "F1 score: 0.9472543738403716\n"
     ]
    }
   ],
   "source": [
    "y_pred_test = clf.predict(X_test)\n",
    "print('Scores for Text data')\n",
    "print(\"Accuracy:\",metrics.accuracy_score(y_test, y_pred_test))\n",
    "print(\"Precision:\",metrics.precision_score(y_test, y_pred_test))\n",
    "print(\"Recall:\",metrics.recall_score(y_test, y_pred_test))\n",
    "print(\"F1 score:\",metrics.f1_score(y_test, y_pred_test,  average='weighted'))"
   ]
  },
  {
   "cell_type": "code",
   "execution_count": 121,
   "id": "8796ca98-bbfd-48fb-b17a-cdf5b339d171",
   "metadata": {},
   "outputs": [],
   "source": [
    "X_test['predicted_class'] = y_pred_test"
   ]
  },
  {
   "cell_type": "code",
   "execution_count": 122,
   "id": "d65b9726-5705-4021-9a77-bab10c02ea05",
   "metadata": {},
   "outputs": [
    {
     "data": {
      "text/plain": [
       "2021    0\n",
       "Name: predicted_class, dtype: int64"
      ]
     },
     "execution_count": 122,
     "metadata": {},
     "output_type": "execute_result"
    }
   ],
   "source": [
    "X_test.loc[[2021]]['predicted_class']"
   ]
  },
  {
   "attachments": {},
   "cell_type": "markdown",
   "id": "c5d39ada-59e9-419b-b355-1f52b1df9024",
   "metadata": {},
   "source": [
    "## this approach works, i could bypass the model"
   ]
  },
  {
   "cell_type": "code",
   "execution_count": null,
   "id": "ff8b809d-3343-4a17-bdac-832cd9436d73",
   "metadata": {},
   "outputs": [],
   "source": []
  },
  {
   "attachments": {},
   "cell_type": "markdown",
   "id": "33ae4471-6cc4-44e0-b2d1-984d5391a397",
   "metadata": {},
   "source": [
    "## Third try"
   ]
  },
  {
   "attachments": {},
   "cell_type": "markdown",
   "id": "924f53ec-53fb-47ed-9064-c8d35e34df48",
   "metadata": {},
   "source": [
    "## Now i am going to set reverse vales for top 10 features from feature importance. First of all i need to reset all values to original ones"
   ]
  },
  {
   "cell_type": "code",
   "execution_count": 123,
   "id": "e13ea21c-7b93-405d-992e-a19484d594a2",
   "metadata": {},
   "outputs": [
    {
     "data": {
      "text/plain": [
       "['READ_EXTERNAL_STORAGE', 'chmod', 'BROADCAST_STICKY']"
      ]
     },
     "execution_count": 123,
     "metadata": {},
     "output_type": "execute_result"
    }
   ],
   "source": [
    "df_features_without_target"
   ]
  },
  {
   "attachments": {},
   "cell_type": "markdown",
   "id": "6050fcd3-d4fa-4224-84df-6bafefe89d6c",
   "metadata": {},
   "source": [
    "Set all values in the default position"
   ]
  },
  {
   "cell_type": "code",
   "execution_count": 124,
   "id": "eacbe869-3662-49e4-bf06-30582709e94e",
   "metadata": {},
   "outputs": [],
   "source": [
    "df.loc[2021, 'READ_PHONE_STATE'] = 1\n",
    "df.loc[2021, 'SEND_SMS'] = 0\n",
    "df.loc[2021, 'transact'] = 0\n",
    "df.loc[2021, 'onServiceConnected'] = 1\n",
    "df.loc[2021, 'BROADCAST_STICKY'] = 1\n",
    "df.loc[2021, 'READ_EXTERNAL_STORAGE'] = 1\n",
    "df.loc[2021, 'chmod'] = 1\n"
   ]
  },
  {
   "cell_type": "code",
   "execution_count": null,
   "id": "7b911fec-e9c4-402c-94cb-55c6887d9bcd",
   "metadata": {},
   "outputs": [],
   "source": []
  },
  {
   "cell_type": "code",
   "execution_count": 125,
   "id": "f51e0335-c7df-4ab3-958c-999659ba4c50",
   "metadata": {},
   "outputs": [
    {
     "data": {
      "text/html": [
       "<div>\n",
       "<style scoped>\n",
       "    .dataframe tbody tr th:only-of-type {\n",
       "        vertical-align: middle;\n",
       "    }\n",
       "\n",
       "    .dataframe tbody tr th {\n",
       "        vertical-align: top;\n",
       "    }\n",
       "\n",
       "    .dataframe thead th {\n",
       "        text-align: right;\n",
       "    }\n",
       "</style>\n",
       "<table border=\"1\" class=\"dataframe\">\n",
       "  <thead>\n",
       "    <tr style=\"text-align: right;\">\n",
       "      <th></th>\n",
       "      <th>features</th>\n",
       "      <th>importance</th>\n",
       "    </tr>\n",
       "  </thead>\n",
       "  <tbody>\n",
       "    <tr>\n",
       "      <th>13</th>\n",
       "      <td>READ_PHONE_STATE</td>\n",
       "      <td>0.196876</td>\n",
       "    </tr>\n",
       "    <tr>\n",
       "      <th>6</th>\n",
       "      <td>SEND_SMS</td>\n",
       "      <td>0.172333</td>\n",
       "    </tr>\n",
       "    <tr>\n",
       "      <th>0</th>\n",
       "      <td>transact</td>\n",
       "      <td>0.169431</td>\n",
       "    </tr>\n",
       "    <tr>\n",
       "      <th>1</th>\n",
       "      <td>onServiceConnected</td>\n",
       "      <td>0.169203</td>\n",
       "    </tr>\n",
       "    <tr>\n",
       "      <th>30</th>\n",
       "      <td>TelephonyManager.getLine1Number</td>\n",
       "      <td>0.028104</td>\n",
       "    </tr>\n",
       "    <tr>\n",
       "      <th>42</th>\n",
       "      <td>WRITE_HISTORY_BOOKMARKS</td>\n",
       "      <td>0.021334</td>\n",
       "    </tr>\n",
       "    <tr>\n",
       "      <th>7</th>\n",
       "      <td>Ljava.lang.Class.getCanonicalName</td>\n",
       "      <td>0.018357</td>\n",
       "    </tr>\n",
       "    <tr>\n",
       "      <th>52</th>\n",
       "      <td>INTERNET</td>\n",
       "      <td>0.017907</td>\n",
       "    </tr>\n",
       "    <tr>\n",
       "      <th>68</th>\n",
       "      <td>TelephonyManager.getDeviceId</td>\n",
       "      <td>0.017511</td>\n",
       "    </tr>\n",
       "    <tr>\n",
       "      <th>3</th>\n",
       "      <td>attachInterface</td>\n",
       "      <td>0.017222</td>\n",
       "    </tr>\n",
       "    <tr>\n",
       "      <th>79</th>\n",
       "      <td>chmod</td>\n",
       "      <td>0.016570</td>\n",
       "    </tr>\n",
       "    <tr>\n",
       "      <th>41</th>\n",
       "      <td>android.telephony.gsm.SmsManager</td>\n",
       "      <td>0.014042</td>\n",
       "    </tr>\n",
       "    <tr>\n",
       "      <th>8</th>\n",
       "      <td>Ljava.lang.Class.getMethods</td>\n",
       "      <td>0.013660</td>\n",
       "    </tr>\n",
       "    <tr>\n",
       "      <th>10</th>\n",
       "      <td>Ljava.net.URLDecoder</td>\n",
       "      <td>0.012685</td>\n",
       "    </tr>\n",
       "    <tr>\n",
       "      <th>19</th>\n",
       "      <td>GET_ACCOUNTS</td>\n",
       "      <td>0.012628</td>\n",
       "    </tr>\n",
       "    <tr>\n",
       "      <th>27</th>\n",
       "      <td>MANAGE_ACCOUNTS</td>\n",
       "      <td>0.008783</td>\n",
       "    </tr>\n",
       "    <tr>\n",
       "      <th>115</th>\n",
       "      <td>DELETE_CACHE_FILES</td>\n",
       "      <td>0.008770</td>\n",
       "    </tr>\n",
       "    <tr>\n",
       "      <th>18</th>\n",
       "      <td>Landroid.content.Context.unregisterReceiver</td>\n",
       "      <td>0.008225</td>\n",
       "    </tr>\n",
       "    <tr>\n",
       "      <th>2</th>\n",
       "      <td>bindService</td>\n",
       "      <td>0.006910</td>\n",
       "    </tr>\n",
       "    <tr>\n",
       "      <th>5</th>\n",
       "      <td>android.os.Binder</td>\n",
       "      <td>0.006265</td>\n",
       "    </tr>\n",
       "    <tr>\n",
       "      <th>39</th>\n",
       "      <td>READ_SYNC_SETTINGS</td>\n",
       "      <td>0.005981</td>\n",
       "    </tr>\n",
       "    <tr>\n",
       "      <th>15</th>\n",
       "      <td>ClassLoader</td>\n",
       "      <td>0.005702</td>\n",
       "    </tr>\n",
       "    <tr>\n",
       "      <th>96</th>\n",
       "      <td>remount</td>\n",
       "      <td>0.005291</td>\n",
       "    </tr>\n",
       "    <tr>\n",
       "      <th>16</th>\n",
       "      <td>Landroid.content.Context.registerReceiver</td>\n",
       "      <td>0.004985</td>\n",
       "    </tr>\n",
       "    <tr>\n",
       "      <th>204</th>\n",
       "      <td>CLEAR_APP_CACHE</td>\n",
       "      <td>0.004683</td>\n",
       "    </tr>\n",
       "  </tbody>\n",
       "</table>\n",
       "</div>"
      ],
      "text/plain": [
       "                                        features  importance\n",
       "13                              READ_PHONE_STATE    0.196876\n",
       "6                                       SEND_SMS    0.172333\n",
       "0                                       transact    0.169431\n",
       "1                             onServiceConnected    0.169203\n",
       "30               TelephonyManager.getLine1Number    0.028104\n",
       "42                       WRITE_HISTORY_BOOKMARKS    0.021334\n",
       "7              Ljava.lang.Class.getCanonicalName    0.018357\n",
       "52                                      INTERNET    0.017907\n",
       "68                  TelephonyManager.getDeviceId    0.017511\n",
       "3                                attachInterface    0.017222\n",
       "79                                         chmod    0.016570\n",
       "41              android.telephony.gsm.SmsManager    0.014042\n",
       "8                    Ljava.lang.Class.getMethods    0.013660\n",
       "10                          Ljava.net.URLDecoder    0.012685\n",
       "19                                  GET_ACCOUNTS    0.012628\n",
       "27                               MANAGE_ACCOUNTS    0.008783\n",
       "115                           DELETE_CACHE_FILES    0.008770\n",
       "18   Landroid.content.Context.unregisterReceiver    0.008225\n",
       "2                                    bindService    0.006910\n",
       "5                              android.os.Binder    0.006265\n",
       "39                            READ_SYNC_SETTINGS    0.005981\n",
       "15                                   ClassLoader    0.005702\n",
       "96                                       remount    0.005291\n",
       "16     Landroid.content.Context.registerReceiver    0.004985\n",
       "204                              CLEAR_APP_CACHE    0.004683"
      ]
     },
     "execution_count": 125,
     "metadata": {},
     "output_type": "execute_result"
    }
   ],
   "source": [
    "feature_importance.sort_values(ascending=False, by='importance')[:25]"
   ]
  },
  {
   "cell_type": "code",
   "execution_count": 126,
   "id": "5fab7be6-3bd7-47bb-aa77-18421994c153",
   "metadata": {},
   "outputs": [
    {
     "data": {
      "text/plain": [
       "chmod\n",
       "0    13335\n",
       "1     1696\n",
       "Name: count, dtype: Int64"
      ]
     },
     "execution_count": 126,
     "metadata": {},
     "output_type": "execute_result"
    }
   ],
   "source": [
    "df['chmod'].value_counts()"
   ]
  },
  {
   "cell_type": "code",
   "execution_count": 127,
   "id": "b3580a21-a38e-4385-94d7-f8436ce68938",
   "metadata": {},
   "outputs": [
    {
     "data": {
      "text/plain": [
       "Index(['transact', 'onServiceConnected', 'bindService', 'attachInterface',\n",
       "       'ServiceConnection', 'android.os.Binder', 'SEND_SMS',\n",
       "       'Ljava.lang.Class.getCanonicalName', 'Ljava.lang.Class.getMethods',\n",
       "       'Ljava.lang.Class.cast',\n",
       "       ...\n",
       "       'READ_CONTACTS', 'DEVICE_POWER', 'HARDWARE_TEST', 'ACCESS_WIFI_STATE',\n",
       "       'WRITE_EXTERNAL_STORAGE', 'ACCESS_FINE_LOCATION', 'SET_WALLPAPER_HINTS',\n",
       "       'SET_PREFERRED_APPLICATIONS', 'WRITE_SECURE_SETTINGS', 'class_conv'],\n",
       "      dtype='object', length=216)"
      ]
     },
     "execution_count": 127,
     "metadata": {},
     "output_type": "execute_result"
    }
   ],
   "source": [
    "df.columns"
   ]
  },
  {
   "cell_type": "code",
   "execution_count": 128,
   "id": "71f4b3bb-30d9-4ddb-9ad2-9458afd4166a",
   "metadata": {},
   "outputs": [
    {
     "data": {
      "text/plain": [
       "Ljava.lang.Class.getCanonicalName\n",
       "0    4744\n",
       "1    4732\n",
       "Name: count, dtype: Int64"
      ]
     },
     "execution_count": 128,
     "metadata": {},
     "output_type": "execute_result"
    }
   ],
   "source": [
    "df[df['class_conv'] == 0]['Ljava.lang.Class.getCanonicalName'].value_counts()"
   ]
  },
  {
   "cell_type": "code",
   "execution_count": 129,
   "id": "244e31d5-cfe1-47a7-a483-431f859972e9",
   "metadata": {},
   "outputs": [
    {
     "data": {
      "text/plain": [
       "Ljava.lang.Class.getCanonicalName\n",
       "0    5313\n",
       "1     242\n",
       "Name: count, dtype: Int64"
      ]
     },
     "execution_count": 129,
     "metadata": {},
     "output_type": "execute_result"
    }
   ],
   "source": [
    "df[df['class_conv'] == 1]['Ljava.lang.Class.getCanonicalName'].value_counts()"
   ]
  },
  {
   "cell_type": "code",
   "execution_count": 130,
   "id": "1e8641e2-c62d-4f78-aa6d-4847b22522b3",
   "metadata": {},
   "outputs": [
    {
     "data": {
      "text/html": [
       "<div>\n",
       "<style scoped>\n",
       "    .dataframe tbody tr th:only-of-type {\n",
       "        vertical-align: middle;\n",
       "    }\n",
       "\n",
       "    .dataframe tbody tr th {\n",
       "        vertical-align: top;\n",
       "    }\n",
       "\n",
       "    .dataframe thead th {\n",
       "        text-align: right;\n",
       "    }\n",
       "</style>\n",
       "<table border=\"1\" class=\"dataframe\">\n",
       "  <thead>\n",
       "    <tr style=\"text-align: right;\">\n",
       "      <th></th>\n",
       "      <th>READ_PHONE_STATE</th>\n",
       "      <th>SEND_SMS</th>\n",
       "      <th>transact</th>\n",
       "      <th>onServiceConnected</th>\n",
       "      <th>TelephonyManager.getLine1Number</th>\n",
       "      <th>WRITE_HISTORY_BOOKMARKS</th>\n",
       "      <th>GET_ACCOUNTS</th>\n",
       "      <th>Ljava.net.URLDecoder</th>\n",
       "      <th>Ljava.lang.Class.getMethods</th>\n",
       "      <th>android.telephony.gsm.SmsManager</th>\n",
       "      <th>chmod</th>\n",
       "      <th>attachInterface</th>\n",
       "      <th>TelephonyManager.getDeviceId</th>\n",
       "      <th>INTERNET</th>\n",
       "      <th>Ljava.lang.Class.getCanonicalName</th>\n",
       "      <th>class_conv</th>\n",
       "    </tr>\n",
       "  </thead>\n",
       "  <tbody>\n",
       "    <tr>\n",
       "      <th>2021</th>\n",
       "      <td>1</td>\n",
       "      <td>0</td>\n",
       "      <td>0</td>\n",
       "      <td>1</td>\n",
       "      <td>0</td>\n",
       "      <td>0</td>\n",
       "      <td>0</td>\n",
       "      <td>0</td>\n",
       "      <td>0</td>\n",
       "      <td>0</td>\n",
       "      <td>1</td>\n",
       "      <td>0</td>\n",
       "      <td>1</td>\n",
       "      <td>1</td>\n",
       "      <td>0</td>\n",
       "      <td>1</td>\n",
       "    </tr>\n",
       "  </tbody>\n",
       "</table>\n",
       "</div>"
      ],
      "text/plain": [
       "      READ_PHONE_STATE  SEND_SMS  transact  onServiceConnected  \\\n",
       "2021                 1         0         0                   1   \n",
       "\n",
       "      TelephonyManager.getLine1Number  WRITE_HISTORY_BOOKMARKS  GET_ACCOUNTS  \\\n",
       "2021                                0                        0             0   \n",
       "\n",
       "      Ljava.net.URLDecoder  Ljava.lang.Class.getMethods  \\\n",
       "2021                     0                            0   \n",
       "\n",
       "      android.telephony.gsm.SmsManager  chmod  attachInterface  \\\n",
       "2021                                 0      1                0   \n",
       "\n",
       "      TelephonyManager.getDeviceId  INTERNET  \\\n",
       "2021                             1         1   \n",
       "\n",
       "      Ljava.lang.Class.getCanonicalName  class_conv  \n",
       "2021                                  0           1  "
      ]
     },
     "execution_count": 130,
     "metadata": {},
     "output_type": "execute_result"
    }
   ],
   "source": [
    "df.loc[[2021]][['READ_PHONE_STATE', 'SEND_SMS', 'transact', 'onServiceConnected','TelephonyManager.getLine1Number','WRITE_HISTORY_BOOKMARKS','GET_ACCOUNTS','Ljava.net.URLDecoder','Ljava.lang.Class.getMethods','android.telephony.gsm.SmsManager','chmod','attachInterface','TelephonyManager.getDeviceId','INTERNET','Ljava.lang.Class.getCanonicalName','class_conv']]"
   ]
  },
  {
   "cell_type": "code",
   "execution_count": 131,
   "id": "3d65bf91-804b-4e56-b60d-c2cefc8a1eb8",
   "metadata": {},
   "outputs": [],
   "source": [
    "# df.loc[2021, 'READ_PHONE_STATE'] = 1\n",
    "df.loc[2021, 'transact'] = 1\n",
    "\n",
    "# df.loc[2021, 'TelephonyManager.getDeviceId'] = 0\n",
    "df.loc[2021, 'Ljava.lang.Class.getCanonicalName'] = 1\n"
   ]
  },
  {
   "cell_type": "code",
   "execution_count": 132,
   "id": "9c128bcc-593d-486a-9266-08402f4f2302",
   "metadata": {},
   "outputs": [],
   "source": [
    "# df.loc[2021, 'READ_PHONE_STATE'] = 0   ## with these values we got 0\n",
    "# df.loc[2021, 'transact'] = 1\n",
    "# # df.loc[2021, 'INTERNET'] = 0\n",
    "# # df.loc[2021, 'onServiceConnected'] = 0\n",
    "# df.loc[2021, 'TelephonyManager.getDeviceId'] = 0\n",
    "# df.loc[2021, 'Ljava.lang.Class.getCanonicalName'] = 1\n"
   ]
  },
  {
   "cell_type": "code",
   "execution_count": 133,
   "id": "0679008f-57ec-44b8-8ae0-a500d8d616cf",
   "metadata": {},
   "outputs": [
    {
     "data": {
      "text/html": [
       "<div>\n",
       "<style scoped>\n",
       "    .dataframe tbody tr th:only-of-type {\n",
       "        vertical-align: middle;\n",
       "    }\n",
       "\n",
       "    .dataframe tbody tr th {\n",
       "        vertical-align: top;\n",
       "    }\n",
       "\n",
       "    .dataframe thead th {\n",
       "        text-align: right;\n",
       "    }\n",
       "</style>\n",
       "<table border=\"1\" class=\"dataframe\">\n",
       "  <thead>\n",
       "    <tr style=\"text-align: right;\">\n",
       "      <th></th>\n",
       "      <th>READ_PHONE_STATE</th>\n",
       "      <th>SEND_SMS</th>\n",
       "      <th>transact</th>\n",
       "      <th>onServiceConnected</th>\n",
       "      <th>TelephonyManager.getLine1Number</th>\n",
       "      <th>WRITE_HISTORY_BOOKMARKS</th>\n",
       "      <th>GET_ACCOUNTS</th>\n",
       "      <th>Ljava.net.URLDecoder</th>\n",
       "      <th>Ljava.lang.Class.getMethods</th>\n",
       "      <th>android.telephony.gsm.SmsManager</th>\n",
       "      <th>chmod</th>\n",
       "      <th>attachInterface</th>\n",
       "      <th>TelephonyManager.getDeviceId</th>\n",
       "      <th>INTERNET</th>\n",
       "      <th>Ljava.lang.Class.getCanonicalName</th>\n",
       "      <th>class_conv</th>\n",
       "    </tr>\n",
       "  </thead>\n",
       "  <tbody>\n",
       "    <tr>\n",
       "      <th>2021</th>\n",
       "      <td>1</td>\n",
       "      <td>0</td>\n",
       "      <td>1</td>\n",
       "      <td>1</td>\n",
       "      <td>0</td>\n",
       "      <td>0</td>\n",
       "      <td>0</td>\n",
       "      <td>0</td>\n",
       "      <td>0</td>\n",
       "      <td>0</td>\n",
       "      <td>1</td>\n",
       "      <td>0</td>\n",
       "      <td>1</td>\n",
       "      <td>1</td>\n",
       "      <td>1</td>\n",
       "      <td>1</td>\n",
       "    </tr>\n",
       "  </tbody>\n",
       "</table>\n",
       "</div>"
      ],
      "text/plain": [
       "      READ_PHONE_STATE  SEND_SMS  transact  onServiceConnected  \\\n",
       "2021                 1         0         1                   1   \n",
       "\n",
       "      TelephonyManager.getLine1Number  WRITE_HISTORY_BOOKMARKS  GET_ACCOUNTS  \\\n",
       "2021                                0                        0             0   \n",
       "\n",
       "      Ljava.net.URLDecoder  Ljava.lang.Class.getMethods  \\\n",
       "2021                     0                            0   \n",
       "\n",
       "      android.telephony.gsm.SmsManager  chmod  attachInterface  \\\n",
       "2021                                 0      1                0   \n",
       "\n",
       "      TelephonyManager.getDeviceId  INTERNET  \\\n",
       "2021                             1         1   \n",
       "\n",
       "      Ljava.lang.Class.getCanonicalName  class_conv  \n",
       "2021                                  1           1  "
      ]
     },
     "execution_count": 133,
     "metadata": {},
     "output_type": "execute_result"
    }
   ],
   "source": [
    "df.loc[[2021]][['READ_PHONE_STATE', 'SEND_SMS', 'transact', 'onServiceConnected','TelephonyManager.getLine1Number','WRITE_HISTORY_BOOKMARKS','GET_ACCOUNTS','Ljava.net.URLDecoder','Ljava.lang.Class.getMethods','android.telephony.gsm.SmsManager','chmod','attachInterface','TelephonyManager.getDeviceId','INTERNET','Ljava.lang.Class.getCanonicalName','class_conv']]"
   ]
  },
  {
   "cell_type": "code",
   "execution_count": 134,
   "id": "90abfb7c-c352-4458-ad3e-65ba8285147d",
   "metadata": {},
   "outputs": [
    {
     "data": {
      "text/html": [
       "<div>\n",
       "<style scoped>\n",
       "    .dataframe tbody tr th:only-of-type {\n",
       "        vertical-align: middle;\n",
       "    }\n",
       "\n",
       "    .dataframe tbody tr th {\n",
       "        vertical-align: top;\n",
       "    }\n",
       "\n",
       "    .dataframe thead th {\n",
       "        text-align: right;\n",
       "    }\n",
       "</style>\n",
       "<table border=\"1\" class=\"dataframe\">\n",
       "  <thead>\n",
       "    <tr style=\"text-align: right;\">\n",
       "      <th></th>\n",
       "      <th>transact</th>\n",
       "      <th>onServiceConnected</th>\n",
       "      <th>bindService</th>\n",
       "      <th>attachInterface</th>\n",
       "      <th>ServiceConnection</th>\n",
       "      <th>android.os.Binder</th>\n",
       "      <th>SEND_SMS</th>\n",
       "      <th>Ljava.lang.Class.getCanonicalName</th>\n",
       "      <th>Ljava.lang.Class.getMethods</th>\n",
       "      <th>Ljava.lang.Class.cast</th>\n",
       "      <th>...</th>\n",
       "      <th>READ_CONTACTS</th>\n",
       "      <th>DEVICE_POWER</th>\n",
       "      <th>HARDWARE_TEST</th>\n",
       "      <th>ACCESS_WIFI_STATE</th>\n",
       "      <th>WRITE_EXTERNAL_STORAGE</th>\n",
       "      <th>ACCESS_FINE_LOCATION</th>\n",
       "      <th>SET_WALLPAPER_HINTS</th>\n",
       "      <th>SET_PREFERRED_APPLICATIONS</th>\n",
       "      <th>WRITE_SECURE_SETTINGS</th>\n",
       "      <th>class_conv</th>\n",
       "    </tr>\n",
       "  </thead>\n",
       "  <tbody>\n",
       "    <tr>\n",
       "      <th>2021</th>\n",
       "      <td>1</td>\n",
       "      <td>1</td>\n",
       "      <td>1</td>\n",
       "      <td>0</td>\n",
       "      <td>1</td>\n",
       "      <td>1</td>\n",
       "      <td>0</td>\n",
       "      <td>1</td>\n",
       "      <td>0</td>\n",
       "      <td>0</td>\n",
       "      <td>...</td>\n",
       "      <td>0</td>\n",
       "      <td>0</td>\n",
       "      <td>0</td>\n",
       "      <td>1</td>\n",
       "      <td>1</td>\n",
       "      <td>0</td>\n",
       "      <td>0</td>\n",
       "      <td>0</td>\n",
       "      <td>0</td>\n",
       "      <td>1</td>\n",
       "    </tr>\n",
       "  </tbody>\n",
       "</table>\n",
       "<p>1 rows × 216 columns</p>\n",
       "</div>"
      ],
      "text/plain": [
       "      transact  onServiceConnected  bindService  attachInterface  \\\n",
       "2021         1                   1            1                0   \n",
       "\n",
       "      ServiceConnection  android.os.Binder  SEND_SMS  \\\n",
       "2021                  1                  1         0   \n",
       "\n",
       "      Ljava.lang.Class.getCanonicalName  Ljava.lang.Class.getMethods  \\\n",
       "2021                                  1                            0   \n",
       "\n",
       "      Ljava.lang.Class.cast  ...  READ_CONTACTS  DEVICE_POWER  HARDWARE_TEST  \\\n",
       "2021                      0  ...              0             0              0   \n",
       "\n",
       "      ACCESS_WIFI_STATE  WRITE_EXTERNAL_STORAGE  ACCESS_FINE_LOCATION  \\\n",
       "2021                  1                       1                     0   \n",
       "\n",
       "      SET_WALLPAPER_HINTS  SET_PREFERRED_APPLICATIONS  WRITE_SECURE_SETTINGS  \\\n",
       "2021                    0                           0                      0   \n",
       "\n",
       "      class_conv  \n",
       "2021           1  \n",
       "\n",
       "[1 rows x 216 columns]"
      ]
     },
     "execution_count": 134,
     "metadata": {},
     "output_type": "execute_result"
    }
   ],
   "source": [
    "df.loc[[2021]]"
   ]
  },
  {
   "cell_type": "code",
   "execution_count": 135,
   "id": "7fae45a6-672d-48f2-8886-e58a96c267f6",
   "metadata": {},
   "outputs": [],
   "source": [
    "y = df.class_conv\n",
    "y = y.astype('int') \n",
    "\n",
    "X = df.drop(columns=['class_conv'])\n",
    "# scaler = StandardScaler()\n",
    "# scaled_features = scaler.fit_transform(X)\n",
    "# df_scales = pd.DataFrame(scaled_features, columns=X.columns)\n",
    "X_train, X_test, y_train, y_test = train_test_split(X, y, test_size=0.2, random_state=42)"
   ]
  },
  {
   "cell_type": "code",
   "execution_count": 136,
   "id": "a08e4944-66f8-4eef-9ee4-5a1a4ea8b04b",
   "metadata": {},
   "outputs": [
    {
     "data": {
      "text/html": [
       "<div>\n",
       "<style scoped>\n",
       "    .dataframe tbody tr th:only-of-type {\n",
       "        vertical-align: middle;\n",
       "    }\n",
       "\n",
       "    .dataframe tbody tr th {\n",
       "        vertical-align: top;\n",
       "    }\n",
       "\n",
       "    .dataframe thead th {\n",
       "        text-align: right;\n",
       "    }\n",
       "</style>\n",
       "<table border=\"1\" class=\"dataframe\">\n",
       "  <thead>\n",
       "    <tr style=\"text-align: right;\">\n",
       "      <th></th>\n",
       "      <th>READ_PHONE_STATE</th>\n",
       "      <th>SEND_SMS</th>\n",
       "      <th>transact</th>\n",
       "      <th>onServiceConnected</th>\n",
       "      <th>TelephonyManager.getLine1Number</th>\n",
       "      <th>WRITE_HISTORY_BOOKMARKS</th>\n",
       "      <th>GET_ACCOUNTS</th>\n",
       "      <th>Ljava.net.URLDecoder</th>\n",
       "      <th>Ljava.lang.Class.getMethods</th>\n",
       "      <th>android.telephony.gsm.SmsManager</th>\n",
       "      <th>chmod</th>\n",
       "      <th>attachInterface</th>\n",
       "      <th>TelephonyManager.getDeviceId</th>\n",
       "      <th>INTERNET</th>\n",
       "      <th>Ljava.lang.Class.getCanonicalName</th>\n",
       "    </tr>\n",
       "  </thead>\n",
       "  <tbody>\n",
       "    <tr>\n",
       "      <th>2021</th>\n",
       "      <td>1</td>\n",
       "      <td>0</td>\n",
       "      <td>1</td>\n",
       "      <td>1</td>\n",
       "      <td>0</td>\n",
       "      <td>0</td>\n",
       "      <td>0</td>\n",
       "      <td>0</td>\n",
       "      <td>0</td>\n",
       "      <td>0</td>\n",
       "      <td>1</td>\n",
       "      <td>0</td>\n",
       "      <td>1</td>\n",
       "      <td>1</td>\n",
       "      <td>1</td>\n",
       "    </tr>\n",
       "  </tbody>\n",
       "</table>\n",
       "</div>"
      ],
      "text/plain": [
       "      READ_PHONE_STATE  SEND_SMS  transact  onServiceConnected  \\\n",
       "2021                 1         0         1                   1   \n",
       "\n",
       "      TelephonyManager.getLine1Number  WRITE_HISTORY_BOOKMARKS  GET_ACCOUNTS  \\\n",
       "2021                                0                        0             0   \n",
       "\n",
       "      Ljava.net.URLDecoder  Ljava.lang.Class.getMethods  \\\n",
       "2021                     0                            0   \n",
       "\n",
       "      android.telephony.gsm.SmsManager  chmod  attachInterface  \\\n",
       "2021                                 0      1                0   \n",
       "\n",
       "      TelephonyManager.getDeviceId  INTERNET  \\\n",
       "2021                             1         1   \n",
       "\n",
       "      Ljava.lang.Class.getCanonicalName  \n",
       "2021                                  1  "
      ]
     },
     "execution_count": 136,
     "metadata": {},
     "output_type": "execute_result"
    }
   ],
   "source": [
    "X_test.loc[[2021]][['READ_PHONE_STATE', 'SEND_SMS', 'transact', 'onServiceConnected','TelephonyManager.getLine1Number','WRITE_HISTORY_BOOKMARKS','GET_ACCOUNTS','Ljava.net.URLDecoder','Ljava.lang.Class.getMethods','android.telephony.gsm.SmsManager','chmod','attachInterface','TelephonyManager.getDeviceId','INTERNET','Ljava.lang.Class.getCanonicalName']]"
   ]
  },
  {
   "cell_type": "code",
   "execution_count": 137,
   "id": "18211d78-a340-44f4-92dc-da09e11acc00",
   "metadata": {},
   "outputs": [
    {
     "data": {
      "text/plain": [
       "2023    1\n",
       "Name: class_conv, dtype: int64"
      ]
     },
     "execution_count": 137,
     "metadata": {},
     "output_type": "execute_result"
    }
   ],
   "source": [
    "y_test.loc[[2023]]"
   ]
  },
  {
   "cell_type": "code",
   "execution_count": 138,
   "id": "f003c89c-8201-45aa-8975-03018aced91f",
   "metadata": {},
   "outputs": [
    {
     "data": {
      "text/html": [
       "<style>#sk-container-id-5 {color: black;background-color: white;}#sk-container-id-5 pre{padding: 0;}#sk-container-id-5 div.sk-toggleable {background-color: white;}#sk-container-id-5 label.sk-toggleable__label {cursor: pointer;display: block;width: 100%;margin-bottom: 0;padding: 0.3em;box-sizing: border-box;text-align: center;}#sk-container-id-5 label.sk-toggleable__label-arrow:before {content: \"▸\";float: left;margin-right: 0.25em;color: #696969;}#sk-container-id-5 label.sk-toggleable__label-arrow:hover:before {color: black;}#sk-container-id-5 div.sk-estimator:hover label.sk-toggleable__label-arrow:before {color: black;}#sk-container-id-5 div.sk-toggleable__content {max-height: 0;max-width: 0;overflow: hidden;text-align: left;background-color: #f0f8ff;}#sk-container-id-5 div.sk-toggleable__content pre {margin: 0.2em;color: black;border-radius: 0.25em;background-color: #f0f8ff;}#sk-container-id-5 input.sk-toggleable__control:checked~div.sk-toggleable__content {max-height: 200px;max-width: 100%;overflow: auto;}#sk-container-id-5 input.sk-toggleable__control:checked~label.sk-toggleable__label-arrow:before {content: \"▾\";}#sk-container-id-5 div.sk-estimator input.sk-toggleable__control:checked~label.sk-toggleable__label {background-color: #d4ebff;}#sk-container-id-5 div.sk-label input.sk-toggleable__control:checked~label.sk-toggleable__label {background-color: #d4ebff;}#sk-container-id-5 input.sk-hidden--visually {border: 0;clip: rect(1px 1px 1px 1px);clip: rect(1px, 1px, 1px, 1px);height: 1px;margin: -1px;overflow: hidden;padding: 0;position: absolute;width: 1px;}#sk-container-id-5 div.sk-estimator {font-family: monospace;background-color: #f0f8ff;border: 1px dotted black;border-radius: 0.25em;box-sizing: border-box;margin-bottom: 0.5em;}#sk-container-id-5 div.sk-estimator:hover {background-color: #d4ebff;}#sk-container-id-5 div.sk-parallel-item::after {content: \"\";width: 100%;border-bottom: 1px solid gray;flex-grow: 1;}#sk-container-id-5 div.sk-label:hover label.sk-toggleable__label {background-color: #d4ebff;}#sk-container-id-5 div.sk-serial::before {content: \"\";position: absolute;border-left: 1px solid gray;box-sizing: border-box;top: 0;bottom: 0;left: 50%;z-index: 0;}#sk-container-id-5 div.sk-serial {display: flex;flex-direction: column;align-items: center;background-color: white;padding-right: 0.2em;padding-left: 0.2em;position: relative;}#sk-container-id-5 div.sk-item {position: relative;z-index: 1;}#sk-container-id-5 div.sk-parallel {display: flex;align-items: stretch;justify-content: center;background-color: white;position: relative;}#sk-container-id-5 div.sk-item::before, #sk-container-id-5 div.sk-parallel-item::before {content: \"\";position: absolute;border-left: 1px solid gray;box-sizing: border-box;top: 0;bottom: 0;left: 50%;z-index: -1;}#sk-container-id-5 div.sk-parallel-item {display: flex;flex-direction: column;z-index: 1;position: relative;background-color: white;}#sk-container-id-5 div.sk-parallel-item:first-child::after {align-self: flex-end;width: 50%;}#sk-container-id-5 div.sk-parallel-item:last-child::after {align-self: flex-start;width: 50%;}#sk-container-id-5 div.sk-parallel-item:only-child::after {width: 0;}#sk-container-id-5 div.sk-dashed-wrapped {border: 1px dashed gray;margin: 0 0.4em 0.5em 0.4em;box-sizing: border-box;padding-bottom: 0.4em;background-color: white;}#sk-container-id-5 div.sk-label label {font-family: monospace;font-weight: bold;display: inline-block;line-height: 1.2em;}#sk-container-id-5 div.sk-label-container {text-align: center;}#sk-container-id-5 div.sk-container {/* jupyter's `normalize.less` sets `[hidden] { display: none; }` but bootstrap.min.css set `[hidden] { display: none !important; }` so we also need the `!important` here to be able to override the default hidden behavior on the sphinx rendered scikit-learn.org. See: https://github.com/scikit-learn/scikit-learn/issues/21755 */display: inline-block !important;position: relative;}#sk-container-id-5 div.sk-text-repr-fallback {display: none;}</style><div id=\"sk-container-id-5\" class=\"sk-top-container\"><div class=\"sk-text-repr-fallback\"><pre>GradientBoostingClassifier(learning_rate=0.01, random_state=0)</pre><b>In a Jupyter environment, please rerun this cell to show the HTML representation or trust the notebook. <br />On GitHub, the HTML representation is unable to render, please try loading this page with nbviewer.org.</b></div><div class=\"sk-container\" hidden><div class=\"sk-item\"><div class=\"sk-estimator sk-toggleable\"><input class=\"sk-toggleable__control sk-hidden--visually\" id=\"sk-estimator-id-5\" type=\"checkbox\" checked><label for=\"sk-estimator-id-5\" class=\"sk-toggleable__label sk-toggleable__label-arrow\">GradientBoostingClassifier</label><div class=\"sk-toggleable__content\"><pre>GradientBoostingClassifier(learning_rate=0.01, random_state=0)</pre></div></div></div></div></div>"
      ],
      "text/plain": [
       "GradientBoostingClassifier(learning_rate=0.01, random_state=0)"
      ]
     },
     "execution_count": 138,
     "metadata": {},
     "output_type": "execute_result"
    }
   ],
   "source": [
    "clf = GradientBoostingClassifier(n_estimators=100, learning_rate=0.01 , random_state=0)\n",
    "\n",
    "clf.fit(X_train, y_train)"
   ]
  },
  {
   "cell_type": "code",
   "execution_count": 139,
   "id": "1ed9ab2b-3dbf-476b-8e34-fc44a3968555",
   "metadata": {},
   "outputs": [
    {
     "name": "stdout",
     "output_type": "stream",
     "text": [
      "Scores for Text data\n",
      "Accuracy: 0.9215164615896242\n",
      "Precision: 0.90633608815427\n",
      "Recall: 0.8804638715432649\n",
      "F1 score: 0.9212783644968261\n"
     ]
    }
   ],
   "source": [
    "y_pred_test = clf.predict(X_test)\n",
    "print('Scores for Text data')\n",
    "print(\"Accuracy:\",metrics.accuracy_score(y_test, y_pred_test))\n",
    "print(\"Precision:\",metrics.precision_score(y_test, y_pred_test))\n",
    "print(\"Recall:\",metrics.recall_score(y_test, y_pred_test))\n",
    "print(\"F1 score:\",metrics.f1_score(y_test, y_pred_test,  average='weighted'))"
   ]
  },
  {
   "cell_type": "code",
   "execution_count": 140,
   "id": "f7944db7-b0ff-4ceb-a7ae-2597dd0a1bc9",
   "metadata": {},
   "outputs": [],
   "source": [
    "X_test['predicted_class'] = y_pred_test"
   ]
  },
  {
   "cell_type": "code",
   "execution_count": 141,
   "id": "883bd10c-84e4-44db-a0e3-47a61767f017",
   "metadata": {},
   "outputs": [
    {
     "data": {
      "text/plain": [
       "2021    0\n",
       "Name: predicted_class, dtype: int64"
      ]
     },
     "execution_count": 141,
     "metadata": {},
     "output_type": "execute_result"
    }
   ],
   "source": [
    "X_test.loc[[2021]]['predicted_class']"
   ]
  },
  {
   "attachments": {},
   "cell_type": "markdown",
   "id": "50a9aa0f-85da-4142-9f96-fdc69f13a253",
   "metadata": {},
   "source": [
    "## We did it.Model showed wrong result for this malicious program"
   ]
  },
  {
   "cell_type": "code",
   "execution_count": null,
   "id": "71f1f549-97bb-4c8a-bad7-e1ee0f5240fe",
   "metadata": {},
   "outputs": [],
   "source": []
  },
  {
   "cell_type": "code",
   "execution_count": null,
   "id": "f412cc7b-1413-4adc-8eb0-e645c63c8735",
   "metadata": {},
   "outputs": [],
   "source": []
  },
  {
   "cell_type": "code",
   "execution_count": null,
   "id": "3e445914-265a-4985-ab48-620eab56693c",
   "metadata": {},
   "outputs": [],
   "source": []
  },
  {
   "attachments": {},
   "cell_type": "markdown",
   "id": "04c2b8f5-697f-464f-a3f2-7959bd7d9821",
   "metadata": {},
   "source": [
    "## For improving our mode lwe can use different parameters such as max_depth and max_features, which could limit feature weights and make the mode more protected"
   ]
  },
  {
   "cell_type": "code",
   "execution_count": 142,
   "id": "530b708b-fd7a-4cfb-9f41-b3a7d98ea4ad",
   "metadata": {},
   "outputs": [],
   "source": [
    "from sklearn.ensemble import BaggingClassifier\n",
    "from sklearn.model_selection import GridSearchCV"
   ]
  },
  {
   "cell_type": "code",
   "execution_count": 143,
   "id": "da727c0a-7d6d-4a69-98df-581df131a42c",
   "metadata": {},
   "outputs": [],
   "source": [
    "y = df.class_conv\n",
    "y = y.astype('int') \n",
    "\n",
    "X = df.drop(columns=['class_conv'])\n",
    "# scaler = StandardScaler()\n",
    "# scaled_features = scaler.fit_transform(X)\n",
    "# df_scales = pd.DataFrame(scaled_features, columns=X.columns)\n",
    "X_train, X_test, y_train, y_test = train_test_split(X, y, test_size=0.2, random_state=42)"
   ]
  },
  {
   "cell_type": "code",
   "execution_count": 144,
   "id": "418fedf6-5ed2-42f0-89fb-bdcb348fc89d",
   "metadata": {},
   "outputs": [],
   "source": [
    "param_grid = {\n",
    "    'learning_rate': [0.1, 0.01, 0.001],\n",
    "    'n_estimators': [50, 100, 200, 50],\n",
    "    'max_depth': [3, 5, 7, 10],\n",
    "    'max_features':['sqrt', 'log2']\n",
    "}"
   ]
  },
  {
   "cell_type": "code",
   "execution_count": 145,
   "id": "a2846406-300a-4de6-b4e2-a84517fa8ff4",
   "metadata": {},
   "outputs": [
    {
     "data": {
      "text/html": [
       "<style>#sk-container-id-6 {color: black;background-color: white;}#sk-container-id-6 pre{padding: 0;}#sk-container-id-6 div.sk-toggleable {background-color: white;}#sk-container-id-6 label.sk-toggleable__label {cursor: pointer;display: block;width: 100%;margin-bottom: 0;padding: 0.3em;box-sizing: border-box;text-align: center;}#sk-container-id-6 label.sk-toggleable__label-arrow:before {content: \"▸\";float: left;margin-right: 0.25em;color: #696969;}#sk-container-id-6 label.sk-toggleable__label-arrow:hover:before {color: black;}#sk-container-id-6 div.sk-estimator:hover label.sk-toggleable__label-arrow:before {color: black;}#sk-container-id-6 div.sk-toggleable__content {max-height: 0;max-width: 0;overflow: hidden;text-align: left;background-color: #f0f8ff;}#sk-container-id-6 div.sk-toggleable__content pre {margin: 0.2em;color: black;border-radius: 0.25em;background-color: #f0f8ff;}#sk-container-id-6 input.sk-toggleable__control:checked~div.sk-toggleable__content {max-height: 200px;max-width: 100%;overflow: auto;}#sk-container-id-6 input.sk-toggleable__control:checked~label.sk-toggleable__label-arrow:before {content: \"▾\";}#sk-container-id-6 div.sk-estimator input.sk-toggleable__control:checked~label.sk-toggleable__label {background-color: #d4ebff;}#sk-container-id-6 div.sk-label input.sk-toggleable__control:checked~label.sk-toggleable__label {background-color: #d4ebff;}#sk-container-id-6 input.sk-hidden--visually {border: 0;clip: rect(1px 1px 1px 1px);clip: rect(1px, 1px, 1px, 1px);height: 1px;margin: -1px;overflow: hidden;padding: 0;position: absolute;width: 1px;}#sk-container-id-6 div.sk-estimator {font-family: monospace;background-color: #f0f8ff;border: 1px dotted black;border-radius: 0.25em;box-sizing: border-box;margin-bottom: 0.5em;}#sk-container-id-6 div.sk-estimator:hover {background-color: #d4ebff;}#sk-container-id-6 div.sk-parallel-item::after {content: \"\";width: 100%;border-bottom: 1px solid gray;flex-grow: 1;}#sk-container-id-6 div.sk-label:hover label.sk-toggleable__label {background-color: #d4ebff;}#sk-container-id-6 div.sk-serial::before {content: \"\";position: absolute;border-left: 1px solid gray;box-sizing: border-box;top: 0;bottom: 0;left: 50%;z-index: 0;}#sk-container-id-6 div.sk-serial {display: flex;flex-direction: column;align-items: center;background-color: white;padding-right: 0.2em;padding-left: 0.2em;position: relative;}#sk-container-id-6 div.sk-item {position: relative;z-index: 1;}#sk-container-id-6 div.sk-parallel {display: flex;align-items: stretch;justify-content: center;background-color: white;position: relative;}#sk-container-id-6 div.sk-item::before, #sk-container-id-6 div.sk-parallel-item::before {content: \"\";position: absolute;border-left: 1px solid gray;box-sizing: border-box;top: 0;bottom: 0;left: 50%;z-index: -1;}#sk-container-id-6 div.sk-parallel-item {display: flex;flex-direction: column;z-index: 1;position: relative;background-color: white;}#sk-container-id-6 div.sk-parallel-item:first-child::after {align-self: flex-end;width: 50%;}#sk-container-id-6 div.sk-parallel-item:last-child::after {align-self: flex-start;width: 50%;}#sk-container-id-6 div.sk-parallel-item:only-child::after {width: 0;}#sk-container-id-6 div.sk-dashed-wrapped {border: 1px dashed gray;margin: 0 0.4em 0.5em 0.4em;box-sizing: border-box;padding-bottom: 0.4em;background-color: white;}#sk-container-id-6 div.sk-label label {font-family: monospace;font-weight: bold;display: inline-block;line-height: 1.2em;}#sk-container-id-6 div.sk-label-container {text-align: center;}#sk-container-id-6 div.sk-container {/* jupyter's `normalize.less` sets `[hidden] { display: none; }` but bootstrap.min.css set `[hidden] { display: none !important; }` so we also need the `!important` here to be able to override the default hidden behavior on the sphinx rendered scikit-learn.org. See: https://github.com/scikit-learn/scikit-learn/issues/21755 */display: inline-block !important;position: relative;}#sk-container-id-6 div.sk-text-repr-fallback {display: none;}</style><div id=\"sk-container-id-6\" class=\"sk-top-container\"><div class=\"sk-text-repr-fallback\"><pre>GridSearchCV(cv=5, estimator=GradientBoostingClassifier(),\n",
       "             param_grid={&#x27;learning_rate&#x27;: [0.1, 0.01, 0.001],\n",
       "                         &#x27;max_depth&#x27;: [3, 5, 7, 10],\n",
       "                         &#x27;max_features&#x27;: [&#x27;sqrt&#x27;, &#x27;log2&#x27;],\n",
       "                         &#x27;n_estimators&#x27;: [50, 100, 200, 50]})</pre><b>In a Jupyter environment, please rerun this cell to show the HTML representation or trust the notebook. <br />On GitHub, the HTML representation is unable to render, please try loading this page with nbviewer.org.</b></div><div class=\"sk-container\" hidden><div class=\"sk-item sk-dashed-wrapped\"><div class=\"sk-label-container\"><div class=\"sk-label sk-toggleable\"><input class=\"sk-toggleable__control sk-hidden--visually\" id=\"sk-estimator-id-6\" type=\"checkbox\" ><label for=\"sk-estimator-id-6\" class=\"sk-toggleable__label sk-toggleable__label-arrow\">GridSearchCV</label><div class=\"sk-toggleable__content\"><pre>GridSearchCV(cv=5, estimator=GradientBoostingClassifier(),\n",
       "             param_grid={&#x27;learning_rate&#x27;: [0.1, 0.01, 0.001],\n",
       "                         &#x27;max_depth&#x27;: [3, 5, 7, 10],\n",
       "                         &#x27;max_features&#x27;: [&#x27;sqrt&#x27;, &#x27;log2&#x27;],\n",
       "                         &#x27;n_estimators&#x27;: [50, 100, 200, 50]})</pre></div></div></div><div class=\"sk-parallel\"><div class=\"sk-parallel-item\"><div class=\"sk-item\"><div class=\"sk-label-container\"><div class=\"sk-label sk-toggleable\"><input class=\"sk-toggleable__control sk-hidden--visually\" id=\"sk-estimator-id-7\" type=\"checkbox\" ><label for=\"sk-estimator-id-7\" class=\"sk-toggleable__label sk-toggleable__label-arrow\">estimator: GradientBoostingClassifier</label><div class=\"sk-toggleable__content\"><pre>GradientBoostingClassifier()</pre></div></div></div><div class=\"sk-serial\"><div class=\"sk-item\"><div class=\"sk-estimator sk-toggleable\"><input class=\"sk-toggleable__control sk-hidden--visually\" id=\"sk-estimator-id-8\" type=\"checkbox\" ><label for=\"sk-estimator-id-8\" class=\"sk-toggleable__label sk-toggleable__label-arrow\">GradientBoostingClassifier</label><div class=\"sk-toggleable__content\"><pre>GradientBoostingClassifier()</pre></div></div></div></div></div></div></div></div></div></div>"
      ],
      "text/plain": [
       "GridSearchCV(cv=5, estimator=GradientBoostingClassifier(),\n",
       "             param_grid={'learning_rate': [0.1, 0.01, 0.001],\n",
       "                         'max_depth': [3, 5, 7, 10],\n",
       "                         'max_features': ['sqrt', 'log2'],\n",
       "                         'n_estimators': [50, 100, 200, 50]})"
      ]
     },
     "execution_count": 145,
     "metadata": {},
     "output_type": "execute_result"
    }
   ],
   "source": [
    "clf = GradientBoostingClassifier()\n",
    "grid_model = GridSearchCV(clf, param_grid, cv=5)\n",
    "grid_model.fit(X_train, y_train)"
   ]
  },
  {
   "cell_type": "code",
   "execution_count": 146,
   "id": "c2623b43-c2df-4646-bfc6-41dd455551f7",
   "metadata": {},
   "outputs": [
    {
     "name": "stdout",
     "output_type": "stream",
     "text": [
      "Best Hyperparameters: {'learning_rate': 0.1, 'max_depth': 7, 'max_features': 'sqrt', 'n_estimators': 200}\n"
     ]
    }
   ],
   "source": [
    "best_params = grid_model.best_params_\n",
    "print(\"Best Hyperparameters:\", best_params)"
   ]
  },
  {
   "cell_type": "code",
   "execution_count": null,
   "id": "a06a322d-2bdb-4aaa-9c7d-5a1d0fed04b3",
   "metadata": {},
   "outputs": [],
   "source": []
  },
  {
   "cell_type": "code",
   "execution_count": 147,
   "id": "456c65d2-a29a-42ad-a829-8966491caec7",
   "metadata": {},
   "outputs": [
    {
     "name": "stderr",
     "output_type": "stream",
     "text": [
      "/Users/terekhind/Desktop/Studying/USI/Second_semester/Security aspects of ML /Assignment_2/.venv/lib/python3.9/site-packages/sklearn/ensemble/_base.py:166: FutureWarning: `base_estimator` was renamed to `estimator` in version 1.2 and will be removed in 1.4.\n",
      "  warnings.warn(\n"
     ]
    },
    {
     "data": {
      "text/html": [
       "<style>#sk-container-id-7 {color: black;background-color: white;}#sk-container-id-7 pre{padding: 0;}#sk-container-id-7 div.sk-toggleable {background-color: white;}#sk-container-id-7 label.sk-toggleable__label {cursor: pointer;display: block;width: 100%;margin-bottom: 0;padding: 0.3em;box-sizing: border-box;text-align: center;}#sk-container-id-7 label.sk-toggleable__label-arrow:before {content: \"▸\";float: left;margin-right: 0.25em;color: #696969;}#sk-container-id-7 label.sk-toggleable__label-arrow:hover:before {color: black;}#sk-container-id-7 div.sk-estimator:hover label.sk-toggleable__label-arrow:before {color: black;}#sk-container-id-7 div.sk-toggleable__content {max-height: 0;max-width: 0;overflow: hidden;text-align: left;background-color: #f0f8ff;}#sk-container-id-7 div.sk-toggleable__content pre {margin: 0.2em;color: black;border-radius: 0.25em;background-color: #f0f8ff;}#sk-container-id-7 input.sk-toggleable__control:checked~div.sk-toggleable__content {max-height: 200px;max-width: 100%;overflow: auto;}#sk-container-id-7 input.sk-toggleable__control:checked~label.sk-toggleable__label-arrow:before {content: \"▾\";}#sk-container-id-7 div.sk-estimator input.sk-toggleable__control:checked~label.sk-toggleable__label {background-color: #d4ebff;}#sk-container-id-7 div.sk-label input.sk-toggleable__control:checked~label.sk-toggleable__label {background-color: #d4ebff;}#sk-container-id-7 input.sk-hidden--visually {border: 0;clip: rect(1px 1px 1px 1px);clip: rect(1px, 1px, 1px, 1px);height: 1px;margin: -1px;overflow: hidden;padding: 0;position: absolute;width: 1px;}#sk-container-id-7 div.sk-estimator {font-family: monospace;background-color: #f0f8ff;border: 1px dotted black;border-radius: 0.25em;box-sizing: border-box;margin-bottom: 0.5em;}#sk-container-id-7 div.sk-estimator:hover {background-color: #d4ebff;}#sk-container-id-7 div.sk-parallel-item::after {content: \"\";width: 100%;border-bottom: 1px solid gray;flex-grow: 1;}#sk-container-id-7 div.sk-label:hover label.sk-toggleable__label {background-color: #d4ebff;}#sk-container-id-7 div.sk-serial::before {content: \"\";position: absolute;border-left: 1px solid gray;box-sizing: border-box;top: 0;bottom: 0;left: 50%;z-index: 0;}#sk-container-id-7 div.sk-serial {display: flex;flex-direction: column;align-items: center;background-color: white;padding-right: 0.2em;padding-left: 0.2em;position: relative;}#sk-container-id-7 div.sk-item {position: relative;z-index: 1;}#sk-container-id-7 div.sk-parallel {display: flex;align-items: stretch;justify-content: center;background-color: white;position: relative;}#sk-container-id-7 div.sk-item::before, #sk-container-id-7 div.sk-parallel-item::before {content: \"\";position: absolute;border-left: 1px solid gray;box-sizing: border-box;top: 0;bottom: 0;left: 50%;z-index: -1;}#sk-container-id-7 div.sk-parallel-item {display: flex;flex-direction: column;z-index: 1;position: relative;background-color: white;}#sk-container-id-7 div.sk-parallel-item:first-child::after {align-self: flex-end;width: 50%;}#sk-container-id-7 div.sk-parallel-item:last-child::after {align-self: flex-start;width: 50%;}#sk-container-id-7 div.sk-parallel-item:only-child::after {width: 0;}#sk-container-id-7 div.sk-dashed-wrapped {border: 1px dashed gray;margin: 0 0.4em 0.5em 0.4em;box-sizing: border-box;padding-bottom: 0.4em;background-color: white;}#sk-container-id-7 div.sk-label label {font-family: monospace;font-weight: bold;display: inline-block;line-height: 1.2em;}#sk-container-id-7 div.sk-label-container {text-align: center;}#sk-container-id-7 div.sk-container {/* jupyter's `normalize.less` sets `[hidden] { display: none; }` but bootstrap.min.css set `[hidden] { display: none !important; }` so we also need the `!important` here to be able to override the default hidden behavior on the sphinx rendered scikit-learn.org. See: https://github.com/scikit-learn/scikit-learn/issues/21755 */display: inline-block !important;position: relative;}#sk-container-id-7 div.sk-text-repr-fallback {display: none;}</style><div id=\"sk-container-id-7\" class=\"sk-top-container\"><div class=\"sk-text-repr-fallback\"><pre>BaggingClassifier(base_estimator=GradientBoostingClassifier(max_depth=7,\n",
       "                                                            max_features=&#x27;sqrt&#x27;,\n",
       "                                                            n_estimators=200,\n",
       "                                                            random_state=0),\n",
       "                  random_state=42)</pre><b>In a Jupyter environment, please rerun this cell to show the HTML representation or trust the notebook. <br />On GitHub, the HTML representation is unable to render, please try loading this page with nbviewer.org.</b></div><div class=\"sk-container\" hidden><div class=\"sk-item sk-dashed-wrapped\"><div class=\"sk-label-container\"><div class=\"sk-label sk-toggleable\"><input class=\"sk-toggleable__control sk-hidden--visually\" id=\"sk-estimator-id-9\" type=\"checkbox\" ><label for=\"sk-estimator-id-9\" class=\"sk-toggleable__label sk-toggleable__label-arrow\">BaggingClassifier</label><div class=\"sk-toggleable__content\"><pre>BaggingClassifier(base_estimator=GradientBoostingClassifier(max_depth=7,\n",
       "                                                            max_features=&#x27;sqrt&#x27;,\n",
       "                                                            n_estimators=200,\n",
       "                                                            random_state=0),\n",
       "                  random_state=42)</pre></div></div></div><div class=\"sk-parallel\"><div class=\"sk-parallel-item\"><div class=\"sk-item\"><div class=\"sk-label-container\"><div class=\"sk-label sk-toggleable\"><input class=\"sk-toggleable__control sk-hidden--visually\" id=\"sk-estimator-id-10\" type=\"checkbox\" ><label for=\"sk-estimator-id-10\" class=\"sk-toggleable__label sk-toggleable__label-arrow\">base_estimator: GradientBoostingClassifier</label><div class=\"sk-toggleable__content\"><pre>GradientBoostingClassifier(max_depth=7, max_features=&#x27;sqrt&#x27;, n_estimators=200,\n",
       "                           random_state=0)</pre></div></div></div><div class=\"sk-serial\"><div class=\"sk-item\"><div class=\"sk-estimator sk-toggleable\"><input class=\"sk-toggleable__control sk-hidden--visually\" id=\"sk-estimator-id-11\" type=\"checkbox\" ><label for=\"sk-estimator-id-11\" class=\"sk-toggleable__label sk-toggleable__label-arrow\">GradientBoostingClassifier</label><div class=\"sk-toggleable__content\"><pre>GradientBoostingClassifier(max_depth=7, max_features=&#x27;sqrt&#x27;, n_estimators=200,\n",
       "                           random_state=0)</pre></div></div></div></div></div></div></div></div></div></div>"
      ],
      "text/plain": [
       "BaggingClassifier(base_estimator=GradientBoostingClassifier(max_depth=7,\n",
       "                                                            max_features='sqrt',\n",
       "                                                            n_estimators=200,\n",
       "                                                            random_state=0),\n",
       "                  random_state=42)"
      ]
     },
     "execution_count": 147,
     "metadata": {},
     "output_type": "execute_result"
    }
   ],
   "source": [
    "clf = GradientBoostingClassifier(n_estimators=200, learning_rate= 0.1 , random_state=0, max_depth=7, max_features='sqrt')\n",
    "\n",
    "ensemble_model = BaggingClassifier(base_estimator=clf, n_estimators=10, random_state=42)\n",
    "\n",
    "ensemble_model.fit(X_train, y_train)"
   ]
  },
  {
   "cell_type": "code",
   "execution_count": 148,
   "id": "de154b51-9a69-41ac-8aba-7486836bdb10",
   "metadata": {},
   "outputs": [
    {
     "name": "stdout",
     "output_type": "stream",
     "text": [
      "Scores for Text data\n",
      "Accuracy: 0.9903558363817758\n",
      "Precision: 0.9954627949183303\n",
      "Recall: 0.9785905441570026\n",
      "F1 score: 0.9903387896555513\n"
     ]
    }
   ],
   "source": [
    "y_pred_test = ensemble_model.predict(X_test)\n",
    "print('Scores for Text data')\n",
    "print(\"Accuracy:\",metrics.accuracy_score(y_test, y_pred_test))\n",
    "print(\"Precision:\",metrics.precision_score(y_test, y_pred_test))\n",
    "print(\"Recall:\",metrics.recall_score(y_test, y_pred_test))\n",
    "print(\"F1 score:\",metrics.f1_score(y_test, y_pred_test,  average='weighted'))"
   ]
  },
  {
   "cell_type": "code",
   "execution_count": 149,
   "id": "c95fdef1-e9ab-4923-8b35-5259ff4359c8",
   "metadata": {},
   "outputs": [],
   "source": [
    "X_test['predicted_class'] = y_pred_test"
   ]
  },
  {
   "cell_type": "code",
   "execution_count": 150,
   "id": "d1a12de3-5b7c-46cd-a7f5-d2094d5e3933",
   "metadata": {},
   "outputs": [
    {
     "data": {
      "text/plain": [
       "2021    1\n",
       "Name: predicted_class, dtype: int64"
      ]
     },
     "execution_count": 150,
     "metadata": {},
     "output_type": "execute_result"
    }
   ],
   "source": [
    "X_test.loc[[2021]]['predicted_class']"
   ]
  },
  {
   "attachments": {},
   "cell_type": "markdown",
   "id": "febd8d6b-fd77-442c-9f7f-84e125af8286",
   "metadata": {},
   "source": [
    "## I did it. Model was able to recognize the malicious program even though we tried to bypass the model with changed features"
   ]
  },
  {
   "cell_type": "code",
   "execution_count": null,
   "id": "afef6472-e611-4f51-95a1-fb087c5e0fbb",
   "metadata": {},
   "outputs": [],
   "source": []
  },
  {
   "cell_type": "code",
   "execution_count": null,
   "id": "640e18fb-bbc8-4f01-87e0-c9deda961390",
   "metadata": {},
   "outputs": [],
   "source": []
  },
  {
   "attachments": {},
   "cell_type": "markdown",
   "id": "4a83897c-c82c-46b7-9b87-401b6776cf3c",
   "metadata": {},
   "source": [
    "## 2. Hardware Trojan Detection"
   ]
  },
  {
   "cell_type": "code",
   "execution_count": 6,
   "id": "df22fd6f-54ba-45a7-8fac-0350486e34c3",
   "metadata": {},
   "outputs": [],
   "source": [
    "# https://www.kaggle.com/datasets/subhajournal/trojan-detection"
   ]
  },
  {
   "cell_type": "code",
   "execution_count": 241,
   "id": "db87753b-6c5d-4620-ae11-a3d4e6e90b4d",
   "metadata": {},
   "outputs": [],
   "source": [
    "import pandas as pd\n",
    "import pandas as pd\n",
    "from sklearn.model_selection import train_test_split, cross_val_score, GridSearchCV\n",
    "from sklearn.pipeline import Pipeline\n",
    "from sklearn.preprocessing import StandardScaler\n",
    "from sklearn.feature_selection import SelectKBest, f_classif\n",
    "from sklearn.ensemble import RandomForestClassifier, GradientBoostingClassifier\n",
    "from sklearn.metrics import accuracy_score, precision_score, recall_score, f1_score, roc_auc_score\n",
    "\n",
    "from xgboost import XGBClassifier\n",
    "\n"
   ]
  },
  {
   "cell_type": "code",
   "execution_count": 242,
   "id": "eb9bbcb3-1f1a-4b98-a333-f9b6bdf4f434",
   "metadata": {},
   "outputs": [],
   "source": [
    "df_trojan = pd.read_csv('./hardware_trojan/Trojan_Detection.csv')"
   ]
  },
  {
   "cell_type": "code",
   "execution_count": 243,
   "id": "7a042efa-237a-4628-ac0b-a3bf918b18f2",
   "metadata": {},
   "outputs": [
    {
     "data": {
      "text/html": [
       "<div>\n",
       "<style scoped>\n",
       "    .dataframe tbody tr th:only-of-type {\n",
       "        vertical-align: middle;\n",
       "    }\n",
       "\n",
       "    .dataframe tbody tr th {\n",
       "        vertical-align: top;\n",
       "    }\n",
       "\n",
       "    .dataframe thead th {\n",
       "        text-align: right;\n",
       "    }\n",
       "</style>\n",
       "<table border=\"1\" class=\"dataframe\">\n",
       "  <thead>\n",
       "    <tr style=\"text-align: right;\">\n",
       "      <th></th>\n",
       "      <th>Unnamed: 0</th>\n",
       "      <th>Flow ID</th>\n",
       "      <th>Source IP</th>\n",
       "      <th>Source Port</th>\n",
       "      <th>Destination IP</th>\n",
       "      <th>Destination Port</th>\n",
       "      <th>Protocol</th>\n",
       "      <th>Timestamp</th>\n",
       "      <th>Flow Duration</th>\n",
       "      <th>Total Fwd Packets</th>\n",
       "      <th>...</th>\n",
       "      <th>min_seg_size_forward</th>\n",
       "      <th>Active Mean</th>\n",
       "      <th>Active Std</th>\n",
       "      <th>Active Max</th>\n",
       "      <th>Active Min</th>\n",
       "      <th>Idle Mean</th>\n",
       "      <th>Idle Std</th>\n",
       "      <th>Idle Max</th>\n",
       "      <th>Idle Min</th>\n",
       "      <th>Class</th>\n",
       "    </tr>\n",
       "  </thead>\n",
       "  <tbody>\n",
       "    <tr>\n",
       "      <th>0</th>\n",
       "      <td>73217</td>\n",
       "      <td>10.42.0.42-121.14.255.84-49975-80-6</td>\n",
       "      <td>10.42.0.42</td>\n",
       "      <td>49975</td>\n",
       "      <td>121.14.255.84</td>\n",
       "      <td>80</td>\n",
       "      <td>6</td>\n",
       "      <td>17/07/2017 01:18:33</td>\n",
       "      <td>10743584</td>\n",
       "      <td>4</td>\n",
       "      <td>...</td>\n",
       "      <td>20</td>\n",
       "      <td>0.0</td>\n",
       "      <td>0.0</td>\n",
       "      <td>0.0</td>\n",
       "      <td>0.0</td>\n",
       "      <td>0.0</td>\n",
       "      <td>0.0</td>\n",
       "      <td>0.0</td>\n",
       "      <td>0.0</td>\n",
       "      <td>Trojan</td>\n",
       "    </tr>\n",
       "    <tr>\n",
       "      <th>1</th>\n",
       "      <td>72089</td>\n",
       "      <td>172.217.6.226-10.42.0.42-443-49169-17</td>\n",
       "      <td>10.42.0.42</td>\n",
       "      <td>49169</td>\n",
       "      <td>172.217.6.226</td>\n",
       "      <td>443</td>\n",
       "      <td>17</td>\n",
       "      <td>17/07/2017 10:25:25</td>\n",
       "      <td>254217</td>\n",
       "      <td>6</td>\n",
       "      <td>...</td>\n",
       "      <td>20</td>\n",
       "      <td>0.0</td>\n",
       "      <td>0.0</td>\n",
       "      <td>0.0</td>\n",
       "      <td>0.0</td>\n",
       "      <td>0.0</td>\n",
       "      <td>0.0</td>\n",
       "      <td>0.0</td>\n",
       "      <td>0.0</td>\n",
       "      <td>Trojan</td>\n",
       "    </tr>\n",
       "    <tr>\n",
       "      <th>2</th>\n",
       "      <td>96676</td>\n",
       "      <td>10.42.0.1-10.42.0.42-53-37749-17</td>\n",
       "      <td>10.42.0.42</td>\n",
       "      <td>37749</td>\n",
       "      <td>10.42.0.1</td>\n",
       "      <td>53</td>\n",
       "      <td>17</td>\n",
       "      <td>30/06/2017 07:16:12</td>\n",
       "      <td>1023244</td>\n",
       "      <td>1</td>\n",
       "      <td>...</td>\n",
       "      <td>32</td>\n",
       "      <td>0.0</td>\n",
       "      <td>0.0</td>\n",
       "      <td>0.0</td>\n",
       "      <td>0.0</td>\n",
       "      <td>0.0</td>\n",
       "      <td>0.0</td>\n",
       "      <td>0.0</td>\n",
       "      <td>0.0</td>\n",
       "      <td>Benign</td>\n",
       "    </tr>\n",
       "    <tr>\n",
       "      <th>3</th>\n",
       "      <td>42891</td>\n",
       "      <td>10.42.0.1-10.42.0.42-53-41352-17</td>\n",
       "      <td>10.42.0.42</td>\n",
       "      <td>41352</td>\n",
       "      <td>10.42.0.1</td>\n",
       "      <td>53</td>\n",
       "      <td>17</td>\n",
       "      <td>13/07/2017 03:48:44</td>\n",
       "      <td>286483</td>\n",
       "      <td>1</td>\n",
       "      <td>...</td>\n",
       "      <td>20</td>\n",
       "      <td>0.0</td>\n",
       "      <td>0.0</td>\n",
       "      <td>0.0</td>\n",
       "      <td>0.0</td>\n",
       "      <td>0.0</td>\n",
       "      <td>0.0</td>\n",
       "      <td>0.0</td>\n",
       "      <td>0.0</td>\n",
       "      <td>Trojan</td>\n",
       "    </tr>\n",
       "  </tbody>\n",
       "</table>\n",
       "<p>4 rows × 86 columns</p>\n",
       "</div>"
      ],
      "text/plain": [
       "   Unnamed: 0                                Flow ID   Source IP  \\\n",
       "0       73217    10.42.0.42-121.14.255.84-49975-80-6  10.42.0.42   \n",
       "1       72089  172.217.6.226-10.42.0.42-443-49169-17  10.42.0.42   \n",
       "2       96676       10.42.0.1-10.42.0.42-53-37749-17  10.42.0.42   \n",
       "3       42891       10.42.0.1-10.42.0.42-53-41352-17  10.42.0.42   \n",
       "\n",
       "    Source Port  Destination IP   Destination Port   Protocol  \\\n",
       "0         49975   121.14.255.84                 80          6   \n",
       "1         49169   172.217.6.226                443         17   \n",
       "2         37749       10.42.0.1                 53         17   \n",
       "3         41352       10.42.0.1                 53         17   \n",
       "\n",
       "             Timestamp   Flow Duration   Total Fwd Packets  ...  \\\n",
       "0  17/07/2017 01:18:33        10743584                   4  ...   \n",
       "1  17/07/2017 10:25:25          254217                   6  ...   \n",
       "2  30/06/2017 07:16:12         1023244                   1  ...   \n",
       "3  13/07/2017 03:48:44          286483                   1  ...   \n",
       "\n",
       "    min_seg_size_forward  Active Mean   Active Std   Active Max   Active Min  \\\n",
       "0                     20          0.0          0.0          0.0          0.0   \n",
       "1                     20          0.0          0.0          0.0          0.0   \n",
       "2                     32          0.0          0.0          0.0          0.0   \n",
       "3                     20          0.0          0.0          0.0          0.0   \n",
       "\n",
       "   Idle Mean   Idle Std   Idle Max   Idle Min   Class  \n",
       "0        0.0        0.0        0.0        0.0  Trojan  \n",
       "1        0.0        0.0        0.0        0.0  Trojan  \n",
       "2        0.0        0.0        0.0        0.0  Benign  \n",
       "3        0.0        0.0        0.0        0.0  Trojan  \n",
       "\n",
       "[4 rows x 86 columns]"
      ]
     },
     "execution_count": 243,
     "metadata": {},
     "output_type": "execute_result"
    }
   ],
   "source": [
    "df_trojan.head(4)"
   ]
  },
  {
   "cell_type": "code",
   "execution_count": 244,
   "id": "a60dcf09-98fe-40c6-b257-aae03af8558e",
   "metadata": {},
   "outputs": [],
   "source": [
    "df_trojan = df_trojan.dropna()\n",
    "\n",
    "df_trojan = df_trojan.drop([\"Unnamed: 0\"], axis = 1)"
   ]
  },
  {
   "cell_type": "code",
   "execution_count": 245,
   "id": "782dd569-dabb-4ca4-8671-d06d0f7b82c7",
   "metadata": {},
   "outputs": [
    {
     "data": {
      "text/html": [
       "<div>\n",
       "<style scoped>\n",
       "    .dataframe tbody tr th:only-of-type {\n",
       "        vertical-align: middle;\n",
       "    }\n",
       "\n",
       "    .dataframe tbody tr th {\n",
       "        vertical-align: top;\n",
       "    }\n",
       "\n",
       "    .dataframe thead th {\n",
       "        text-align: right;\n",
       "    }\n",
       "</style>\n",
       "<table border=\"1\" class=\"dataframe\">\n",
       "  <thead>\n",
       "    <tr style=\"text-align: right;\">\n",
       "      <th></th>\n",
       "      <th>Flow ID</th>\n",
       "      <th>Source IP</th>\n",
       "      <th>Source Port</th>\n",
       "      <th>Destination IP</th>\n",
       "      <th>Destination Port</th>\n",
       "      <th>Protocol</th>\n",
       "      <th>Timestamp</th>\n",
       "      <th>Flow Duration</th>\n",
       "      <th>Total Fwd Packets</th>\n",
       "      <th>Total Backward Packets</th>\n",
       "      <th>...</th>\n",
       "      <th>min_seg_size_forward</th>\n",
       "      <th>Active Mean</th>\n",
       "      <th>Active Std</th>\n",
       "      <th>Active Max</th>\n",
       "      <th>Active Min</th>\n",
       "      <th>Idle Mean</th>\n",
       "      <th>Idle Std</th>\n",
       "      <th>Idle Max</th>\n",
       "      <th>Idle Min</th>\n",
       "      <th>Class</th>\n",
       "    </tr>\n",
       "  </thead>\n",
       "  <tbody>\n",
       "    <tr>\n",
       "      <th>0</th>\n",
       "      <td>10.42.0.42-121.14.255.84-49975-80-6</td>\n",
       "      <td>10.42.0.42</td>\n",
       "      <td>49975</td>\n",
       "      <td>121.14.255.84</td>\n",
       "      <td>80</td>\n",
       "      <td>6</td>\n",
       "      <td>17/07/2017 01:18:33</td>\n",
       "      <td>10743584</td>\n",
       "      <td>4</td>\n",
       "      <td>4</td>\n",
       "      <td>...</td>\n",
       "      <td>20</td>\n",
       "      <td>0.0</td>\n",
       "      <td>0.0</td>\n",
       "      <td>0.0</td>\n",
       "      <td>0.0</td>\n",
       "      <td>0.0</td>\n",
       "      <td>0.0</td>\n",
       "      <td>0.0</td>\n",
       "      <td>0.0</td>\n",
       "      <td>Trojan</td>\n",
       "    </tr>\n",
       "    <tr>\n",
       "      <th>1</th>\n",
       "      <td>172.217.6.226-10.42.0.42-443-49169-17</td>\n",
       "      <td>10.42.0.42</td>\n",
       "      <td>49169</td>\n",
       "      <td>172.217.6.226</td>\n",
       "      <td>443</td>\n",
       "      <td>17</td>\n",
       "      <td>17/07/2017 10:25:25</td>\n",
       "      <td>254217</td>\n",
       "      <td>6</td>\n",
       "      <td>7</td>\n",
       "      <td>...</td>\n",
       "      <td>20</td>\n",
       "      <td>0.0</td>\n",
       "      <td>0.0</td>\n",
       "      <td>0.0</td>\n",
       "      <td>0.0</td>\n",
       "      <td>0.0</td>\n",
       "      <td>0.0</td>\n",
       "      <td>0.0</td>\n",
       "      <td>0.0</td>\n",
       "      <td>Trojan</td>\n",
       "    </tr>\n",
       "    <tr>\n",
       "      <th>2</th>\n",
       "      <td>10.42.0.1-10.42.0.42-53-37749-17</td>\n",
       "      <td>10.42.0.42</td>\n",
       "      <td>37749</td>\n",
       "      <td>10.42.0.1</td>\n",
       "      <td>53</td>\n",
       "      <td>17</td>\n",
       "      <td>30/06/2017 07:16:12</td>\n",
       "      <td>1023244</td>\n",
       "      <td>1</td>\n",
       "      <td>1</td>\n",
       "      <td>...</td>\n",
       "      <td>32</td>\n",
       "      <td>0.0</td>\n",
       "      <td>0.0</td>\n",
       "      <td>0.0</td>\n",
       "      <td>0.0</td>\n",
       "      <td>0.0</td>\n",
       "      <td>0.0</td>\n",
       "      <td>0.0</td>\n",
       "      <td>0.0</td>\n",
       "      <td>Benign</td>\n",
       "    </tr>\n",
       "  </tbody>\n",
       "</table>\n",
       "<p>3 rows × 85 columns</p>\n",
       "</div>"
      ],
      "text/plain": [
       "                                 Flow ID   Source IP   Source Port  \\\n",
       "0    10.42.0.42-121.14.255.84-49975-80-6  10.42.0.42         49975   \n",
       "1  172.217.6.226-10.42.0.42-443-49169-17  10.42.0.42         49169   \n",
       "2       10.42.0.1-10.42.0.42-53-37749-17  10.42.0.42         37749   \n",
       "\n",
       "   Destination IP   Destination Port   Protocol            Timestamp  \\\n",
       "0   121.14.255.84                 80          6  17/07/2017 01:18:33   \n",
       "1   172.217.6.226                443         17  17/07/2017 10:25:25   \n",
       "2       10.42.0.1                 53         17  30/06/2017 07:16:12   \n",
       "\n",
       "    Flow Duration   Total Fwd Packets   Total Backward Packets  ...  \\\n",
       "0        10743584                   4                        4  ...   \n",
       "1          254217                   6                        7  ...   \n",
       "2         1023244                   1                        1  ...   \n",
       "\n",
       "    min_seg_size_forward  Active Mean   Active Std   Active Max   Active Min  \\\n",
       "0                     20          0.0          0.0          0.0          0.0   \n",
       "1                     20          0.0          0.0          0.0          0.0   \n",
       "2                     32          0.0          0.0          0.0          0.0   \n",
       "\n",
       "   Idle Mean   Idle Std   Idle Max   Idle Min   Class  \n",
       "0        0.0        0.0        0.0        0.0  Trojan  \n",
       "1        0.0        0.0        0.0        0.0  Trojan  \n",
       "2        0.0        0.0        0.0        0.0  Benign  \n",
       "\n",
       "[3 rows x 85 columns]"
      ]
     },
     "execution_count": 245,
     "metadata": {},
     "output_type": "execute_result"
    }
   ],
   "source": [
    "df_trojan.head(3)"
   ]
  },
  {
   "cell_type": "code",
   "execution_count": 246,
   "id": "d845977b-089f-4ad4-9e3d-2da4a1f63dd4",
   "metadata": {},
   "outputs": [],
   "source": [
    "def convert_target(x):\n",
    "    if x == 'Benign':\n",
    "        return 0\n",
    "    else:\n",
    "        return 1\n",
    "    \n",
    "df_trojan['Class'] = df_trojan['Class'].apply(lambda x: convert_target(x))"
   ]
  },
  {
   "cell_type": "code",
   "execution_count": 247,
   "id": "968ee35f-f644-496c-908a-17017d6c4bb2",
   "metadata": {},
   "outputs": [
    {
     "data": {
      "text/html": [
       "<div>\n",
       "<style scoped>\n",
       "    .dataframe tbody tr th:only-of-type {\n",
       "        vertical-align: middle;\n",
       "    }\n",
       "\n",
       "    .dataframe tbody tr th {\n",
       "        vertical-align: top;\n",
       "    }\n",
       "\n",
       "    .dataframe thead th {\n",
       "        text-align: right;\n",
       "    }\n",
       "</style>\n",
       "<table border=\"1\" class=\"dataframe\">\n",
       "  <thead>\n",
       "    <tr style=\"text-align: right;\">\n",
       "      <th></th>\n",
       "      <th>Flow ID</th>\n",
       "      <th>Source IP</th>\n",
       "      <th>Source Port</th>\n",
       "      <th>Destination IP</th>\n",
       "      <th>Destination Port</th>\n",
       "      <th>Protocol</th>\n",
       "      <th>Timestamp</th>\n",
       "      <th>Flow Duration</th>\n",
       "      <th>Total Fwd Packets</th>\n",
       "      <th>Total Backward Packets</th>\n",
       "      <th>...</th>\n",
       "      <th>min_seg_size_forward</th>\n",
       "      <th>Active Mean</th>\n",
       "      <th>Active Std</th>\n",
       "      <th>Active Max</th>\n",
       "      <th>Active Min</th>\n",
       "      <th>Idle Mean</th>\n",
       "      <th>Idle Std</th>\n",
       "      <th>Idle Max</th>\n",
       "      <th>Idle Min</th>\n",
       "      <th>Class</th>\n",
       "    </tr>\n",
       "  </thead>\n",
       "  <tbody>\n",
       "    <tr>\n",
       "      <th>0</th>\n",
       "      <td>10.42.0.42-121.14.255.84-49975-80-6</td>\n",
       "      <td>10.42.0.42</td>\n",
       "      <td>49975</td>\n",
       "      <td>121.14.255.84</td>\n",
       "      <td>80</td>\n",
       "      <td>6</td>\n",
       "      <td>17/07/2017 01:18:33</td>\n",
       "      <td>10743584</td>\n",
       "      <td>4</td>\n",
       "      <td>4</td>\n",
       "      <td>...</td>\n",
       "      <td>20</td>\n",
       "      <td>0.0</td>\n",
       "      <td>0.0</td>\n",
       "      <td>0.0</td>\n",
       "      <td>0.0</td>\n",
       "      <td>0.0</td>\n",
       "      <td>0.0</td>\n",
       "      <td>0.0</td>\n",
       "      <td>0.0</td>\n",
       "      <td>1</td>\n",
       "    </tr>\n",
       "    <tr>\n",
       "      <th>1</th>\n",
       "      <td>172.217.6.226-10.42.0.42-443-49169-17</td>\n",
       "      <td>10.42.0.42</td>\n",
       "      <td>49169</td>\n",
       "      <td>172.217.6.226</td>\n",
       "      <td>443</td>\n",
       "      <td>17</td>\n",
       "      <td>17/07/2017 10:25:25</td>\n",
       "      <td>254217</td>\n",
       "      <td>6</td>\n",
       "      <td>7</td>\n",
       "      <td>...</td>\n",
       "      <td>20</td>\n",
       "      <td>0.0</td>\n",
       "      <td>0.0</td>\n",
       "      <td>0.0</td>\n",
       "      <td>0.0</td>\n",
       "      <td>0.0</td>\n",
       "      <td>0.0</td>\n",
       "      <td>0.0</td>\n",
       "      <td>0.0</td>\n",
       "      <td>1</td>\n",
       "    </tr>\n",
       "    <tr>\n",
       "      <th>2</th>\n",
       "      <td>10.42.0.1-10.42.0.42-53-37749-17</td>\n",
       "      <td>10.42.0.42</td>\n",
       "      <td>37749</td>\n",
       "      <td>10.42.0.1</td>\n",
       "      <td>53</td>\n",
       "      <td>17</td>\n",
       "      <td>30/06/2017 07:16:12</td>\n",
       "      <td>1023244</td>\n",
       "      <td>1</td>\n",
       "      <td>1</td>\n",
       "      <td>...</td>\n",
       "      <td>32</td>\n",
       "      <td>0.0</td>\n",
       "      <td>0.0</td>\n",
       "      <td>0.0</td>\n",
       "      <td>0.0</td>\n",
       "      <td>0.0</td>\n",
       "      <td>0.0</td>\n",
       "      <td>0.0</td>\n",
       "      <td>0.0</td>\n",
       "      <td>0</td>\n",
       "    </tr>\n",
       "  </tbody>\n",
       "</table>\n",
       "<p>3 rows × 85 columns</p>\n",
       "</div>"
      ],
      "text/plain": [
       "                                 Flow ID   Source IP   Source Port  \\\n",
       "0    10.42.0.42-121.14.255.84-49975-80-6  10.42.0.42         49975   \n",
       "1  172.217.6.226-10.42.0.42-443-49169-17  10.42.0.42         49169   \n",
       "2       10.42.0.1-10.42.0.42-53-37749-17  10.42.0.42         37749   \n",
       "\n",
       "   Destination IP   Destination Port   Protocol            Timestamp  \\\n",
       "0   121.14.255.84                 80          6  17/07/2017 01:18:33   \n",
       "1   172.217.6.226                443         17  17/07/2017 10:25:25   \n",
       "2       10.42.0.1                 53         17  30/06/2017 07:16:12   \n",
       "\n",
       "    Flow Duration   Total Fwd Packets   Total Backward Packets  ...  \\\n",
       "0        10743584                   4                        4  ...   \n",
       "1          254217                   6                        7  ...   \n",
       "2         1023244                   1                        1  ...   \n",
       "\n",
       "    min_seg_size_forward  Active Mean   Active Std   Active Max   Active Min  \\\n",
       "0                     20          0.0          0.0          0.0          0.0   \n",
       "1                     20          0.0          0.0          0.0          0.0   \n",
       "2                     32          0.0          0.0          0.0          0.0   \n",
       "\n",
       "   Idle Mean   Idle Std   Idle Max   Idle Min  Class  \n",
       "0        0.0        0.0        0.0        0.0      1  \n",
       "1        0.0        0.0        0.0        0.0      1  \n",
       "2        0.0        0.0        0.0        0.0      0  \n",
       "\n",
       "[3 rows x 85 columns]"
      ]
     },
     "execution_count": 247,
     "metadata": {},
     "output_type": "execute_result"
    }
   ],
   "source": [
    "df_trojan.head(3)"
   ]
  },
  {
   "cell_type": "code",
   "execution_count": 248,
   "id": "7d972882-4a33-476d-a627-2b955b548b6a",
   "metadata": {},
   "outputs": [],
   "source": [
    "good_cols = []\n",
    "for col in df_trojan.columns:\n",
    "    good_cols.append(col.strip())\n",
    "df_trojan.columns = good_cols"
   ]
  },
  {
   "cell_type": "code",
   "execution_count": 249,
   "id": "d36f58f0-1f05-413f-a21a-0aa4b86ba49a",
   "metadata": {
    "tags": []
   },
   "outputs": [
    {
     "data": {
      "text/plain": [
       "Index(['Flow ID', 'Source IP', 'Source Port', 'Destination IP',\n",
       "       'Destination Port', 'Protocol', 'Timestamp', 'Flow Duration',\n",
       "       'Total Fwd Packets', 'Total Backward Packets',\n",
       "       'Total Length of Fwd Packets', 'Total Length of Bwd Packets',\n",
       "       'Fwd Packet Length Max', 'Fwd Packet Length Min',\n",
       "       'Fwd Packet Length Mean', 'Fwd Packet Length Std',\n",
       "       'Bwd Packet Length Max', 'Bwd Packet Length Min',\n",
       "       'Bwd Packet Length Mean', 'Bwd Packet Length Std', 'Flow Bytes/s',\n",
       "       'Flow Packets/s', 'Flow IAT Mean', 'Flow IAT Std', 'Flow IAT Max',\n",
       "       'Flow IAT Min', 'Fwd IAT Total', 'Fwd IAT Mean', 'Fwd IAT Std',\n",
       "       'Fwd IAT Max', 'Fwd IAT Min', 'Bwd IAT Total', 'Bwd IAT Mean',\n",
       "       'Bwd IAT Std', 'Bwd IAT Max', 'Bwd IAT Min', 'Fwd PSH Flags',\n",
       "       'Bwd PSH Flags', 'Fwd URG Flags', 'Bwd URG Flags', 'Fwd Header Length',\n",
       "       'Bwd Header Length', 'Fwd Packets/s', 'Bwd Packets/s',\n",
       "       'Min Packet Length', 'Max Packet Length', 'Packet Length Mean',\n",
       "       'Packet Length Std', 'Packet Length Variance', 'FIN Flag Count',\n",
       "       'SYN Flag Count', 'RST Flag Count', 'PSH Flag Count', 'ACK Flag Count',\n",
       "       'URG Flag Count', 'CWE Flag Count', 'ECE Flag Count', 'Down/Up Ratio',\n",
       "       'Average Packet Size', 'Avg Fwd Segment Size', 'Avg Bwd Segment Size',\n",
       "       'Fwd Header Length.1', 'Fwd Avg Bytes/Bulk', 'Fwd Avg Packets/Bulk',\n",
       "       'Fwd Avg Bulk Rate', 'Bwd Avg Bytes/Bulk', 'Bwd Avg Packets/Bulk',\n",
       "       'Bwd Avg Bulk Rate', 'Subflow Fwd Packets', 'Subflow Fwd Bytes',\n",
       "       'Subflow Bwd Packets', 'Subflow Bwd Bytes', 'Init_Win_bytes_forward',\n",
       "       'Init_Win_bytes_backward', 'act_data_pkt_fwd', 'min_seg_size_forward',\n",
       "       'Active Mean', 'Active Std', 'Active Max', 'Active Min', 'Idle Mean',\n",
       "       'Idle Std', 'Idle Max', 'Idle Min', 'Class'],\n",
       "      dtype='object')"
      ]
     },
     "execution_count": 249,
     "metadata": {},
     "output_type": "execute_result"
    }
   ],
   "source": [
    "df_trojan.columns"
   ]
  },
  {
   "cell_type": "code",
   "execution_count": 250,
   "id": "40494058-8534-4200-9eec-963c73841d8d",
   "metadata": {},
   "outputs": [
    {
     "data": {
      "text/plain": [
       "Class\n",
       "1    90683\n",
       "0    86799\n",
       "Name: count, dtype: int64"
      ]
     },
     "execution_count": 250,
     "metadata": {},
     "output_type": "execute_result"
    }
   ],
   "source": [
    "df_trojan['Class'].value_counts()"
   ]
  },
  {
   "cell_type": "code",
   "execution_count": 251,
   "id": "8437d7fa-b2ee-498d-8d51-c5c858d844d1",
   "metadata": {},
   "outputs": [
    {
     "data": {
      "text/plain": [
       "(177482, 85)"
      ]
     },
     "execution_count": 251,
     "metadata": {},
     "output_type": "execute_result"
    }
   ],
   "source": [
    "df_trojan.shape"
   ]
  },
  {
   "cell_type": "code",
   "execution_count": 153,
   "id": "d8f1201a-53a0-47fc-a6a3-97c4aba35cff",
   "metadata": {},
   "outputs": [],
   "source": [
    "df_trojan = df_trojan.drop_duplicates()"
   ]
  },
  {
   "cell_type": "code",
   "execution_count": 155,
   "id": "b1d53e22-c10f-4c05-bcba-0bbbde148d39",
   "metadata": {},
   "outputs": [
    {
     "name": "stderr",
     "output_type": "stream",
     "text": [
      "/Users/terekhind/opt/anaconda3/lib/python3.9/site-packages/sklearn/feature_selection/_univariate_selection.py:112: UserWarning: Features [33 34 35 47 51 52 58 59 60 61 62 63] are constant.\n",
      "  warnings.warn(\"Features %s are constant.\" % constant_features_idx, UserWarning)\n",
      "/Users/terekhind/opt/anaconda3/lib/python3.9/site-packages/sklearn/feature_selection/_univariate_selection.py:113: RuntimeWarning: invalid value encountered in true_divide\n",
      "  f = msb / msw\n"
     ]
    },
    {
     "name": "stdout",
     "output_type": "stream",
     "text": [
      "Accuracy: 0.6407865453418599\n",
      "Precision: 0.6465683838551157\n",
      "Recall: 0.6483942414174972\n",
      "F1 Score: 0.6474800254347406\n",
      "ROC AUC Score: 0.6406506390892039\n"
     ]
    }
   ],
   "source": [
    "df_trojan = df_trojan.drop(['Flow ID', 'Source IP', 'Destination IP', 'Timestamp'], axis=1)\n",
    "\n",
    "X = df_trojan.drop('Class', axis=1)\n",
    "y = df_trojan['Class']\n",
    "\n",
    "# Split the data into train and test sets\n",
    "X_train, X_test, y_train, y_test = train_test_split(X, y, test_size=0.2, random_state=42)\n",
    "\n",
    "# Define the pipeline\n",
    "pipeline = Pipeline([\n",
    "    ('scaler', StandardScaler()),\n",
    "    ('selector', SelectKBest(f_classif, k=10)),\n",
    "    ('classifier', XGBClassifier())\n",
    "])\n",
    "\n",
    "# Train the pipeline\n",
    "pipeline.fit(X_train, y_train)\n",
    "\n",
    "# Make predictions\n",
    "y_pred = pipeline.predict(X_test)\n",
    "\n",
    "# Calculate accuracy\n",
    "accuracy = accuracy_score(y_test, y_pred)\n",
    "precision = precision_score(y_test, y_pred)\n",
    "recall = recall_score(y_test, y_pred)\n",
    "f1 = f1_score(y_test, y_pred)\n",
    "roc_auc = roc_auc_score(y_test, y_pred)\n",
    "\n",
    "# Print the evaluation metrics\n",
    "print(\"Accuracy:\", accuracy)\n",
    "print(\"Precision:\", precision)\n",
    "print(\"Recall:\", recall)\n",
    "print(\"F1 Score:\", f1)\n",
    "print(\"ROC AUC Score:\", roc_auc)"
   ]
  },
  {
   "cell_type": "code",
   "execution_count": 156,
   "id": "e5a96363-49ca-4362-bf07-91c0195a6c7f",
   "metadata": {},
   "outputs": [],
   "source": [
    "from tqdm import tqdm"
   ]
  },
  {
   "cell_type": "code",
   "execution_count": 157,
   "id": "37c9cbbe-6f09-43e6-a9ba-5e0ad853ec4e",
   "metadata": {},
   "outputs": [],
   "source": [
    "constant_features = X_train.columns[X_train.nunique() == 1]\n",
    "X_train = X_train.drop(constant_features, axis=1)\n",
    "X_test = X_test.drop(constant_features, axis=1)"
   ]
  },
  {
   "cell_type": "code",
   "execution_count": 158,
   "id": "2d067d1e-68ff-4a87-b326-e254ec4210fe",
   "metadata": {},
   "outputs": [
    {
     "name": "stdout",
     "output_type": "stream",
     "text": [
      "Accuracy: 0.6784517001436741\n",
      "Precision: 0.6913729555401981\n",
      "Recall: 0.6647286821705426\n",
      "F1 Score: 0.6777890695573622\n",
      "ROC AUC Score: 0.6786968524117609\n",
      "Best Hyperparameters: {'classifier__max_depth': 7, 'classifier__n_estimators': 300, 'selector__k': 15}\n"
     ]
    }
   ],
   "source": [
    "# Define the pipeline\n",
    "pipeline = Pipeline([\n",
    "    ('scaler', StandardScaler()),\n",
    "    ('selector', SelectKBest(f_classif, k=10)),\n",
    "    ('classifier', XGBClassifier())\n",
    "])\n",
    "\n",
    "# Define the hyperparameters grid for grid search\n",
    "param_grid = {\n",
    "    'selector__k': [5, 15],\n",
    "    'classifier__n_estimators': [100, 300],\n",
    "    'classifier__max_depth': [3, 7]\n",
    "}\n",
    "\n",
    "# Perform grid search\n",
    "grid_search = GridSearchCV(pipeline, param_grid, cv=5)\n",
    "grid_search.fit(X_train, y_train)\n",
    "\n",
    "# Retrieve the best model and its predictions\n",
    "best_model = grid_search.best_estimator_\n",
    "y_pred = best_model.predict(X_test)\n",
    "\n",
    "# Calculate evaluation metrics using the best model\n",
    "accuracy = accuracy_score(y_test, y_pred)\n",
    "precision = precision_score(y_test, y_pred)\n",
    "recall = recall_score(y_test, y_pred)\n",
    "f1 = f1_score(y_test, y_pred)\n",
    "roc_auc = roc_auc_score(y_test, y_pred)\n",
    "\n",
    "# Print the evaluation metrics\n",
    "print(\"Accuracy:\", accuracy)\n",
    "print(\"Precision:\", precision)\n",
    "print(\"Recall:\", recall)\n",
    "print(\"F1 Score:\", f1)\n",
    "print(\"ROC AUC Score:\", roc_auc)\n",
    "\n",
    "# Print the best hyperparameters found by grid search\n",
    "print(\"Best Hyperparameters:\", grid_search.best_params_)"
   ]
  },
  {
   "cell_type": "code",
   "execution_count": 159,
   "id": "3d29c06f-27f3-462a-ab10-e86b9215e3c9",
   "metadata": {
    "tags": []
   },
   "outputs": [
    {
     "name": "stdout",
     "output_type": "stream",
     "text": [
      "Mean CV Accuracy: 0.7229636933478889\n",
      "Accuracy: 0.7304560948812576\n",
      "Precision: 0.7425177061914553\n",
      "Recall: 0.7198228128460686\n",
      "F1 Score: 0.7309941520467836\n",
      "ROC AUC Score: 0.73064605114403\n"
     ]
    }
   ],
   "source": [
    "\n",
    "\n",
    "# Get the best model\n",
    "best_model = grid_search.best_estimator_\n",
    "\n",
    "# Ensemble Methods - Voting Classifier\n",
    "from sklearn.ensemble import VotingClassifier\n",
    "\n",
    "# Define the ensemble model\n",
    "ensemble_model = VotingClassifier(estimators=[\n",
    "    ('rf', RandomForestClassifier()),\n",
    "    ('gb', GradientBoostingClassifier()),\n",
    "    ('best_model', best_model)\n",
    "], voting='soft')\n",
    "\n",
    "# Cross-validation\n",
    "scores = cross_val_score(ensemble_model, X_train, y_train, cv=5, scoring='accuracy')\n",
    "mean_accuracy = scores.mean()\n",
    "\n",
    "# Train the ensemble model\n",
    "ensemble_model.fit(X_train, y_train)\n",
    "\n",
    "# Make predictions\n",
    "y_pred = ensemble_model.predict(X_test)\n",
    "\n",
    "# Calculate evaluation metrics\n",
    "accuracy = accuracy_score(y_test, y_pred)\n",
    "precision = precision_score(y_test, y_pred)\n",
    "recall = recall_score(y_test, y_pred)\n",
    "f1 = f1_score(y_test, y_pred)\n",
    "roc_auc = roc_auc_score(y_test, y_pred)\n",
    "\n",
    "# Print the evaluation metrics\n",
    "print(\"Mean CV Accuracy:\", mean_accuracy)\n",
    "print(\"Accuracy:\", accuracy)\n",
    "print(\"Precision:\", precision)\n",
    "print(\"Recall:\", recall)\n",
    "print(\"F1 Score:\", f1)\n",
    "print(\"ROC AUC Score:\", roc_auc)"
   ]
  },
  {
   "cell_type": "code",
   "execution_count": 160,
   "id": "737ac6b1-e5f4-4514-9038-0e186c5abb9f",
   "metadata": {},
   "outputs": [
    {
     "data": {
      "text/plain": [
       "array([[12929,  4508],\n",
       "       [ 5060, 13000]])"
      ]
     },
     "execution_count": 160,
     "metadata": {},
     "output_type": "execute_result"
    }
   ],
   "source": [
    "metrics.confusion_matrix(y_test, y_pred)"
   ]
  },
  {
   "cell_type": "code",
   "execution_count": 9,
   "id": "5f2f8e66-84ac-4605-b3d2-4a831de9deec",
   "metadata": {},
   "outputs": [
    {
     "data": {
      "text/plain": [
       "Flow ID                          object\n",
       " Source IP                       object\n",
       " Source Port                      int64\n",
       " Destination IP                  object\n",
       " Destination Port                 int64\n",
       " Protocol                         int64\n",
       " Timestamp                       object\n",
       " Flow Duration                    int64\n",
       " Total Fwd Packets                int64\n",
       " Total Backward Packets           int64\n",
       "Total Length of Fwd Packets     float64\n",
       " Total Length of Bwd Packets    float64\n",
       " Fwd Packet Length Max          float64\n",
       " Fwd Packet Length Min          float64\n",
       " Fwd Packet Length Mean         float64\n",
       " Fwd Packet Length Std          float64\n",
       "Bwd Packet Length Max           float64\n",
       " Bwd Packet Length Min          float64\n",
       " Bwd Packet Length Mean         float64\n",
       " Bwd Packet Length Std          float64\n",
       "dtype: object"
      ]
     },
     "execution_count": 9,
     "metadata": {},
     "output_type": "execute_result"
    }
   ],
   "source": [
    "df_trojan.dtypes[:20]"
   ]
  },
  {
   "cell_type": "code",
   "execution_count": null,
   "id": "933cba2a-e1ca-4e50-865f-e347791553fd",
   "metadata": {},
   "outputs": [],
   "source": []
  },
  {
   "cell_type": "code",
   "execution_count": null,
   "id": "ea30c5e6-91c8-4342-9b90-d7b6239dbda4",
   "metadata": {},
   "outputs": [],
   "source": []
  },
  {
   "cell_type": "code",
   "execution_count": null,
   "id": "d245bea3-32ae-4d2e-976c-6a5c1026d582",
   "metadata": {},
   "outputs": [],
   "source": []
  }
 ],
 "metadata": {
  "kernelspec": {
   "display_name": "Python 3 (ipykernel)",
   "language": "python",
   "name": "python3"
  },
  "language_info": {
   "codemirror_mode": {
    "name": "ipython",
    "version": 3
   },
   "file_extension": ".py",
   "mimetype": "text/x-python",
   "name": "python",
   "nbconvert_exporter": "python",
   "pygments_lexer": "ipython3",
   "version": "3.9.13"
  }
 },
 "nbformat": 4,
 "nbformat_minor": 5
}
